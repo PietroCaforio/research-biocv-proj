{
 "cells": [
  {
   "cell_type": "markdown",
   "id": "08d32370",
   "metadata": {},
   "source": [
    "Imports"
   ]
  },
  {
   "cell_type": "code",
   "execution_count": null,
   "id": "5ae692a9",
   "metadata": {},
   "outputs": [
    {
     "ename": "",
     "evalue": "",
     "output_type": "error",
     "traceback": [
      "\u001b[1;31mNon è stato possibile avviare il kernel. \n",
      "\u001b[1;31mNon è possibile avviare il kernel 'research_biocv_proj (Python 3.9.20)' a causa di un timeout nell'attesa dell'uso delle porte. \n",
      "\u001b[1;31mPer altre informazioni, visualizzare Jupyter <a href='command:jupyter.viewOutput'>log</a>."
     ]
    }
   ],
   "source": [
    "import sys, json, random, math\n",
    "from pathlib import Path\n",
    "import numpy as np\n",
    "import torch\n",
    "import torch.nn as nn\n",
    "import torch.nn.functional as F\n",
    "import matplotlib.pyplot as plt\n",
    "\n",
    "# Add project root to PYTHONPATH so relative imports work\n",
    "sys.path.insert(0, \"./\")                      # adjust if notebook lives elsewhere\n",
    "\n",
    "from data.multimodal_features_surv import MultimodalCTWSIDatasetSurv\n",
    "from models.dpe.main_model_nobackbone_surv_new_gcs import madpe_nobackbone\n",
    "from training.losses import CoxLoss\n"
   ]
  },
  {
   "cell_type": "code",
   "execution_count": null,
   "id": "0d29d520",
   "metadata": {},
   "outputs": [],
   "source": [
    "##  ✏️ EDIT THESE PATHS ########################################################\n",
    "CHECKPOINTS = {\n",
    "    \"baseline\": \"checkpoints/model_no_gcs.pt\",\n",
    "    \"gcs\"     : \"checkpoints/model_with_gcs.pt\",\n",
    "}\n",
    "DATA_CFG = dict(                         # mirrors the JSON config you train with\n",
    "    fold                = 0,\n",
    "    split               = \"test\",        # use held-out data for fair comparison\n",
    "    ct_path             = \"../MedImageInsights/embeddings_output_cptacpda\",\n",
    "    wsi_path            = \"../trident/trident_processed/20x_224px_0px_overlap/slide_features_titan\",\n",
    "    labels_splits_path  = \"./data/processed/processed_CPTACUCEC_survival/k=all.tsv\",\n",
    "    missing_modality_prob = 0.0,\n",
    "    missing_modality      = \"both\",\n",
    "    require_both_modalities = True,\n",
    "    pairing_mode           = \"one_to_one\",\n",
    "    allow_repeats          = False,\n",
    "    pairs_per_patient      = None,\n",
    ")\n",
    "BATCH_SIZE_EVAL  = 16          # bigger → faster, mind VRAM\n",
    "GRID_EXTENT      = 1.0         # how far to move (in ‖θ‖ units) along each dir\n",
    "GRID_STEPS       = 51          # resolution: odd ⇒ centre cell is θ*\n",
    "DEVICE           = \"cuda\" if torch.cuda.is_available() else \"cpu\"\n",
    "SEED             = 0\n"
   ]
  },
  {
   "cell_type": "code",
   "execution_count": null,
   "id": "cc712696",
   "metadata": {},
   "outputs": [],
   "source": [
    "\n",
    "SEED = 0\n",
    "\n",
    "\n",
    "def set_global_seed(seed=SEED):\n",
    "    \"\"\"\n",
    "    Set a global seed for reproducibility across different libraries and random number generators.\n",
    "\n",
    "    Args:\n",
    "        seed (int): Seed value to be used\n",
    "    \"\"\"\n",
    "    # Python's built-in random module\n",
    "    random.seed(seed)\n",
    "\n",
    "    # Numpy\n",
    "    np.random.seed(seed)\n",
    "\n",
    "    # PyTorch\n",
    "    torch.manual_seed(seed)\n",
    "    torch.cuda.manual_seed(seed)\n",
    "    torch.cuda.manual_seed_all(seed)  # For multi-GPU setups\n",
    "\n",
    "    # Configure PyTorch to make computations deterministic\n",
    "    torch.backends.cudnn.deterministic = True\n",
    "    torch.backends.cudnn.benchmark = False\n",
    "\n",
    "\n",
    "def params_to_vec(model: nn.Module) -> torch.Tensor:\n",
    "    return torch.nn.utils.parameters_to_vector(model.parameters()).detach()\n",
    "\n",
    "def vec_to_params_(model: nn.Module, vec: torch.Tensor):\n",
    "    torch.nn.utils.vector_to_parameters(vec, model.parameters())\n",
    "\n",
    "@torch.no_grad()\n",
    "def evaluate_loss(model: nn.Module, loader, loss_fn) -> float:\n",
    "    \"\"\"Mean Cox loss on the whole loader (no gradient).\"\"\"\n",
    "    model.eval()\n",
    "    tot_loss, nsamples = 0.0, 0\n",
    "    for batch in loader:\n",
    "        # move to device & rename to match model signature\n",
    "        ct  = batch[\"ct_feature\"].float().to(DEVICE)\n",
    "        wsi = batch[\"wsi_feature\"].float().to(DEVICE)\n",
    "        mask= batch[\"modality_mask\"].to(DEVICE)\n",
    "        surv= batch[\"survtime\"].to(DEVICE)\n",
    "        cens= batch[\"censor\"].to(DEVICE)\n",
    "        out = model(ct, wsi, modality_flag=mask)[\"hazard\"]\n",
    "        loss = loss_fn(out, surv, cens)\n",
    "        bs   = ct.size(0)\n",
    "        tot_loss += loss.item() * bs\n",
    "        nsamples += bs\n",
    "    return tot_loss / nsamples\n",
    "set_global_seed(SEED)\n"
   ]
  }
 ],
 "metadata": {
  "kernelspec": {
   "display_name": "research_biocv_proj",
   "language": "python",
   "name": "python3"
  },
  "language_info": {
   "name": "python",
   "version": "3.9.20"
  }
 },
 "nbformat": 4,
 "nbformat_minor": 5
}
