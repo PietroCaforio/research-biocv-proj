{
 "cells": [
  {
   "cell_type": "code",
   "execution_count": 1,
   "metadata": {},
   "outputs": [],
   "source": [
    "import pandas as pd"
   ]
  },
  {
   "cell_type": "code",
   "execution_count": 2,
   "metadata": {},
   "outputs": [],
   "source": [
    "clinical_data = pd.read_csv(\"./data/clinical_annotations.tsv\", sep='\\t')"
   ]
  },
  {
   "cell_type": "code",
   "execution_count": 3,
   "metadata": {},
   "outputs": [],
   "source": [
    "new_clinical_data = pd.read_csv(\"./data/PDC_clinical_manifest_07042024_120812.csv\")"
   ]
  },
  {
   "cell_type": "code",
   "execution_count": 4,
   "metadata": {},
   "outputs": [
    {
     "data": {
      "text/plain": [
       "Tumor Grade\n",
       "G2              145\n",
       "Not Reported    104\n",
       "G3               40\n",
       "G1               13\n",
       "G4                1\n",
       "Name: count, dtype: int64"
      ]
     },
     "execution_count": 4,
     "metadata": {},
     "output_type": "execute_result"
    }
   ],
   "source": [
    "new_clinical_data[\"Tumor Grade\"].value_counts()"
   ]
  },
  {
   "cell_type": "code",
   "execution_count": 5,
   "metadata": {},
   "outputs": [
    {
     "data": {
      "text/plain": [
       "13     C3L-03632\n",
       "61     C3L-00622\n",
       "116    C3L-00599\n",
       "118    C3N-02754\n",
       "141    C3L-00928\n",
       "164    C3L-00622\n",
       "182    C3N-02971\n",
       "190    C3L-03394\n",
       "219    C3L-00599\n",
       "230    C3N-02295\n",
       "266    C3L-02604\n",
       "269    C3L-03632\n",
       "295    C3N-03190\n",
       "Name: Cases Submitter ID, dtype: object"
      ]
     },
     "execution_count": 5,
     "metadata": {},
     "output_type": "execute_result"
    }
   ],
   "source": [
    "new_clinical_data.loc[new_clinical_data[\"Tumor Grade\"]==\"G1\"][\"Cases Submitter ID\"]"
   ]
  },
  {
   "cell_type": "code",
   "execution_count": 7,
   "metadata": {},
   "outputs": [
    {
     "data": {
      "text/plain": [
       "Tumor Grade\n",
       "G2              145\n",
       "Not Reported    104\n",
       "G3               40\n",
       "G1               13\n",
       "G4                1\n",
       "Name: count, dtype: int64"
      ]
     },
     "execution_count": 7,
     "metadata": {},
     "output_type": "execute_result"
    }
   ],
   "source": [
    "new_clinical_data[\"Tumor Grade\"].value_counts()"
   ]
  },
  {
   "cell_type": "code",
   "execution_count": 6,
   "metadata": {},
   "outputs": [
    {
     "data": {
      "text/plain": [
       "tumor_grade\n",
       "G2              614\n",
       "G3              294\n",
       "Not Reported    176\n",
       "G1              151\n",
       "GX               26\n",
       "G4               26\n",
       "'--              22\n",
       "Unknown           4\n",
       "High Grade        1\n",
       "Name: count, dtype: int64"
      ]
     },
     "execution_count": 6,
     "metadata": {},
     "output_type": "execute_result"
    }
   ],
   "source": [
    "clinical_data[\"tumor_grade\"].value_counts()"
   ]
  },
  {
   "cell_type": "code",
   "execution_count": 9,
   "metadata": {},
   "outputs": [],
   "source": [
    "#Sampel 57 patients from new_clinical annotations\n",
    "g1_patients = new_clinical_data.loc[new_clinical_data[\"Tumor Grade\"] == \"G1\"][\"Cases Submitter ID\"]\n",
    "g2_patients = new_clinical_data.loc[new_clinical_data[\"Tumor Grade\"] == \"G2\"][\"Cases Submitter ID\"]\n",
    "g3_patients = new_clinical_data.loc[new_clinical_data[\"Tumor Grade\"] == \"G3\"][\"Cases Submitter ID\"]\n",
    "\n",
    "\n",
    "selected_g1_patients = g1_patients.sample(n=13, replace = False)\n",
    "selected_g2_patients = g2_patients.sample(n=22, replace = False)\n",
    "selected_g3_patients = g3_patients.sample(n=22, replace = False)\n"
   ]
  },
  {
   "cell_type": "code",
   "execution_count": 15,
   "metadata": {},
   "outputs": [
    {
     "name": "stdout",
     "output_type": "stream",
     "text": [
      "5\n",
      "49\n",
      "19\n"
     ]
    }
   ],
   "source": [
    "#Sample 57 patients with balanced labels\n",
    "reference_patients = set(pd.read_csv(\"data/Metadata_Report_CPTAC-PDA_2023_07_14.csv\")[\"PatientID\"])\n",
    "\n",
    "#print(reference_patients)\n",
    "\n",
    "g1_patients = clinical_data.loc[clinical_data[\"tumor_grade\"] == \"G1\"][\"case_submitter_id\"]\n",
    "\n",
    "print(len(g1_patients[g1_patients.isin(reference_patients)])) #Only 5 patients with clinical annotations with g1 cancer grade \n",
    "selected_g1_patients = g1_patients[g1_patients.isin(reference_patients)].sample(n=5, replace = False)\n",
    "\n",
    "\n",
    "g2_patients = clinical_data.loc[clinical_data[\"tumor_grade\"] == \"G2\"][\"case_submitter_id\"]\n",
    "print(len(g2_patients[g2_patients.isin(reference_patients)]))\n",
    "\n",
    "selected_g2_patients = g2_patients[g2_patients.isin(reference_patients)].sample(n=33, replace = False)\n",
    "\n",
    "g3_patients = clinical_data.loc[clinical_data[\"tumor_grade\"] == \"G3\"][\"case_submitter_id\"]\n",
    "print(len(g3_patients[g3_patients.isin(reference_patients)]))\n",
    "\n",
    "selected_g3_patients = g3_patients[g3_patients.isin(reference_patients)].sample(n=19, replace = False)"
   ]
  },
  {
   "cell_type": "code",
   "execution_count": 16,
   "metadata": {},
   "outputs": [],
   "source": [
    "with open(\"data/sampled_patients.txt\", \"a\") as file:\n",
    "    file.write(',\\n'.join(selected_g1_patients.astype(str))+',\\n')\n",
    "    file.write(',\\n'.join(selected_g2_patients.astype(str))+',\\n')\n",
    "    file.write(',\\n'.join(selected_g3_patients.astype(str))+',\\n')"
   ]
  }
 ],
 "metadata": {
  "kernelspec": {
   "display_name": "machine_learning",
   "language": "python",
   "name": "python3"
  },
  "language_info": {
   "codemirror_mode": {
    "name": "ipython",
    "version": 3
   },
   "file_extension": ".py",
   "mimetype": "text/x-python",
   "name": "python",
   "nbconvert_exporter": "python",
   "pygments_lexer": "ipython3",
   "version": "undefined.undefined.undefined"
  }
 },
 "nbformat": 4,
 "nbformat_minor": 2
}
