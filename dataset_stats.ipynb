{
 "cells": [
  {
   "cell_type": "markdown",
   "metadata": {},
   "source": [
    "This notebook explores the raw datasets through its metadata in order to find the right the right patients to be preprocessed"
   ]
  },
  {
   "cell_type": "code",
   "execution_count": 1,
   "metadata": {},
   "outputs": [],
   "source": [
    "import pandas as pd"
   ]
  },
  {
   "cell_type": "code",
   "execution_count": 2,
   "metadata": {},
   "outputs": [],
   "source": [
    "clinical_data = pd.read_csv(\"./data/clinical_annotations.tsv\", sep='\\t')"
   ]
  },
  {
   "cell_type": "code",
   "execution_count": 74,
   "metadata": {},
   "outputs": [],
   "source": [
    "new_clinical_data = pd.read_csv(\"./data/PDC_clinical_manifest_07042024_120812.csv\")"
   ]
  },
  {
   "cell_type": "markdown",
   "metadata": {},
   "source": [
    "Let's see the class counts from the clinical annotations"
   ]
  },
  {
   "cell_type": "code",
   "execution_count": 69,
   "metadata": {},
   "outputs": [
    {
     "data": {
      "text/plain": [
       "Tumor Grade\n",
       "G2              145\n",
       "Not Reported    104\n",
       "G3               40\n",
       "G1               13\n",
       "G4                1\n",
       "Name: count, dtype: int64"
      ]
     },
     "execution_count": 69,
     "metadata": {},
     "output_type": "execute_result"
    }
   ],
   "source": [
    "new_clinical_data[\"Tumor Grade\"].value_counts()"
   ]
  },
  {
   "cell_type": "code",
   "execution_count": 5,
   "metadata": {},
   "outputs": [
    {
     "data": {
      "text/plain": [
       "13     C3L-03632\n",
       "61     C3L-00622\n",
       "116    C3L-00599\n",
       "118    C3N-02754\n",
       "141    C3L-00928\n",
       "164    C3L-00622\n",
       "182    C3N-02971\n",
       "190    C3L-03394\n",
       "219    C3L-00599\n",
       "230    C3N-02295\n",
       "266    C3L-02604\n",
       "269    C3L-03632\n",
       "295    C3N-03190\n",
       "Name: Cases Submitter ID, dtype: object"
      ]
     },
     "execution_count": 5,
     "metadata": {},
     "output_type": "execute_result"
    }
   ],
   "source": [
    "new_clinical_data.loc[new_clinical_data[\"Tumor Grade\"]==\"G1\"][\"Cases Submitter ID\"]"
   ]
  },
  {
   "cell_type": "code",
   "execution_count": 7,
   "metadata": {},
   "outputs": [
    {
     "data": {
      "text/plain": [
       "Tumor Grade\n",
       "G2              145\n",
       "Not Reported    104\n",
       "G3               40\n",
       "G1               13\n",
       "G4                1\n",
       "Name: count, dtype: int64"
      ]
     },
     "execution_count": 7,
     "metadata": {},
     "output_type": "execute_result"
    }
   ],
   "source": [
    "new_clinical_data[\"Tumor Grade\"].value_counts()"
   ]
  },
  {
   "cell_type": "code",
   "execution_count": 3,
   "metadata": {},
   "outputs": [
    {
     "data": {
      "text/plain": [
       "tumor_grade\n",
       "G2              614\n",
       "G3              294\n",
       "Not Reported    176\n",
       "G1              151\n",
       "GX               26\n",
       "G4               26\n",
       "'--              22\n",
       "Unknown           4\n",
       "High Grade        1\n",
       "Name: count, dtype: int64"
      ]
     },
     "execution_count": 3,
     "metadata": {},
     "output_type": "execute_result"
    }
   ],
   "source": [
    "clinical_data[\"tumor_grade\"].value_counts()"
   ]
  },
  {
   "cell_type": "code",
   "execution_count": 9,
   "metadata": {},
   "outputs": [],
   "source": [
    "#Sample 57 patients from new_clinical annotations\n",
    "g1_patients = new_clinical_data.loc[new_clinical_data[\"Tumor Grade\"] == \"G1\"][\"Cases Submitter ID\"]\n",
    "g2_patients = new_clinical_data.loc[new_clinical_data[\"Tumor Grade\"] == \"G2\"][\"Cases Submitter ID\"]\n",
    "g3_patients = new_clinical_data.loc[new_clinical_data[\"Tumor Grade\"] == \"G3\"][\"Cases Submitter ID\"]\n",
    "\n",
    "\n",
    "selected_g1_patients = g1_patients.sample(n=13, replace = False)\n",
    "selected_g2_patients = g2_patients.sample(n=22, replace = False)\n",
    "selected_g3_patients = g3_patients.sample(n=22, replace = False)\n"
   ]
  },
  {
   "cell_type": "markdown",
   "metadata": {},
   "source": [
    "Here I try to match the patients for which I have segmentations available (reference patients) with the annotations"
   ]
  },
  {
   "cell_type": "code",
   "execution_count": null,
   "metadata": {},
   "outputs": [
    {
     "name": "stdout",
     "output_type": "stream",
     "text": [
      "16\n",
      "135\n",
      "43\n"
     ]
    }
   ],
   "source": [
    "\n",
    "reference_patients = pd.read_csv(\"data/Metadata_Report_CPTAC-PDA_2023_07_14.csv\")\n",
    "reference_patients = reference_patients[reference_patients[\"Annotation Type\"]==\"Segmentation\"][\"PatientID\"]\n",
    "\n",
    "#print(reference_patients)\n",
    "\n",
    "g1_patients = set(clinical_data.loc[clinical_data[\"tumor_grade\"] == \"G1\"][\"case_submitter_id\"])\n",
    "print(len(reference_patients[reference_patients.isin(g1_patients)])) #Only 5 patients with clinical annotations with g1 cancer grade \n",
    "#selected_g1_patients = g1_patients[g1_patients.isin(reference_patients)].sample(n=5, replace = False)\n",
    "\n",
    "g2_patients = set(clinical_data.loc[clinical_data[\"tumor_grade\"] == \"G2\"][\"case_submitter_id\"])\n",
    "print(len(reference_patients[reference_patients.isin(g2_patients)]))\n",
    "\n",
    "#selected_g2_patients = g2_patients[g2_patients.isin(reference_patients)].sample(n=33, replace = False)\n",
    "\n",
    "g3_patients = set(clinical_data.loc[clinical_data[\"tumor_grade\"] == \"G3\"][\"case_submitter_id\"])\n",
    "print(len(reference_patients[reference_patients.isin(g3_patients)]))\n",
    "\n",
    "#selected_g3_patients = g3_patients[g3_patients.isin(reference_patients)].sample(n=19, replace = False)"
   ]
  },
  {
   "cell_type": "code",
   "execution_count": 12,
   "metadata": {},
   "outputs": [
    {
     "name": "stdout",
     "output_type": "stream",
     "text": [
      "5\n",
      "5\n",
      "47\n",
      "47\n",
      "19\n",
      "19\n"
     ]
    }
   ],
   "source": [
    "#Sample 57 patients with balanced labels\n",
    "#clinical_data = pd.read_csv(\"./data/CPTACPDAclinical.csv\")\n",
    "clinical_data = pd.read_csv(\"./data/clinical_annotations.tsv\", sep='\\t')\n",
    "reference_patients = pd.read_csv(\"data/Metadata_Report_CPTAC-PDA_2023_07_14.csv\")\n",
    "reference_patients = set(reference_patients[reference_patients[\"Annotation Type\"]==\"Segmentation\"][\"PatientID\"])\n",
    "\n",
    "#print(reference_patients)\n",
    "\n",
    "g1_patients = clinical_data.loc[clinical_data[\"tumor_grade\"] == \"G1\"][\"case_submitter_id\"]\n",
    "print(len(g1_patients[g1_patients.isin(reference_patients)])) #Only 5 patients with clinical annotations with g1 cancer grade \n",
    "g1_annotated = set(g1_patients) & reference_patients #intersection between reference patients and g1_patients\n",
    "print(len(g1_annotated))\n",
    "#selected_g1_patients = g1_patients[g1_patients.isin(reference_patients)].sample(n=5, replace = False)\n",
    "\n",
    "g2_patients = clinical_data.loc[clinical_data[\"tumor_grade\"] == \"G2\"][\"case_submitter_id\"]\n",
    "print(len(g2_patients[g2_patients.isin(reference_patients)]))\n",
    "g2_annotated = set(g2_patients) & reference_patients\n",
    "print(len(g2_annotated))\n",
    "#selected_g2_patients = g2_patients[g2_patients.isin(reference_patients)].sample(n=33, replace = False)\n",
    "\n",
    "g3_patients = clinical_data.loc[clinical_data[\"tumor_grade\"] == \"G3\"][\"case_submitter_id\"]\n",
    "print(len(g3_patients[g3_patients.isin(reference_patients)]))\n",
    "g3_annotated = set(g3_patients) & reference_patients\n",
    "print(len(g3_annotated))\n",
    "#selected_g3_patients = g3_patients[g3_patients.isin(reference_patients)].sample(n=19, replace = False)"
   ]
  },
  {
   "cell_type": "markdown",
   "metadata": {},
   "source": [
    "Here I checked if whether combining clinical annotations from multiple sources would result in more patients"
   ]
  },
  {
   "cell_type": "code",
   "execution_count": 2,
   "metadata": {},
   "outputs": [
    {
     "name": "stdout",
     "output_type": "stream",
     "text": [
      "g1:5\n",
      "g1 volumes: 16\n",
      "g2:53\n",
      "g2 volumes: 151\n",
      "g3:19\n",
      "g2 volumes: 43\n"
     ]
    }
   ],
   "source": [
    "clinical_data_list = [\n",
    "    pd.read_csv(\"./data/CPTACPDAclinicalSerumGlycoproteome.csv\"), \n",
    "    pd.read_csv(\"./data/clinical_annotations.tsv\", sep=\"\\t\").rename(columns={\"tumor_grade\":\"Tumor Grade\",\"case_submitter_id\":\"Case Submitter ID\"}), \n",
    "    pd.read_csv(\"./data/CPTAC2clinical.tsv\", sep=\"\\t\").rename(columns={\"tumor_grade\":\"Tumor Grade\",\"case_submitter_id\":\"Case Submitter ID\"}),\n",
    "    pd.read_csv(\"./data/CPTACPDAclinical.csv\"), \n",
    "    pd.read_csv(\"./data/CPTACPDAclinicalDIAProteome.csv\"), \n",
    "    pd.read_csv(\"./data/CPTACPDAclinicalBioTextProteome.csv\"), \n",
    "    pd.read_csv(\"./data/CPTACPDAclinicalSerumProteome.csv\")\n",
    "    ]\n",
    "\n",
    "#clinical_data = pd.read_csv(\"./data/CPTACUCEC_clinicalannotationsProteom.csv\")\n",
    "#clinical_data1 = pd.read_csv(\"./data/CPTACUCEC_clinicalIDC.csv\")\n",
    "\n",
    "reference_patients = pd.read_csv(\"data/Metadata_Report_CPTAC-PDA_2023_07_14.csv\")\n",
    "reference_patients = reference_patients[reference_patients[\"Annotation Type\"]==\"Segmentation\"][\"PatientID\"]\n",
    "#reference_patients_list = reference_patients.to_list()\n",
    "\n",
    "#print(reference_patients)\n",
    "g1_patients = []\n",
    "for clinical_data in clinical_data_list:\n",
    "    g1_patients.extend(clinical_data.loc[clinical_data[\"Tumor Grade\"] == \"G1\"][\"Case Submitter ID\"].to_list()) \n",
    "g1_annotated = set(g1_patients) & set(reference_patients) #intersection between reference patients and g1_patients\n",
    "g1_volumes = reference_patients.loc[reference_patients.isin(g1_patients)]\n",
    "print(f\"g1:{len(g1_annotated)}\")\n",
    "print(f\"g1 volumes: {len(g1_volumes)}\")\n",
    "g2_patients = []\n",
    "for clinical_data in clinical_data_list:\n",
    "    g2_patients.extend(clinical_data.loc[clinical_data[\"Tumor Grade\"] == \"G2\"][\"Case Submitter ID\"].to_list()) \n",
    "g2_annotated = set(g2_patients) & set(reference_patients) #intersection between reference patients and g1_patients\n",
    "g2_volumes = reference_patients.loc[reference_patients.isin(g2_patients)]\n",
    "print(f\"g2:{len(g2_annotated)}\")\n",
    "print(f\"g2 volumes: {len(g2_volumes)}\")\n",
    "\n",
    "g3_patients = []\n",
    "for clinical_data in clinical_data_list:\n",
    "    g3_patients.extend(clinical_data.loc[clinical_data[\"Tumor Grade\"] == \"G3\"][\"Case Submitter ID\"].to_list()) \n",
    "g3_volumes = reference_patients.loc[reference_patients.isin(g3_patients)]\n",
    "g3_annotated = set(g3_patients) & set(reference_patients) #intersection between reference patients and g1_patients\n",
    "print(f\"g3:{len(g3_annotated)}\")\n",
    "print(f\"g2 volumes: {len(g3_volumes)}\")\n"
   ]
  },
  {
   "cell_type": "code",
   "execution_count": null,
   "metadata": {},
   "outputs": [],
   "source": [
    "with open(\"data/sampled_patients.txt\", \"a\") as file:\n",
    "    file.write(',\\n'.join(g1_annotated.astype(str))+',\\n')\n",
    "    file.write(',\\n'.join(selected_g2_patients.astype(str))+',\\n')\n",
    "    file.write(',\\n'.join(selected_g3_patients.astype(str))+',\\n')"
   ]
  },
  {
   "cell_type": "markdown",
   "metadata": {},
   "source": [
    "## CPTAC UCEC CT\n",
    "\n",
    "Now I do the same for the CPTAC UCEC dataset"
   ]
  },
  {
   "cell_type": "code",
   "execution_count": 17,
   "metadata": {},
   "outputs": [],
   "source": [
    "clinical_data = pd.read_csv(\"./data/CPTACUCEC_clinicalannotationsProteom.csv\")"
   ]
  },
  {
   "cell_type": "code",
   "execution_count": 80,
   "metadata": {},
   "outputs": [
    {
     "data": {
      "text/plain": [
       "Tumor Grade\n",
       "G2              68\n",
       "G1              40\n",
       "G3              28\n",
       "Not Reported    21\n",
       "Unknown          1\n",
       "High Grade       1\n",
       "Name: count, dtype: int64"
      ]
     },
     "execution_count": 80,
     "metadata": {},
     "output_type": "execute_result"
    }
   ],
   "source": [
    "clinical_data[\"Tumor Grade\"].value_counts()"
   ]
  },
  {
   "cell_type": "code",
   "execution_count": 18,
   "metadata": {},
   "outputs": [
    {
     "name": "stdout",
     "output_type": "stream",
     "text": [
      "11\n",
      "36\n",
      "24\n"
     ]
    }
   ],
   "source": [
    "reference_patients = pd.read_csv(\"data/Metadata_Report_CPTAC-UCEC_2023_07_14.csv\")\n",
    "reference_patients = reference_patients[reference_patients[\"Annotation Type\"]==\"Segmentation\"][\"PatientID\"]\n",
    "#print(reference_patients)\n",
    "\n",
    "g1_patients = set(clinical_data.loc[clinical_data[\"Tumor Grade\"] == \"G1\"][\"Case Submitter ID\"])\n",
    "\n",
    "print(len(reference_patients[reference_patients.isin(g1_patients)])) #Only 5 patients with clinical annotations with g1 cancer grade \n",
    "#selected_g1_patients = g1_patients[g1_patients.isin(reference_patients)].sample(n=5, replace = False)\n",
    "\n",
    "\n",
    "g2_patients = set(clinical_data.loc[clinical_data[\"Tumor Grade\"] == \"G2\"][\"Case Submitter ID\"])\n",
    "print(len(reference_patients[reference_patients.isin(g2_patients)]))\n",
    "\n",
    "#selected_g2_patients = g2_patients[g2_patients.isin(reference_patients)].sample(n=33, replace = False)\n",
    "\n",
    "g3_patients = set(clinical_data.loc[clinical_data[\"Tumor Grade\"] == \"G3\"][\"Case Submitter ID\"])\n",
    "print(len(reference_patients[reference_patients.isin(g3_patients)]))\n",
    "\n",
    "#selected_g3_patients = g3_patients[g3_patients.isin(reference_patients)].sample(n=19, replace = False)\n"
   ]
  },
  {
   "cell_type": "code",
   "execution_count": 19,
   "metadata": {},
   "outputs": [
    {
     "name": "stdout",
     "output_type": "stream",
     "text": [
      "4\n",
      "10\n",
      "8\n"
     ]
    }
   ],
   "source": [
    "reference_patients = pd.read_csv(\"data/Metadata_Report_CPTAC-UCEC_2023_07_14.csv\")\n",
    "reference_patients = reference_patients[reference_patients[\"Annotation Type\"]==\"Segmentation\"][\"PatientID\"]\n",
    "#print(reference_patients)\n",
    "\n",
    "g1_patients = clinical_data.loc[clinical_data[\"Tumor Grade\"] == \"G1\"][\"Case Submitter ID\"]\n",
    "\n",
    "print(len(g1_patients[g1_patients.isin(reference_patients)])) #Only 5 patients with clinical annotations with g1 cancer grade \n",
    "#selected_g1_patients = g1_patients[g1_patients.isin(reference_patients)].sample(n=5, replace = False)\n",
    "\n",
    "\n",
    "g2_patients = clinical_data.loc[clinical_data[\"Tumor Grade\"] == \"G2\"][\"Case Submitter ID\"]\n",
    "print(len(g2_patients[g2_patients.isin(reference_patients)]))\n",
    "\n",
    "#selected_g2_patients = g2_patients[g2_patients.isin(reference_patients)].sample(n=33, replace = False)\n",
    "\n",
    "g3_patients = clinical_data.loc[clinical_data[\"Tumor Grade\"] == \"G3\"][\"Case Submitter ID\"]\n",
    "print(len(g3_patients[g3_patients.isin(reference_patients)]))\n",
    "\n",
    "#selected_g3_patients = g3_patients[g3_patients.isin(reference_patients)].sample(n=19, replace = False)\n"
   ]
  },
  {
   "cell_type": "markdown",
   "metadata": {},
   "source": [
    "Combining multiple clinical annotations results in a good amount of patients"
   ]
  },
  {
   "cell_type": "code",
   "execution_count": 3,
   "metadata": {},
   "outputs": [
    {
     "name": "stdout",
     "output_type": "stream",
     "text": [
      "g1:15\n",
      "g1 volumes: 44\n",
      "g2:36\n",
      "g2 volumes: 169\n",
      "g3:18\n",
      "g2 volumes: 81\n",
      "----------------------------------------\n",
      "Sampled patients:\n",
      "C3N-02947,\n",
      "C3N-00866,\n",
      "C3N-00729,\n",
      "C3N-02631,\n",
      "C3N-01878,\n",
      "C3L-02399,\n",
      "C3N-00520,\n",
      "C3N-02979,\n",
      "C3L-00947,\n",
      "C3N-01001,\n",
      "C3N-01877,\n",
      "C3N-01219,\n",
      "C3N-01346,\n",
      "C3N-01761,\n",
      "C3L-00963,\n",
      "C3N-01875,\n",
      "C3N-02595,\n",
      "C3L-01732,\n",
      "C3N-01802,\n",
      "C3N-01765,\n",
      "C3L-00770,\n",
      "C3L-01248,\n",
      "C3N-02789,\n",
      "C3N-00858,\n",
      "C3N-01344,\n",
      "C3N-01871,\n",
      "C3L-00938,\n",
      "C3L-01247,\n",
      "C3N-01879,\n",
      "C3N-01349,\n",
      "C3L-00771,\n",
      "C3N-01172,\n",
      "C3N-01171,\n",
      "C3N-01876,\n",
      "C3N-02012,\n",
      "C3N-02639,\n",
      "C3N-02678,\n",
      "C3N-02637,\n",
      "C3L-01744,\n",
      "C3L-01246,\n",
      "C3N-01003,\n",
      "C3L-02403,\n",
      "C3N-03767,\n",
      "C3N-02632,\n",
      "C3N-01764,\n",
      "C3N-01843,\n",
      "C3N-02635,\n",
      "C3N-00734,\n",
      "C3N-02598,\n",
      "C3N-01873,\n",
      "C3N-02274,\n",
      "C3N-02978,\n",
      "C3L-01277,\n",
      "C3N-01008,\n",
      "C3N-01880,\n",
      "C3N-01510,\n",
      "C3N-01874,\n",
      "C3N-02298,\n",
      "C3N-01342,\n",
      "C3N-01007,\n",
      "C3N-00743,\n",
      "C3L-00961,\n",
      "C3N-03417,\n",
      "C3N-03005,\n",
      "C3N-00732,\n",
      "C3N-00860,\n",
      "C3N-00872,\n",
      "C3N-02976,\n",
      "C3N-01341\n"
     ]
    }
   ],
   "source": [
    "clinical_data_list = [\n",
    "    pd.read_csv(\"./data/CPTACUCEC_clinicalannotationsProteom.csv\"),\n",
    "    pd.read_csv(\"./data/CPTACUCEC_clinicalIDC.csv\"),\n",
    "    pd.read_csv(\"./data/CPTACUCEC_clinicalConfirmatoryGlyco.csv\"),\n",
    "    pd.read_csv(\"./data/CPTACUCEC_clinicalConfirmatoryProteome.csv\"),\n",
    "    pd.read_csv(\"./data/CPTACUCEC_clinicalannotations.csv\"),\n",
    "    pd.read_csv(\"./data/CPTACUCEC_clinicalannotationsAcetylome.csv\"),\n",
    "    pd.read_csv(\"./data/CPTACUCEC_clinicalannotationsPhosphoproteom.csv\")\n",
    "    ]\n",
    "\n",
    "clinical_data = pd.read_csv(\"./data/CPTACUCEC_clinicalannotationsProteom.csv\")\n",
    "clinical_data1 = pd.read_csv(\"./data/CPTACUCEC_clinicalIDC.csv\")\n",
    "\n",
    "reference_patients = pd.read_csv(\"data/Metadata_Report_CPTAC-UCEC_2023_07_14.csv\")\n",
    "reference_patients = reference_patients[reference_patients[\"Annotation Type\"]==\"Segmentation\"][\"PatientID\"]\n",
    "reference_patients_list = reference_patients.to_list()\n",
    "\n",
    "#print(reference_patients)\n",
    "g1_patients = []\n",
    "for clinical_data in clinical_data_list:\n",
    "    g1_patients.extend(clinical_data.loc[clinical_data[\"Tumor Grade\"] == \"G1\"][\"Case Submitter ID\"].to_list()) \n",
    "g1_annotated = set(g1_patients) & set(reference_patients) #intersection between reference patients and g1_patients\n",
    "g1_volumes = reference_patients.loc[reference_patients.isin(g1_patients)]\n",
    "print(f\"g1:{len(g1_annotated)}\")\n",
    "print(f\"g1 volumes: {len(g1_volumes)}\")\n",
    "g2_patients = []\n",
    "for clinical_data in clinical_data_list:\n",
    "    g2_patients.extend(clinical_data.loc[clinical_data[\"Tumor Grade\"] == \"G2\"][\"Case Submitter ID\"].to_list()) \n",
    "g2_annotated = set(g2_patients) & set(reference_patients) #intersection between reference patients and g1_patients\n",
    "g2_volumes = reference_patients.loc[reference_patients.isin(g2_patients)]\n",
    "print(f\"g2:{len(g2_annotated)}\")\n",
    "print(f\"g2 volumes: {len(g2_volumes)}\")\n",
    "\n",
    "g3_patients = []\n",
    "for clinical_data in clinical_data_list:\n",
    "    g3_patients.extend(clinical_data.loc[clinical_data[\"Tumor Grade\"] == \"G3\"][\"Case Submitter ID\"].to_list()) \n",
    "g3_volumes = reference_patients.loc[reference_patients.isin(g3_patients)]\n",
    "g3_annotated = set(g3_patients) & set(reference_patients) #intersection between reference patients and g1_patients\n",
    "print(f\"g3:{len(g3_annotated)}\")\n",
    "print(f\"g2 volumes: {len(g3_volumes)}\")\n",
    "print(\"----------------------------------------\")\n",
    "print(\"Sampled patients:\")\n",
    "patients = g1_annotated.union( g2_annotated).union( g3_annotated)\n",
    "print(',\\n'.join(patients))\n"
   ]
  },
  {
   "cell_type": "markdown",
   "metadata": {},
   "source": [
    "Here I list the patient ids per class in order to create the splits in a way that resembles the data distribution"
   ]
  },
  {
   "cell_type": "code",
   "execution_count": 7,
   "metadata": {},
   "outputs": [
    {
     "name": "stdout",
     "output_type": "stream",
     "text": [
      "G1:\n",
      "C3N-00860\n",
      "C3N-02678\n",
      "C3N-00866\n",
      "C3L-01248\n",
      "C3N-01874\n",
      "C3N-02298\n",
      "C3N-00872\n",
      "C3N-00520\n",
      "C3N-01879\n",
      "C3L-00961\n",
      "C3N-03417\n",
      "C3N-00734\n",
      "C3N-00732\n",
      "C3L-02399\n",
      "C3N-01875\n",
      "--------------------------------------------------\n",
      "G2:\n",
      "C3N-02947\n",
      "C3N-00729\n",
      "C3L-00947\n",
      "C3N-01877\n",
      "C3N-03005\n",
      "C3L-01732\n",
      "C3N-01765\n",
      "C3L-00770\n",
      "C3N-02789\n",
      "C3N-00858\n",
      "C3N-01871\n",
      "C3L-00938\n",
      "C3L-00771\n",
      "C3N-01172\n",
      "C3N-01171\n",
      "C3N-01876\n",
      "C3N-02012\n",
      "C3N-02637\n",
      "C3L-01744\n",
      "C3L-02403\n",
      "C3N-02632\n",
      "C3N-01843\n",
      "C3N-02598\n",
      "C3N-01873\n",
      "C3N-02274\n",
      "C3N-02978\n",
      "C3N-01008\n",
      "C3N-01880\n",
      "C3N-01510\n",
      "C3N-01342\n",
      "C3N-01007\n",
      "C3N-00743\n",
      "C3N-01344\n",
      "C3N-01878\n",
      "C3N-01001\n",
      "C3N-01341\n",
      "--------------------------------------------------\n",
      "G3:\n",
      "C3L-01246\n",
      "C3N-01003\n",
      "C3N-02631\n",
      "C3N-02976\n",
      "C3N-03767\n",
      "C3L-01247\n",
      "C3N-02979\n",
      "C3N-01764\n",
      "C3N-01349\n",
      "C3N-01219\n",
      "C3N-01346\n",
      "C3N-01761\n",
      "C3L-00963\n",
      "C3N-02635\n",
      "C3N-02595\n",
      "C3N-02639\n",
      "C3L-01277\n",
      "C3N-01802\n",
      "--------------------------------------------------\n"
     ]
    }
   ],
   "source": [
    "print(\"G1:\")\n",
    "print('\\n'.join(g1_annotated))\n",
    "print(\"--------------------------------------------------\")\n",
    "print(\"G2:\")\n",
    "print('\\n'.join(g2_annotated))\n",
    "print(\"--------------------------------------------------\")\n",
    "print(\"G3:\")\n",
    "print('\\n'.join(g3_annotated))\n",
    "print(\"--------------------------------------------------\")\n"
   ]
  },
  {
   "cell_type": "markdown",
   "metadata": {},
   "source": [
    "#### Experiments with the cptac library"
   ]
  },
  {
   "cell_type": "code",
   "execution_count": 40,
   "metadata": {},
   "outputs": [],
   "source": [
    "import cptac"
   ]
  },
  {
   "cell_type": "code",
   "execution_count": 58,
   "metadata": {},
   "outputs": [
    {
     "data": {
      "text/html": [
       "<div>\n",
       "<style scoped>\n",
       "    .dataframe tbody tr th:only-of-type {\n",
       "        vertical-align: middle;\n",
       "    }\n",
       "\n",
       "    .dataframe tbody tr th {\n",
       "        vertical-align: top;\n",
       "    }\n",
       "\n",
       "    .dataframe thead th {\n",
       "        text-align: right;\n",
       "    }\n",
       "</style>\n",
       "<table border=\"1\" class=\"dataframe\">\n",
       "  <thead>\n",
       "    <tr style=\"text-align: right;\">\n",
       "      <th></th>\n",
       "      <th>Data type</th>\n",
       "      <th>Available sources</th>\n",
       "    </tr>\n",
       "  </thead>\n",
       "  <tbody>\n",
       "    <tr>\n",
       "      <th>0</th>\n",
       "      <td>CNV</td>\n",
       "      <td>[bcm, washu]</td>\n",
       "    </tr>\n",
       "    <tr>\n",
       "      <th>1</th>\n",
       "      <td>circular_RNA</td>\n",
       "      <td>[bcm]</td>\n",
       "    </tr>\n",
       "    <tr>\n",
       "      <th>2</th>\n",
       "      <td>miRNA</td>\n",
       "      <td>[bcm, washu]</td>\n",
       "    </tr>\n",
       "    <tr>\n",
       "      <th>3</th>\n",
       "      <td>phosphoproteomics</td>\n",
       "      <td>[bcm, umich]</td>\n",
       "    </tr>\n",
       "    <tr>\n",
       "      <th>4</th>\n",
       "      <td>proteomics</td>\n",
       "      <td>[bcm, umich]</td>\n",
       "    </tr>\n",
       "    <tr>\n",
       "      <th>5</th>\n",
       "      <td>transcriptomics</td>\n",
       "      <td>[bcm, broad, washu]</td>\n",
       "    </tr>\n",
       "    <tr>\n",
       "      <th>6</th>\n",
       "      <td>ancestry_prediction</td>\n",
       "      <td>[harmonized]</td>\n",
       "    </tr>\n",
       "    <tr>\n",
       "      <th>7</th>\n",
       "      <td>somatic_mutation</td>\n",
       "      <td>[harmonized, washu]</td>\n",
       "    </tr>\n",
       "    <tr>\n",
       "      <th>8</th>\n",
       "      <td>clinical</td>\n",
       "      <td>[mssm]</td>\n",
       "    </tr>\n",
       "    <tr>\n",
       "      <th>9</th>\n",
       "      <td>follow-up</td>\n",
       "      <td>[mssm]</td>\n",
       "    </tr>\n",
       "    <tr>\n",
       "      <th>10</th>\n",
       "      <td>medical_history</td>\n",
       "      <td>[mssm]</td>\n",
       "    </tr>\n",
       "    <tr>\n",
       "      <th>11</th>\n",
       "      <td>acetylproteomics</td>\n",
       "      <td>[umich]</td>\n",
       "    </tr>\n",
       "    <tr>\n",
       "      <th>12</th>\n",
       "      <td>cibersort</td>\n",
       "      <td>[washu]</td>\n",
       "    </tr>\n",
       "    <tr>\n",
       "      <th>13</th>\n",
       "      <td>hla_typing</td>\n",
       "      <td>[washu]</td>\n",
       "    </tr>\n",
       "    <tr>\n",
       "      <th>14</th>\n",
       "      <td>tumor_purity</td>\n",
       "      <td>[washu]</td>\n",
       "    </tr>\n",
       "    <tr>\n",
       "      <th>15</th>\n",
       "      <td>xcell</td>\n",
       "      <td>[washu]</td>\n",
       "    </tr>\n",
       "  </tbody>\n",
       "</table>\n",
       "</div>"
      ],
      "text/plain": [
       "              Data type    Available sources\n",
       "0                   CNV         [bcm, washu]\n",
       "1          circular_RNA                [bcm]\n",
       "2                 miRNA         [bcm, washu]\n",
       "3     phosphoproteomics         [bcm, umich]\n",
       "4            proteomics         [bcm, umich]\n",
       "5       transcriptomics  [bcm, broad, washu]\n",
       "6   ancestry_prediction         [harmonized]\n",
       "7      somatic_mutation  [harmonized, washu]\n",
       "8              clinical               [mssm]\n",
       "9             follow-up               [mssm]\n",
       "10      medical_history               [mssm]\n",
       "11     acetylproteomics              [umich]\n",
       "12            cibersort              [washu]\n",
       "13           hla_typing              [washu]\n",
       "14         tumor_purity              [washu]\n",
       "15                xcell              [washu]"
      ]
     },
     "execution_count": 58,
     "metadata": {},
     "output_type": "execute_result"
    }
   ],
   "source": [
    "en = cptac.Ucec()\n",
    "en.list_data_sources()"
   ]
  },
  {
   "cell_type": "code",
   "execution_count": null,
   "metadata": {},
   "outputs": [],
   "source": [
    "clinical = en.get_CNV(\"washu\")\n",
    "clinical.head()"
   ]
  },
  {
   "cell_type": "code",
   "execution_count": 56,
   "metadata": {},
   "outputs": [
    {
     "name": "stdout",
     "output_type": "stream",
     "text": [
      "height_at_time_of_surgery_cm\n",
      "weight_at_time_of_surgery_kg\n",
      "bmi\n",
      "history_of_cancer\n",
      "alcohol_consumption\n",
      "tobacco_smoking_history\n",
      "age_at_which_the_participant_started_smoking\n",
      "age_at_which_the_participant_stopped_smoking\n",
      "on_the_days_participant_smoked_how_many_cigarettes_did_he_she_usually_smoke\n",
      "number_of_pack_years_smoked\n",
      "was_the_participant_exposed_to_secondhand_smoke\n",
      "exposure_to_secondhand_smoke_in_household_during_participants_childhood\n",
      "exposure_to_secondhand_smoke_in_participants_current_household\n",
      "number_of_years_participant_has_consumed_more_than_2_drinks_per_day_for_men_and_more_than_1_drink_per_day_for_women\n",
      "medical_condition\n",
      "history_of_treatment\n",
      "history_source\n"
     ]
    }
   ],
   "source": [
    "for col in clinical.columns:\n",
    "    print(col)"
   ]
  },
  {
   "cell_type": "code",
   "execution_count": 42,
   "metadata": {},
   "outputs": [
    {
     "data": {
      "text/plain": [
       "tumor_stage_pathological\n",
       "Stage I      76\n",
       "Stage III    15\n",
       "Stage II      9\n",
       "Stage IV      3\n",
       "Name: count, dtype: int64"
      ]
     },
     "execution_count": 42,
     "metadata": {},
     "output_type": "execute_result"
    }
   ],
   "source": [
    "clinical[\"tumor_stage_pathological\"].value_counts()"
   ]
  },
  {
   "cell_type": "code",
   "execution_count": 46,
   "metadata": {},
   "outputs": [],
   "source": [
    "clinical_data = clinical"
   ]
  },
  {
   "cell_type": "code",
   "execution_count": 51,
   "metadata": {},
   "outputs": [
    {
     "data": {
      "text/html": [
       "<div>\n",
       "<style scoped>\n",
       "    .dataframe tbody tr th:only-of-type {\n",
       "        vertical-align: middle;\n",
       "    }\n",
       "\n",
       "    .dataframe tbody tr th {\n",
       "        vertical-align: top;\n",
       "    }\n",
       "\n",
       "    .dataframe thead th {\n",
       "        text-align: right;\n",
       "    }\n",
       "</style>\n",
       "<table border=\"1\" class=\"dataframe\">\n",
       "  <thead>\n",
       "    <tr style=\"text-align: right;\">\n",
       "      <th>Name</th>\n",
       "      <th>tumor_code</th>\n",
       "      <th>discovery_study</th>\n",
       "      <th>type_of_analyzed_samples</th>\n",
       "      <th>confirmatory_study</th>\n",
       "      <th>type_of_analyzed_samples</th>\n",
       "      <th>age</th>\n",
       "      <th>sex</th>\n",
       "      <th>race</th>\n",
       "      <th>ethnicity</th>\n",
       "      <th>ethnicity_race_ancestry_identified</th>\n",
       "      <th>...</th>\n",
       "      <th>additional_treatment_pharmaceutical_therapy_for_new_tumor</th>\n",
       "      <th>additional_treatment_immuno_for_new_tumor</th>\n",
       "      <th>number_of_days_from_date_of_initial_pathologic_diagnosis_to_date_of_additional_surgery_for_new_tumor_event_loco-regional</th>\n",
       "      <th>number_of_days_from_date_of_initial_pathologic_diagnosis_to_date_of_additional_surgery_for_new_tumor_event_metastasis</th>\n",
       "      <th>Recurrence-free survival, days</th>\n",
       "      <th>Recurrence-free survival from collection, days</th>\n",
       "      <th>Recurrence status (1, yes; 0, no)</th>\n",
       "      <th>Overall survival, days</th>\n",
       "      <th>Overall survival from collection, days</th>\n",
       "      <th>Survival status (1, dead; 0, alive)</th>\n",
       "    </tr>\n",
       "    <tr>\n",
       "      <th>Patient_ID</th>\n",
       "      <th></th>\n",
       "      <th></th>\n",
       "      <th></th>\n",
       "      <th></th>\n",
       "      <th></th>\n",
       "      <th></th>\n",
       "      <th></th>\n",
       "      <th></th>\n",
       "      <th></th>\n",
       "      <th></th>\n",
       "      <th></th>\n",
       "      <th></th>\n",
       "      <th></th>\n",
       "      <th></th>\n",
       "      <th></th>\n",
       "      <th></th>\n",
       "      <th></th>\n",
       "      <th></th>\n",
       "      <th></th>\n",
       "      <th></th>\n",
       "      <th></th>\n",
       "    </tr>\n",
       "  </thead>\n",
       "  <tbody>\n",
       "    <tr>\n",
       "      <th>C3L-00006</th>\n",
       "      <td>UCEC</td>\n",
       "      <td>Yes</td>\n",
       "      <td>Tumor_and_Normal</td>\n",
       "      <td>NaN</td>\n",
       "      <td>NaN</td>\n",
       "      <td>64</td>\n",
       "      <td>Female</td>\n",
       "      <td>White</td>\n",
       "      <td>Not Hispanic or Latino</td>\n",
       "      <td>White</td>\n",
       "      <td>...</td>\n",
       "      <td>NaN</td>\n",
       "      <td>NaN</td>\n",
       "      <td>NaN</td>\n",
       "      <td>NaN</td>\n",
       "      <td>NaN</td>\n",
       "      <td>NaN</td>\n",
       "      <td>0</td>\n",
       "      <td>737.0</td>\n",
       "      <td>737.0</td>\n",
       "      <td>0.0</td>\n",
       "    </tr>\n",
       "    <tr>\n",
       "      <th>C3L-00008</th>\n",
       "      <td>UCEC</td>\n",
       "      <td>Yes</td>\n",
       "      <td>Tumor</td>\n",
       "      <td>NaN</td>\n",
       "      <td>NaN</td>\n",
       "      <td>58</td>\n",
       "      <td>Female</td>\n",
       "      <td>White</td>\n",
       "      <td>Not Hispanic or Latino</td>\n",
       "      <td>White</td>\n",
       "      <td>...</td>\n",
       "      <td>NaN</td>\n",
       "      <td>NaN</td>\n",
       "      <td>NaN</td>\n",
       "      <td>NaN</td>\n",
       "      <td>NaN</td>\n",
       "      <td>NaN</td>\n",
       "      <td>0</td>\n",
       "      <td>898.0</td>\n",
       "      <td>898.0</td>\n",
       "      <td>0.0</td>\n",
       "    </tr>\n",
       "    <tr>\n",
       "      <th>C3L-00032</th>\n",
       "      <td>UCEC</td>\n",
       "      <td>Yes</td>\n",
       "      <td>Tumor</td>\n",
       "      <td>NaN</td>\n",
       "      <td>NaN</td>\n",
       "      <td>50</td>\n",
       "      <td>Female</td>\n",
       "      <td>White</td>\n",
       "      <td>Not Hispanic or Latino</td>\n",
       "      <td>White</td>\n",
       "      <td>...</td>\n",
       "      <td>NaN</td>\n",
       "      <td>NaN</td>\n",
       "      <td>NaN</td>\n",
       "      <td>NaN</td>\n",
       "      <td>NaN</td>\n",
       "      <td>NaN</td>\n",
       "      <td>0</td>\n",
       "      <td>1710.0</td>\n",
       "      <td>1710.0</td>\n",
       "      <td>0.0</td>\n",
       "    </tr>\n",
       "    <tr>\n",
       "      <th>C3L-00084</th>\n",
       "      <td>UCEC</td>\n",
       "      <td>Yes</td>\n",
       "      <td>Tumor</td>\n",
       "      <td>NaN</td>\n",
       "      <td>NaN</td>\n",
       "      <td>74</td>\n",
       "      <td>Female</td>\n",
       "      <td>White</td>\n",
       "      <td>Not Hispanic or Latino</td>\n",
       "      <td>White</td>\n",
       "      <td>...</td>\n",
       "      <td>NaN</td>\n",
       "      <td>NaN</td>\n",
       "      <td>NaN</td>\n",
       "      <td>NaN</td>\n",
       "      <td>NaN</td>\n",
       "      <td>NaN</td>\n",
       "      <td>0</td>\n",
       "      <td>335.0</td>\n",
       "      <td>335.0</td>\n",
       "      <td>0.0</td>\n",
       "    </tr>\n",
       "    <tr>\n",
       "      <th>C3L-00090</th>\n",
       "      <td>UCEC</td>\n",
       "      <td>Yes</td>\n",
       "      <td>Tumor</td>\n",
       "      <td>NaN</td>\n",
       "      <td>NaN</td>\n",
       "      <td>75</td>\n",
       "      <td>Female</td>\n",
       "      <td>White</td>\n",
       "      <td>Not Hispanic or Latino</td>\n",
       "      <td>White</td>\n",
       "      <td>...</td>\n",
       "      <td>Yes</td>\n",
       "      <td>No</td>\n",
       "      <td>NaN</td>\n",
       "      <td>NaN</td>\n",
       "      <td>50.0</td>\n",
       "      <td>56.0</td>\n",
       "      <td>1</td>\n",
       "      <td>1281.0</td>\n",
       "      <td>1287.0</td>\n",
       "      <td>1.0</td>\n",
       "    </tr>\n",
       "  </tbody>\n",
       "</table>\n",
       "<p>5 rows × 124 columns</p>\n",
       "</div>"
      ],
      "text/plain": [
       "Name       tumor_code discovery_study type_of_analyzed_samples   \n",
       "Patient_ID                                                       \n",
       "C3L-00006        UCEC             Yes         Tumor_and_Normal  \\\n",
       "C3L-00008        UCEC             Yes                    Tumor   \n",
       "C3L-00032        UCEC             Yes                    Tumor   \n",
       "C3L-00084        UCEC             Yes                    Tumor   \n",
       "C3L-00090        UCEC             Yes                    Tumor   \n",
       "\n",
       "Name       confirmatory_study type_of_analyzed_samples age     sex   race   \n",
       "Patient_ID                                                                  \n",
       "C3L-00006                 NaN                      NaN  64  Female  White  \\\n",
       "C3L-00008                 NaN                      NaN  58  Female  White   \n",
       "C3L-00032                 NaN                      NaN  50  Female  White   \n",
       "C3L-00084                 NaN                      NaN  74  Female  White   \n",
       "C3L-00090                 NaN                      NaN  75  Female  White   \n",
       "\n",
       "Name                     ethnicity ethnicity_race_ancestry_identified  ...   \n",
       "Patient_ID                                                             ...   \n",
       "C3L-00006   Not Hispanic or Latino                              White  ...  \\\n",
       "C3L-00008   Not Hispanic or Latino                              White  ...   \n",
       "C3L-00032   Not Hispanic or Latino                              White  ...   \n",
       "C3L-00084   Not Hispanic or Latino                              White  ...   \n",
       "C3L-00090   Not Hispanic or Latino                              White  ...   \n",
       "\n",
       "Name       additional_treatment_pharmaceutical_therapy_for_new_tumor   \n",
       "Patient_ID                                                             \n",
       "C3L-00006                                                 NaN         \\\n",
       "C3L-00008                                                 NaN          \n",
       "C3L-00032                                                 NaN          \n",
       "C3L-00084                                                 NaN          \n",
       "C3L-00090                                                 Yes          \n",
       "\n",
       "Name       additional_treatment_immuno_for_new_tumor   \n",
       "Patient_ID                                             \n",
       "C3L-00006                                        NaN  \\\n",
       "C3L-00008                                        NaN   \n",
       "C3L-00032                                        NaN   \n",
       "C3L-00084                                        NaN   \n",
       "C3L-00090                                         No   \n",
       "\n",
       "Name       number_of_days_from_date_of_initial_pathologic_diagnosis_to_date_of_additional_surgery_for_new_tumor_event_loco-regional   \n",
       "Patient_ID                                                                                                                            \n",
       "C3L-00006                                                 NaN                                                                        \\\n",
       "C3L-00008                                                 NaN                                                                         \n",
       "C3L-00032                                                 NaN                                                                         \n",
       "C3L-00084                                                 NaN                                                                         \n",
       "C3L-00090                                                 NaN                                                                         \n",
       "\n",
       "Name       number_of_days_from_date_of_initial_pathologic_diagnosis_to_date_of_additional_surgery_for_new_tumor_event_metastasis   \n",
       "Patient_ID                                                                                                                         \n",
       "C3L-00006                                                 NaN                                                                     \\\n",
       "C3L-00008                                                 NaN                                                                      \n",
       "C3L-00032                                                 NaN                                                                      \n",
       "C3L-00084                                                 NaN                                                                      \n",
       "C3L-00090                                                 NaN                                                                      \n",
       "\n",
       "Name       Recurrence-free survival, days   \n",
       "Patient_ID                                  \n",
       "C3L-00006                             NaN  \\\n",
       "C3L-00008                             NaN   \n",
       "C3L-00032                             NaN   \n",
       "C3L-00084                             NaN   \n",
       "C3L-00090                            50.0   \n",
       "\n",
       "Name       Recurrence-free survival from collection, days   \n",
       "Patient_ID                                                  \n",
       "C3L-00006                                             NaN  \\\n",
       "C3L-00008                                             NaN   \n",
       "C3L-00032                                             NaN   \n",
       "C3L-00084                                             NaN   \n",
       "C3L-00090                                            56.0   \n",
       "\n",
       "Name       Recurrence status (1, yes; 0, no) Overall survival, days   \n",
       "Patient_ID                                                            \n",
       "C3L-00006                                  0                  737.0  \\\n",
       "C3L-00008                                  0                  898.0   \n",
       "C3L-00032                                  0                 1710.0   \n",
       "C3L-00084                                  0                  335.0   \n",
       "C3L-00090                                  1                 1281.0   \n",
       "\n",
       "Name       Overall survival from collection, days   \n",
       "Patient_ID                                          \n",
       "C3L-00006                                   737.0  \\\n",
       "C3L-00008                                   898.0   \n",
       "C3L-00032                                  1710.0   \n",
       "C3L-00084                                   335.0   \n",
       "C3L-00090                                  1287.0   \n",
       "\n",
       "Name       Survival status (1, dead; 0, alive)  \n",
       "Patient_ID                                      \n",
       "C3L-00006                                  0.0  \n",
       "C3L-00008                                  0.0  \n",
       "C3L-00032                                  0.0  \n",
       "C3L-00084                                  0.0  \n",
       "C3L-00090                                  1.0  \n",
       "\n",
       "[5 rows x 124 columns]"
      ]
     },
     "execution_count": 51,
     "metadata": {},
     "output_type": "execute_result"
    }
   ],
   "source": [
    "clinical.head()"
   ]
  },
  {
   "cell_type": "code",
   "execution_count": 52,
   "metadata": {},
   "outputs": [
    {
     "name": "stdout",
     "output_type": "stream",
     "text": [
      "0\n",
      "3\n",
      "6\n"
     ]
    }
   ],
   "source": [
    "reference_patients = set(pd.read_csv(\"data/Metadata_Report_CPTAC-UCEC_2023_07_14.csv\")[\"PatientID\"])\n",
    "\n",
    "#print(reference_patients)\n",
    "\n",
    "g1_patients = clinical_data.loc[clinical_data[\"tumor_stage_pathological\"] == \"Stage I \"].index\n",
    "\n",
    "print(len(g1_patients[g1_patients.isin(reference_patients)])) #Only 5 patients with clinical annotations with g1 cancer grade \n",
    "#selected_g1_patients = g1_patients[g1_patients.isin(reference_patients)].sample(n=5, replace = False)\n",
    "\n",
    "\n",
    "g2_patients = clinical_data.loc[clinical_data[\"tumor_stage_pathological\"] == \"Stage II\"].index\n",
    "print(len(g2_patients[g2_patients.isin(reference_patients)]))\n",
    "\n",
    "#selected_g2_patients = g2_patients[g2_patients.isin(reference_patients)].sample(n=33, replace = False)\n",
    "\n",
    "g3_patients = clinical_data.loc[clinical_data[\"tumor_stage_pathological\"] == \"Stage III\"].index\n",
    "print(len(g3_patients[g3_patients.isin(reference_patients)]))\n",
    "\n",
    "#selected_g3_patients = g3_patients[g3_patients.isin(reference_patients)].sample(n=19, replace = False)\n"
   ]
  },
  {
   "cell_type": "markdown",
   "metadata": {},
   "source": [
    "## Checks on preprocessed data"
   ]
  },
  {
   "cell_type": "code",
   "execution_count": 20,
   "metadata": {},
   "outputs": [
    {
     "name": "stdout",
     "output_type": "stream",
     "text": [
      "55\n",
      "55\n"
     ]
    }
   ],
   "source": [
    "from pathlib import Path\n",
    "import os\n",
    "from_dir = os.listdir(\"./data/processed/CT\")\n",
    "print(len(from_dir))\n",
    "print(len(set(from_dir)))\n",
    "\n",
    "all = Path(\"./data/processed/all.txt\").read_text().splitlines()\n",
    "\n",
    "rest = set(from_dir) - set(all)"
   ]
  },
  {
   "cell_type": "markdown",
   "metadata": {},
   "source": [
    "Here I check what's the maximul length as well as checks for empty volumes of the preprocessed volumes in order to then apply a preprocessing with fixed depth, for DeepLearning downstream tasks"
   ]
  },
  {
   "cell_type": "code",
   "execution_count": 5,
   "metadata": {},
   "outputs": [
    {
     "name": "stdout",
     "output_type": "stream",
     "text": [
      "131\n"
     ]
    }
   ],
   "source": [
    "import os\n",
    "import numpy as np\n",
    "root_path = \"./data/processed_CPTACUCEC_3D_pad/CT\"\n",
    "subfolders = [f.path for f in os.scandir(root_path) if f.is_dir()] #Get patients folders\n",
    "empty_count = 0\n",
    "empty_patients = []\n",
    "max_length = 0\n",
    "for subfolder in subfolders:\n",
    "    patient_id = subfolder.split('/')[-1]\n",
    "    volumes = [f.path for f in os.scandir(subfolder) ]\n",
    "    for volume in volumes:\n",
    "        length = len(np.load(volume))\n",
    "        if length == 0:\n",
    "            print(f\"!Warning! empty volume! patient_id:{patient_id}\")\n",
    "        #print(f\"{patient_id}, volume length: {length}\")\n",
    "        if length != 131:\n",
    "            print(f\"length: {length}\\n patient_id:{patient_id}\") \n",
    "        if  length > max_length:\n",
    "            max_length = length\n",
    "            \n",
    "print(max_length)\n"
   ]
  },
  {
   "cell_type": "code",
   "execution_count": null,
   "metadata": {},
   "outputs": [],
   "source": [
    "import os\n",
    "import numpy as np\n",
    "root_path = \"./data/processed_CPTACUCEC_3D_HR/CT\"\n",
    "subfolders = [f.path for f in os.scandir(root_path) if f.is_dir()] #Get patients folders\n",
    "empty_count = 0\n",
    "empty_patients = []\n",
    "max_length = 0\n",
    "for subfolder in subfolders:\n",
    "    patient_id = subfolder.split('/')[-1]\n",
    "    volumes = [f.path for f in os.scandir(subfolder) ]\n",
    "    for volume in volumes:\n",
    "        length = len(np.load(volume))\n",
    "        if length == 0:\n",
    "            print(f\"!Warning! empty volume! patient_id:{patient_id}\")\n",
    "        #print(f\"{patient_id}, volume length: {length}\")\n",
    "        if length != 131:\n",
    "            print(f\"length: {length}\\n patient_id:{patient_id}\") \n",
    "        if  length > max_length:\n",
    "            max_length = length\n",
    "print(max_length)\n"
   ]
  },
  {
   "cell_type": "code",
   "execution_count": 4,
   "metadata": {},
   "outputs": [
    {
     "data": {
      "image/png": "[encoded data removed]",
      "text/plain": [
       "<Figure size 800x600 with 1 Axes>"
      ]
     },
     "metadata": {},
     "output_type": "display_data"
    }
   ],
   "source": [
    "import matplotlib.pyplot as plt\n",
    "import numpy as np\n",
    "\n",
    "# Data\n",
    "classes = ['G1', 'G2', 'G3']\n",
    "train_volumes = [11, 91, 37]\n",
    "val_volumes = [4, 8, 6]\n",
    "\n",
    "# Bar positions\n",
    "x = np.arange(len(classes))\n",
    "\n",
    "# Plot configuration\n",
    "fig, ax = plt.subplots(figsize=(8, 6))\n",
    "\n",
    "# Stacked bars\n",
    "bars_train = ax.bar(x, train_volumes, label='Train', color='skyblue')\n",
    "bars_val = ax.bar(x, val_volumes, bottom=train_volumes, label='Validation', color='orange')\n",
    "\n",
    "# Add labels and title\n",
    "ax.set_xlabel('Classes', fontsize=14)\n",
    "ax.set_ylabel('Number of Volumes', fontsize=14)\n",
    "ax.set_title('CPTAC-PDA: Distribution of CT Volumes Across Classes', fontsize=16)\n",
    "ax.set_xticks(x)\n",
    "ax.set_xticklabels(classes, fontsize=14)\n",
    "ax.legend()\n",
    "\n",
    "# Annotate values on bars\n",
    "for i in range(len(x)):\n",
    "    # Annotate train\n",
    "    ax.text(x[i], train_volumes[i] / 2, str(train_volumes[i]), ha='center', va='center', color='black', fontsize=16)\n",
    "    # Annotate validation\n",
    "    ax.text(x[i], train_volumes[i] + val_volumes[i] / 2, str(val_volumes[i]), ha='center', va='center', color='black', fontsize=16)\n",
    "\n",
    "# Annotate total volumes\n",
    "for i, total in enumerate(np.array(train_volumes) + np.array(val_volumes)):\n",
    "    ax.text(x[i], total + 1, f\"Total: {total}\", ha='center', va='bottom', fontsize=14, fontweight='bold')\n",
    "\n",
    "plt.tight_layout()\n",
    "plt.show()\n"
   ]
  },
  {
   "cell_type": "code",
   "execution_count": null,
   "metadata": {},
   "outputs": [],
   "source": [
    "import matplotlib.pyplot as plt\n",
    "import numpy as np\n",
    "\n",
    "# Data\n",
    "classes = ['G1', 'G2', 'G3']\n",
    "train_volumes = [29, 138, 56]\n",
    "val_volumes = [14, 24, 14]\n",
    "\n",
    "# Bar positions\n",
    "x = np.arange(len(classes))\n",
    "\n",
    "# Plot configuration\n",
    "fig, ax = plt.subplots(figsize=(8, 6))\n",
    "\n",
    "# Stacked bars\n",
    "bars_train = ax.bar(x, train_volumes, label='Train', color='skyblue')\n",
    "bars_val = ax.bar(x, val_volumes, bottom=train_volumes, label='Validation', color='orange')\n",
    "\n",
    "# Add labels and title\n",
    "ax.set_xlabel('Classes', fontsize=14)\n",
    "ax.set_ylabel('Number of Volumes', fontsize=14)\n",
    "ax.set_title('CPTAC-UCEC: Distribution of CT Volumes Across Classes', fontsize=16)\n",
    "ax.set_xticks(x)\n",
    "ax.set_xticklabels(classes, fontsize=14)\n",
    "ax.legend()\n",
    "\n",
    "# Annotate values on bars\n",
    "for i in range(len(x)):\n",
    "    # Annotate train\n",
    "    ax.text(x[i], train_volumes[i] / 2, str(train_volumes[i]), ha='center', va='center', color='black', fontsize=16)\n",
    "    # Annotate validation\n",
    "    ax.text(x[i], train_volumes[i] + val_volumes[i] / 2, str(val_volumes[i]), ha='center', va='center', color='black', fontsize=16)\n",
    "\n",
    "# Annotate total volumes\n",
    "for i, total in enumerate(np.array(train_volumes) + np.array(val_volumes)):\n",
    "    ax.text(x[i], total + 1, f\"Total: {total}\", ha='center', va='bottom', fontsize=14, fontweight='bold')\n",
    "\n",
    "plt.tight_layout()\n",
    "plt.show()\n"
   ]
  }
 ],
 "metadata": {
  "kernelspec": {
   "display_name": "research_biocv_proj",
   "language": "python",
   "name": "python3"
  },
  "language_info": {
   "codemirror_mode": {
    "name": "ipython",
    "version": 3
   },
   "file_extension": ".py",
   "mimetype": "text/x-python",
   "name": "python",
   "nbconvert_exporter": "python",
   "pygments_lexer": "ipython3",
   "version": "3.9.20"
  }
 },
 "nbformat": 4,
 "nbformat_minor": 2
}
