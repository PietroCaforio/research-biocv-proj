{
 "cells": [
  {
   "cell_type": "markdown",
   "id": "ed057e57",
   "metadata": {
    "papermill": {
     "duration": 0.010978,
     "end_time": "2024-09-21T10:40:55.626227",
     "exception": false,
     "start_time": "2024-09-21T10:40:55.615249",
     "status": "completed"
    },
    "tags": []
   },
   "source": [
    "<a href=\"https://www.kaggle.com/code/pietrocaforio/unimodal-ct-training-kaggle?scriptVersionId=197281783\" target=\"_blank\"><img align=\"left\" alt=\"Kaggle\" title=\"Open in Kaggle\" src=\"https://kaggle.com/static/images/open-in-kaggle.svg\"></a>"
   ]
  },
  {
   "cell_type": "markdown",
   "id": "5cc6bb40",
   "metadata": {
    "papermill": {
     "duration": 0.011467,
     "end_time": "2024-09-21T10:40:55.648648",
     "exception": false,
     "start_time": "2024-09-21T10:40:55.637181",
     "status": "completed"
    },
    "tags": []
   },
   "source": [
    "# Train 3D unimodal CT"
   ]
  },
  {
   "cell_type": "code",
   "execution_count": 1,
   "id": "a8eda858",
   "metadata": {
    "execution": {
     "iopub.execute_input": "2024-09-21T10:40:55.671220Z",
     "iopub.status.busy": "2024-09-21T10:40:55.670814Z",
     "iopub.status.idle": "2024-09-21T10:40:58.519326Z",
     "shell.execute_reply": "2024-09-21T10:40:58.518354Z"
    },
    "papermill": {
     "duration": 2.862732,
     "end_time": "2024-09-21T10:40:58.521900",
     "exception": false,
     "start_time": "2024-09-21T10:40:55.659168",
     "status": "completed"
    },
    "tags": []
   },
   "outputs": [
    {
     "name": "stdout",
     "output_type": "stream",
     "text": [
      "Cloning into 'research-biocv-proj'...\r\n",
      "remote: Enumerating objects: 227, done.\u001b[K\r\n",
      "remote: Counting objects: 100% (19/19), done.\u001b[K\r\n",
      "remote: Compressing objects: 100% (15/15), done.\u001b[K\r\n",
      "remote: Total 227 (delta 7), reused 9 (delta 4), pack-reused 208 (from 1)\u001b[K\r\n",
      "Receiving objects: 100% (227/227), 3.61 MiB | 19.90 MiB/s, done.\r\n",
      "Resolving deltas: 100% (129/129), done.\r\n",
      "Branch 'dev' set up to track remote branch 'dev' from 'origin'.\r\n",
      "Switched to a new branch 'dev'\r\n"
     ]
    }
   ],
   "source": [
    "!git clone https://github.com/PietroCaforio/research-biocv-proj\n",
    "!cd research-biocv-proj && git switch dev"
   ]
  },
  {
   "cell_type": "code",
   "execution_count": 2,
   "id": "2dbbae95",
   "metadata": {
    "execution": {
     "iopub.execute_input": "2024-09-21T10:40:58.545785Z",
     "iopub.status.busy": "2024-09-21T10:40:58.545437Z",
     "iopub.status.idle": "2024-09-21T10:40:59.780321Z",
     "shell.execute_reply": "2024-09-21T10:40:59.778926Z"
    },
    "papermill": {
     "duration": 1.249973,
     "end_time": "2024-09-21T10:40:59.783213",
     "exception": false,
     "start_time": "2024-09-21T10:40:58.533240",
     "status": "completed"
    },
    "tags": []
   },
   "outputs": [
    {
     "name": "stdout",
     "output_type": "stream",
     "text": [
      "Already up to date.\r\n"
     ]
    }
   ],
   "source": [
    "!cd research-biocv-proj && git pull"
   ]
  },
  {
   "cell_type": "code",
   "execution_count": 3,
   "id": "ba240872",
   "metadata": {
    "execution": {
     "iopub.execute_input": "2024-09-21T10:40:59.819571Z",
     "iopub.status.busy": "2024-09-21T10:40:59.819134Z",
     "iopub.status.idle": "2024-09-21T10:41:14.551121Z",
     "shell.execute_reply": "2024-09-21T10:41:14.550112Z"
    },
    "papermill": {
     "duration": 14.751999,
     "end_time": "2024-09-21T10:41:14.553792",
     "exception": false,
     "start_time": "2024-09-21T10:40:59.801793",
     "status": "completed"
    },
    "tags": []
   },
   "outputs": [
    {
     "name": "stdout",
     "output_type": "stream",
     "text": [
      "Requirement already satisfied: wandb in /opt/conda/lib/python3.10/site-packages (0.17.7)\r\n",
      "Requirement already satisfied: click!=8.0.0,>=7.1 in /opt/conda/lib/python3.10/site-packages (from wandb) (8.1.7)\r\n",
      "Requirement already satisfied: docker-pycreds>=0.4.0 in /opt/conda/lib/python3.10/site-packages (from wandb) (0.4.0)\r\n",
      "Requirement already satisfied: gitpython!=3.1.29,>=1.0.0 in /opt/conda/lib/python3.10/site-packages (from wandb) (3.1.43)\r\n",
      "Requirement already satisfied: platformdirs in /opt/conda/lib/python3.10/site-packages (from wandb) (3.11.0)\r\n",
      "Requirement already satisfied: protobuf!=4.21.0,<6,>=3.19.0 in /opt/conda/lib/python3.10/site-packages (from wandb) (3.20.3)\r\n",
      "Requirement already satisfied: psutil>=5.0.0 in /opt/conda/lib/python3.10/site-packages (from wandb) (5.9.3)\r\n",
      "Requirement already satisfied: pyyaml in /opt/conda/lib/python3.10/site-packages (from wandb) (6.0.2)\r\n",
      "Requirement already satisfied: requests<3,>=2.0.0 in /opt/conda/lib/python3.10/site-packages (from wandb) (2.32.3)\r\n",
      "Requirement already satisfied: sentry-sdk>=1.0.0 in /opt/conda/lib/python3.10/site-packages (from wandb) (2.13.0)\r\n",
      "Requirement already satisfied: setproctitle in /opt/conda/lib/python3.10/site-packages (from wandb) (1.3.3)\r\n",
      "Requirement already satisfied: setuptools in /opt/conda/lib/python3.10/site-packages (from wandb) (70.0.0)\r\n",
      "Requirement already satisfied: six>=1.4.0 in /opt/conda/lib/python3.10/site-packages (from docker-pycreds>=0.4.0->wandb) (1.16.0)\r\n",
      "Requirement already satisfied: gitdb<5,>=4.0.1 in /opt/conda/lib/python3.10/site-packages (from gitpython!=3.1.29,>=1.0.0->wandb) (4.0.11)\r\n",
      "Requirement already satisfied: charset-normalizer<4,>=2 in /opt/conda/lib/python3.10/site-packages (from requests<3,>=2.0.0->wandb) (3.3.2)\r\n",
      "Requirement already satisfied: idna<4,>=2.5 in /opt/conda/lib/python3.10/site-packages (from requests<3,>=2.0.0->wandb) (3.7)\r\n",
      "Requirement already satisfied: urllib3<3,>=1.21.1 in /opt/conda/lib/python3.10/site-packages (from requests<3,>=2.0.0->wandb) (1.26.18)\r\n",
      "Requirement already satisfied: certifi>=2017.4.17 in /opt/conda/lib/python3.10/site-packages (from requests<3,>=2.0.0->wandb) (2024.7.4)\r\n",
      "Requirement already satisfied: smmap<6,>=3.0.1 in /opt/conda/lib/python3.10/site-packages (from gitdb<5,>=4.0.1->gitpython!=3.1.29,>=1.0.0->wandb) (5.0.1)\r\n"
     ]
    }
   ],
   "source": [
    "!pip install wandb"
   ]
  },
  {
   "cell_type": "code",
   "execution_count": 4,
   "id": "9ed97fc3",
   "metadata": {
    "execution": {
     "iopub.execute_input": "2024-09-21T10:41:14.580843Z",
     "iopub.status.busy": "2024-09-21T10:41:14.580465Z",
     "iopub.status.idle": "2024-09-21T10:41:14.731399Z",
     "shell.execute_reply": "2024-09-21T10:41:14.730559Z"
    },
    "papermill": {
     "duration": 0.166579,
     "end_time": "2024-09-21T10:41:14.733776",
     "exception": false,
     "start_time": "2024-09-21T10:41:14.567197",
     "status": "completed"
    },
    "tags": []
   },
   "outputs": [],
   "source": [
    "from kaggle_secrets import UserSecretsClient\n",
    "user_secrets = UserSecretsClient()\n",
    "secret_value_0 = user_secrets.get_secret(\"3d_wandb_key\")"
   ]
  },
  {
   "cell_type": "code",
   "execution_count": 5,
   "id": "4af7f1f0",
   "metadata": {
    "execution": {
     "iopub.execute_input": "2024-09-21T10:41:14.761319Z",
     "iopub.status.busy": "2024-09-21T10:41:14.760936Z",
     "iopub.status.idle": "2024-09-21T10:41:17.105414Z",
     "shell.execute_reply": "2024-09-21T10:41:17.104405Z"
    },
    "papermill": {
     "duration": 2.361212,
     "end_time": "2024-09-21T10:41:17.107711",
     "exception": false,
     "start_time": "2024-09-21T10:41:14.746499",
     "status": "completed"
    },
    "tags": []
   },
   "outputs": [
    {
     "name": "stderr",
     "output_type": "stream",
     "text": [
      "\u001b[34m\u001b[1mwandb\u001b[0m: W&B API key is configured. Use \u001b[1m`wandb login --relogin`\u001b[0m to force relogin\n",
      "\u001b[34m\u001b[1mwandb\u001b[0m: \u001b[33mWARNING\u001b[0m If you're specifying your api key in code, ensure this code is not shared publicly.\n",
      "\u001b[34m\u001b[1mwandb\u001b[0m: \u001b[33mWARNING\u001b[0m Consider setting the WANDB_API_KEY environment variable, or running `wandb login` from the command line.\n",
      "\u001b[34m\u001b[1mwandb\u001b[0m: Appending key for api.wandb.ai to your netrc file: /root/.netrc\n"
     ]
    },
    {
     "data": {
      "text/plain": [
       "True"
      ]
     },
     "execution_count": 5,
     "metadata": {},
     "output_type": "execute_result"
    }
   ],
   "source": [
    "import wandb\n",
    "wandb.login(key=secret_value_0)"
   ]
  },
  {
   "cell_type": "code",
   "execution_count": 6,
   "id": "23564b30",
   "metadata": {
    "execution": {
     "iopub.execute_input": "2024-09-21T10:41:17.134334Z",
     "iopub.status.busy": "2024-09-21T10:41:17.133375Z",
     "iopub.status.idle": "2024-09-21T10:41:21.700895Z",
     "shell.execute_reply": "2024-09-21T10:41:21.699723Z"
    },
    "papermill": {
     "duration": 4.583343,
     "end_time": "2024-09-21T10:41:21.703514",
     "exception": false,
     "start_time": "2024-09-21T10:41:17.120171",
     "status": "completed"
    },
    "tags": []
   },
   "outputs": [],
   "source": [
    "import sys\n",
    "from pathlib import Path\n",
    "\n",
    "# Add the 'data' directory to sys.path\n",
    "sys.path.append(str(Path('research-biocv-proj').resolve()))\n",
    "from data.unimodal3D import *\n",
    "from pathlib import Path\n",
    "\n",
    "import numpy as np\n",
    "import torch\n",
    "from torch.utils.data import DataLoader\n",
    "\n",
    "from sklearn.utils.class_weight import compute_class_weight"
   ]
  },
  {
   "cell_type": "markdown",
   "id": "3749e69b",
   "metadata": {
    "papermill": {
     "duration": 0.012098,
     "end_time": "2024-09-21T10:41:21.728438",
     "exception": false,
     "start_time": "2024-09-21T10:41:21.716340",
     "status": "completed"
    },
    "tags": []
   },
   "source": [
    "### Train ResNet model"
   ]
  },
  {
   "cell_type": "code",
   "execution_count": 7,
   "id": "d118ba61",
   "metadata": {
    "execution": {
     "iopub.execute_input": "2024-09-21T10:41:21.757238Z",
     "iopub.status.busy": "2024-09-21T10:41:21.755958Z",
     "iopub.status.idle": "2024-09-21T10:41:21.767719Z",
     "shell.execute_reply": "2024-09-21T10:41:21.766805Z"
    },
    "papermill": {
     "duration": 0.027889,
     "end_time": "2024-09-21T10:41:21.769601",
     "exception": false,
     "start_time": "2024-09-21T10:41:21.741712",
     "status": "completed"
    },
    "tags": []
   },
   "outputs": [],
   "source": [
    "class EarlyStopping:\n",
    "    \"\"\"Early stops the training if validation loss doesn't improve after a given patience.\"\"\"\n",
    "    def __init__(self, patience=7, verbose=False, delta=0, path='checkpoint.pt', trace_func=print):\n",
    "        \"\"\"\n",
    "        Args:\n",
    "            patience (int): How long to wait after last time validation loss improved.\n",
    "                            Default: 7\n",
    "            verbose (bool): If True, prints a message for each validation loss improvement. \n",
    "                            Default: False\n",
    "            delta (float): Minimum change in the monitored quantity to qualify as an improvement.\n",
    "                            Default: 0\n",
    "            path (str): Path for the checkpoint to be saved to.\n",
    "                            Default: 'checkpoint.pt'\n",
    "            trace_func (function): trace print function.\n",
    "                            Default: print            \n",
    "        \"\"\"\n",
    "        self.patience = patience\n",
    "        self.verbose = verbose\n",
    "        self.counter = 0\n",
    "        self.best_score = None\n",
    "        self.early_stop = False\n",
    "        self.val_loss_min = np.Inf\n",
    "        self.delta = delta\n",
    "        self.path = path\n",
    "        self.trace_func = trace_func\n",
    "    def __call__(self, val_loss, model):\n",
    "\n",
    "        score = -val_loss\n",
    "\n",
    "        if self.best_score is None:\n",
    "            self.best_score = score\n",
    "            self.save_checkpoint(val_loss, model)\n",
    "        elif score < self.best_score + self.delta:\n",
    "            self.counter += 1\n",
    "            self.trace_func(f'EarlyStopping counter: {self.counter} out of {self.patience}')\n",
    "            if self.counter >= self.patience:\n",
    "                self.early_stop = True\n",
    "        else:\n",
    "            self.best_score = score\n",
    "            self.save_checkpoint(val_loss, model)\n",
    "            self.counter = 0\n",
    "\n",
    "    def save_checkpoint(self, val_loss, model):\n",
    "        '''Saves model when validation loss decrease.'''\n",
    "        if self.verbose:\n",
    "            self.trace_func(f'Validation loss decreased ({self.val_loss_min:.6f} --> {val_loss:.6f}).  Saving model ...')\n",
    "        torch.save(model.state_dict(), self.path)\n",
    "        self.val_loss_min = val_loss"
   ]
  },
  {
   "cell_type": "code",
   "execution_count": 8,
   "id": "e676599d",
   "metadata": {
    "execution": {
     "iopub.execute_input": "2024-09-21T10:41:21.795538Z",
     "iopub.status.busy": "2024-09-21T10:41:21.795158Z",
     "iopub.status.idle": "2024-09-21T10:41:21.817208Z",
     "shell.execute_reply": "2024-09-21T10:41:21.816314Z"
    },
    "papermill": {
     "duration": 0.037405,
     "end_time": "2024-09-21T10:41:21.819207",
     "exception": false,
     "start_time": "2024-09-21T10:41:21.781802",
     "status": "completed"
    },
    "tags": []
   },
   "outputs": [],
   "source": [
    "def train(model,config, run_name=None):\n",
    "    wandb.init(\n",
    "        # set the wandb project where this run will be logged\n",
    "        project=\"3Dunimodal_ct_training\",\n",
    "        name = run_name,\n",
    "        # track hyperparameters and run metadata\n",
    "        config=config\n",
    "    )\n",
    "    optimizer = optim.Adam(model.parameters(), lr=config[\"learning_rate\"], weight_decay=config[\"weight_decay\"])\n",
    "    criterion = nn.CrossEntropyLoss(weight = torch.tensor(config[\"class_weights\"], dtype=torch.float).to(device) )\n",
    "    scheduler = optim.lr_scheduler.ReduceLROnPlateau(optimizer, 'min',factor = config[\"reduce_lr_factor\"], patience = config[\"patience\"])\n",
    "    # initialize the early_stopping object\n",
    "    early_stopping = EarlyStopping(patience=config[\"early_stop_patience\"], verbose=True)\n",
    "    \n",
    "    # Training loop\n",
    "    num_epochs = config[\"epochs\"]\n",
    "    for epoch in range(num_epochs):\n",
    "        model.train()\n",
    "        running_loss = 0.0\n",
    "        train_correct = 0\n",
    "        total = 0\n",
    "        correct_per_class = [0, 0, 0]  # For G1, G2, G3\n",
    "        total_per_class = [0, 0, 0]  # For G1, G2, G3\n",
    "        for batch in train_loader:\n",
    "            volumes = batch['volume'].float().to(device)\n",
    "            labels = batch['label'].long().to(device)\n",
    "            #print(f\"volumes batch dimensions: {volumes.size()}\")\n",
    "            optimizer.zero_grad()\n",
    "            outputs = model(volumes.unsqueeze(1))\n",
    "            loss = criterion(outputs, labels)\n",
    "            _, predicted = torch.max(outputs, 1)\n",
    "            train_correct += (predicted == labels).sum().item()\n",
    "            loss.backward()\n",
    "            optimizer.step()\n",
    "            total += labels.size(0)\n",
    "            running_loss += loss.item()\n",
    "            \n",
    "            # Calculate accuracy per class\n",
    "            for i in range(3):  # We have 3 classes: G1 (0), G2 (1), G3 (2)\n",
    "                correct_per_class[i] += ((predicted == i) & (labels == i)).sum().item()\n",
    "                total_per_class[i] += (labels == i).sum().item()\n",
    "\n",
    "        train_accuracy = 100 * train_correct / total\n",
    "        class_accuracy = [(100 * correct_per_class[i] / total_per_class[i]) if total_per_class[i] > 0 else 0 for i in range(3)]\n",
    "        print(f\"Epoch {epoch+1}, Loss: {running_loss/len(train_loader)}\")\n",
    "        wandb.log({\"Train Accuracy\": train_accuracy, \"Train loss\": running_loss/len(train_loader), \"G1_TrainAcc\":class_accuracy[0], \"G2_TrainAcc\":class_accuracy[1], \"G3_TrainAcc\":class_accuracy[2]})\n",
    "\n",
    "        # Validation loop\n",
    "        model.eval()\n",
    "        val_loss = 0.0\n",
    "        correct = 0\n",
    "        total = 0\n",
    "        # Initialize counters for each class (G1, G2, G3)\n",
    "        correct_per_class = [0, 0, 0]  # For G1, G2, G3\n",
    "        total_per_class = [0, 0, 0]  # For G1, G2, G3\n",
    "\n",
    "        with torch.no_grad():\n",
    "            for batch in val_loader:\n",
    "                volumes = batch['volume'].float().to(device)\n",
    "                labels = batch['label'].long().to(device)\n",
    "                \n",
    "                outputs = model(volumes.unsqueeze(1))\n",
    "                loss = criterion(outputs, labels)\n",
    "                \n",
    "                val_loss += loss.item()\n",
    "                _, predicted = torch.max(outputs, 1)\n",
    "                total += labels.size(0)\n",
    "                correct += (predicted == labels).sum().item()\n",
    "\n",
    "                # Calculate accuracy per class\n",
    "                for i in range(3):  # We have 3 classes: G1 (0), G2 (1), G3 (2)\n",
    "                    correct_per_class[i] += ((predicted == i) & (labels == i)).sum().item()\n",
    "                    total_per_class[i] += (labels == i).sum().item()\n",
    "        scheduler.step(val_loss)\n",
    "        # Compute total accuracy and per-class accuracy\n",
    "        total_accuracy = 100 * correct / total\n",
    "        class_accuracy = [(100 * correct_per_class[i] / total_per_class[i]) if total_per_class[i] > 0 else 0 for i in range(3)]\n",
    "        print(f\"Validation Loss: {val_loss/len(val_loader)}, Total Accuracy: {total_accuracy:.2f}%\")\n",
    "        print(f\"Accuracy per class - G1: {class_accuracy[0]:.2f}%, G2: {class_accuracy[1]:.2f}%, G3: {class_accuracy[2]:.2f}%\")\n",
    "        # log metrics to wandb\n",
    "        wandb.log({\"Total Accuracy\": total_accuracy, \"Validation Loss\": val_loss/len(val_loader), \"G1_Acc\":class_accuracy[0], \"G2_Acc\":class_accuracy[1], \"G3_Acc\":class_accuracy[2]})\n",
    "        early_stopping(val_loss, model)\n",
    "        \n",
    "        if early_stopping.early_stop:\n",
    "            print(\"Early stopping\")\n",
    "            break\n",
    "    wandb.finish()  "
   ]
  },
  {
   "cell_type": "code",
   "execution_count": 9,
   "id": "59deb41c",
   "metadata": {
    "execution": {
     "iopub.execute_input": "2024-09-21T10:41:21.845096Z",
     "iopub.status.busy": "2024-09-21T10:41:21.844743Z",
     "iopub.status.idle": "2024-09-21T10:41:23.865830Z",
     "shell.execute_reply": "2024-09-21T10:41:23.864899Z"
    },
    "papermill": {
     "duration": 2.036555,
     "end_time": "2024-09-21T10:41:23.868226",
     "exception": false,
     "start_time": "2024-09-21T10:41:21.831671",
     "status": "completed"
    },
    "tags": []
   },
   "outputs": [],
   "source": [
    "import torch.nn as nn\n",
    "import torch.optim as optim\n",
    "from transformers import ResNetForImageClassification"
   ]
  },
  {
   "cell_type": "code",
   "execution_count": 10,
   "id": "6301c2f8",
   "metadata": {
    "execution": {
     "iopub.execute_input": "2024-09-21T10:41:23.895267Z",
     "iopub.status.busy": "2024-09-21T10:41:23.894687Z",
     "iopub.status.idle": "2024-09-21T10:41:38.092258Z",
     "shell.execute_reply": "2024-09-21T10:41:38.091274Z"
    },
    "papermill": {
     "duration": 14.213949,
     "end_time": "2024-09-21T10:41:38.095020",
     "exception": false,
     "start_time": "2024-09-21T10:41:23.881071",
     "status": "completed"
    },
    "tags": []
   },
   "outputs": [],
   "source": [
    "train_dataset = UnimodalCTDataset3D(split='train',dataset_path = \"/kaggle/input/preprocessed57patientscptacpda/processed/\" )\n",
    "val_dataset = UnimodalCTDataset3D(split='val',dataset_path = \"/kaggle/input/preprocessed57patientscptacpda/processed/\")\n",
    "\n",
    "train_loader = DataLoader(train_dataset, batch_size=5, shuffle=True)\n",
    "val_loader = DataLoader(val_dataset, batch_size=2, shuffle=False)"
   ]
  },
  {
   "cell_type": "code",
   "execution_count": 11,
   "id": "a0b0dba9",
   "metadata": {
    "execution": {
     "iopub.execute_input": "2024-09-21T10:41:38.122215Z",
     "iopub.status.busy": "2024-09-21T10:41:38.121785Z",
     "iopub.status.idle": "2024-09-21T10:41:38.126988Z",
     "shell.execute_reply": "2024-09-21T10:41:38.126008Z"
    },
    "papermill": {
     "duration": 0.021928,
     "end_time": "2024-09-21T10:41:38.129487",
     "exception": false,
     "start_time": "2024-09-21T10:41:38.107559",
     "status": "completed"
    },
    "tags": []
   },
   "outputs": [
    {
     "name": "stdout",
     "output_type": "stream",
     "text": [
      "Training set stats:{'length': 135, 'class_frequency': {'G1': 11, 'G2': 91, 'G3': 33}}\n",
      "Validation set stats:{'length': 19, 'class_frequency': {'G1': 5, 'G2': 8, 'G3': 6}}\n"
     ]
    }
   ],
   "source": [
    "print(f\"Training set stats:{train_dataset.stats()}\")\n",
    "print(f\"Validation set stats:{val_dataset.stats()}\")"
   ]
  },
  {
   "cell_type": "code",
   "execution_count": 12,
   "id": "b9dcfda7",
   "metadata": {
    "execution": {
     "iopub.execute_input": "2024-09-21T10:41:38.156346Z",
     "iopub.status.busy": "2024-09-21T10:41:38.155386Z",
     "iopub.status.idle": "2024-09-21T10:41:39.117271Z",
     "shell.execute_reply": "2024-09-21T10:41:39.116404Z"
    },
    "papermill": {
     "duration": 0.977646,
     "end_time": "2024-09-21T10:41:39.119731",
     "exception": false,
     "start_time": "2024-09-21T10:41:38.142085",
     "status": "completed"
    },
    "tags": []
   },
   "outputs": [],
   "source": [
    "labels = []\n",
    "for sample in train_dataset:\n",
    "    labels.append(sample[\"label\"])\n",
    "labels = np.array(labels)\n",
    "class_weights = compute_class_weight(\"balanced\", classes=np.unique(labels), y=labels)"
   ]
  },
  {
   "cell_type": "code",
   "execution_count": 13,
   "id": "c895d0fe",
   "metadata": {
    "execution": {
     "iopub.execute_input": "2024-09-21T10:41:39.146528Z",
     "iopub.status.busy": "2024-09-21T10:41:39.146126Z",
     "iopub.status.idle": "2024-09-21T10:41:39.151904Z",
     "shell.execute_reply": "2024-09-21T10:41:39.150966Z"
    },
    "papermill": {
     "duration": 0.021439,
     "end_time": "2024-09-21T10:41:39.153876",
     "exception": false,
     "start_time": "2024-09-21T10:41:39.132437",
     "status": "completed"
    },
    "tags": []
   },
   "outputs": [
    {
     "name": "stdout",
     "output_type": "stream",
     "text": [
      "[4.09090909 0.49450549 1.36363636]\n"
     ]
    }
   ],
   "source": [
    "print(class_weights)"
   ]
  },
  {
   "cell_type": "markdown",
   "id": "56917501",
   "metadata": {
    "papermill": {
     "duration": 0.012078,
     "end_time": "2024-09-21T10:41:39.178225",
     "exception": false,
     "start_time": "2024-09-21T10:41:39.166147",
     "status": "completed"
    },
    "tags": []
   },
   "source": [
    "### 3D Resnet-18"
   ]
  },
  {
   "cell_type": "code",
   "execution_count": 14,
   "id": "7899c63b",
   "metadata": {
    "execution": {
     "iopub.execute_input": "2024-09-21T10:41:39.204394Z",
     "iopub.status.busy": "2024-09-21T10:41:39.203968Z",
     "iopub.status.idle": "2024-09-21T10:41:40.262862Z",
     "shell.execute_reply": "2024-09-21T10:41:40.261832Z"
    },
    "papermill": {
     "duration": 1.075086,
     "end_time": "2024-09-21T10:41:40.265432",
     "exception": false,
     "start_time": "2024-09-21T10:41:39.190346",
     "status": "completed"
    },
    "tags": []
   },
   "outputs": [],
   "source": [
    "import torchvision.models as models"
   ]
  },
  {
   "cell_type": "code",
   "execution_count": 15,
   "id": "eb7dda01",
   "metadata": {
    "execution": {
     "iopub.execute_input": "2024-09-21T10:41:40.292002Z",
     "iopub.status.busy": "2024-09-21T10:41:40.291589Z",
     "iopub.status.idle": "2024-09-21T10:41:40.298633Z",
     "shell.execute_reply": "2024-09-21T10:41:40.297741Z"
    },
    "papermill": {
     "duration": 0.022529,
     "end_time": "2024-09-21T10:41:40.300685",
     "exception": false,
     "start_time": "2024-09-21T10:41:40.278156",
     "status": "completed"
    },
    "tags": []
   },
   "outputs": [],
   "source": [
    "class ResNet3D(nn.Module):\n",
    "    def __init__(self, num_classes):\n",
    "        super(ResNet3D, self).__init__()\n",
    "        self.model = models.video.r3d_18(pretrained=True)  # 3D ResNet18\n",
    "        self.model.stem[0] = nn.Conv3d(1, 64, kernel_size=(7, 7, 7), stride=(2, 2, 2), padding=(3, 3, 3), bias=False)\n",
    "        self.model.fc = nn.Linear(self.model.fc.in_features, num_classes)\n",
    "    \n",
    "    def forward(self, x):\n",
    "        return self.model(x)"
   ]
  },
  {
   "cell_type": "code",
   "execution_count": 16,
   "id": "d207faf4",
   "metadata": {
    "execution": {
     "iopub.execute_input": "2024-09-21T10:41:40.326969Z",
     "iopub.status.busy": "2024-09-21T10:41:40.326066Z",
     "iopub.status.idle": "2024-09-21T10:41:41.825907Z",
     "shell.execute_reply": "2024-09-21T10:41:41.824915Z"
    },
    "papermill": {
     "duration": 1.515823,
     "end_time": "2024-09-21T10:41:41.828732",
     "exception": false,
     "start_time": "2024-09-21T10:41:40.312909",
     "status": "completed"
    },
    "tags": []
   },
   "outputs": [
    {
     "name": "stderr",
     "output_type": "stream",
     "text": [
      "/opt/conda/lib/python3.10/site-packages/torchvision/models/_utils.py:208: UserWarning: The parameter 'pretrained' is deprecated since 0.13 and may be removed in the future, please use 'weights' instead.\n",
      "  warnings.warn(\n",
      "/opt/conda/lib/python3.10/site-packages/torchvision/models/_utils.py:223: UserWarning: Arguments other than a weight enum or `None` for 'weights' are deprecated since 0.13 and may be removed in the future. The current behavior is equivalent to passing `weights=R3D_18_Weights.KINETICS400_V1`. You can also use `weights=R3D_18_Weights.DEFAULT` to get the most up-to-date weights.\n",
      "  warnings.warn(msg)\n",
      "Downloading: \"https://download.pytorch.org/models/r3d_18-b3b3357e.pth\" to /root/.cache/torch/hub/checkpoints/r3d_18-b3b3357e.pth\n",
      "100%|██████████| 127M/127M [00:00<00:00, 201MB/s]\n"
     ]
    }
   ],
   "source": [
    "model = ResNet3D(num_classes = 3)"
   ]
  },
  {
   "cell_type": "code",
   "execution_count": 17,
   "id": "552eaf08",
   "metadata": {
    "execution": {
     "iopub.execute_input": "2024-09-21T10:41:41.859371Z",
     "iopub.status.busy": "2024-09-21T10:41:41.858474Z",
     "iopub.status.idle": "2024-09-21T10:41:42.126904Z",
     "shell.execute_reply": "2024-09-21T10:41:42.125881Z"
    },
    "papermill": {
     "duration": 0.284925,
     "end_time": "2024-09-21T10:41:42.129062",
     "exception": false,
     "start_time": "2024-09-21T10:41:41.844137",
     "status": "completed"
    },
    "tags": []
   },
   "outputs": [
    {
     "data": {
      "text/plain": [
       "ResNet3D(\n",
       "  (model): VideoResNet(\n",
       "    (stem): BasicStem(\n",
       "      (0): Conv3d(1, 64, kernel_size=(7, 7, 7), stride=(2, 2, 2), padding=(3, 3, 3), bias=False)\n",
       "      (1): BatchNorm3d(64, eps=1e-05, momentum=0.1, affine=True, track_running_stats=True)\n",
       "      (2): ReLU(inplace=True)\n",
       "    )\n",
       "    (layer1): Sequential(\n",
       "      (0): BasicBlock(\n",
       "        (conv1): Sequential(\n",
       "          (0): Conv3DSimple(64, 64, kernel_size=(3, 3, 3), stride=(1, 1, 1), padding=(1, 1, 1), bias=False)\n",
       "          (1): BatchNorm3d(64, eps=1e-05, momentum=0.1, affine=True, track_running_stats=True)\n",
       "          (2): ReLU(inplace=True)\n",
       "        )\n",
       "        (conv2): Sequential(\n",
       "          (0): Conv3DSimple(64, 64, kernel_size=(3, 3, 3), stride=(1, 1, 1), padding=(1, 1, 1), bias=False)\n",
       "          (1): BatchNorm3d(64, eps=1e-05, momentum=0.1, affine=True, track_running_stats=True)\n",
       "        )\n",
       "        (relu): ReLU(inplace=True)\n",
       "      )\n",
       "      (1): BasicBlock(\n",
       "        (conv1): Sequential(\n",
       "          (0): Conv3DSimple(64, 64, kernel_size=(3, 3, 3), stride=(1, 1, 1), padding=(1, 1, 1), bias=False)\n",
       "          (1): BatchNorm3d(64, eps=1e-05, momentum=0.1, affine=True, track_running_stats=True)\n",
       "          (2): ReLU(inplace=True)\n",
       "        )\n",
       "        (conv2): Sequential(\n",
       "          (0): Conv3DSimple(64, 64, kernel_size=(3, 3, 3), stride=(1, 1, 1), padding=(1, 1, 1), bias=False)\n",
       "          (1): BatchNorm3d(64, eps=1e-05, momentum=0.1, affine=True, track_running_stats=True)\n",
       "        )\n",
       "        (relu): ReLU(inplace=True)\n",
       "      )\n",
       "    )\n",
       "    (layer2): Sequential(\n",
       "      (0): BasicBlock(\n",
       "        (conv1): Sequential(\n",
       "          (0): Conv3DSimple(64, 128, kernel_size=(3, 3, 3), stride=(2, 2, 2), padding=(1, 1, 1), bias=False)\n",
       "          (1): BatchNorm3d(128, eps=1e-05, momentum=0.1, affine=True, track_running_stats=True)\n",
       "          (2): ReLU(inplace=True)\n",
       "        )\n",
       "        (conv2): Sequential(\n",
       "          (0): Conv3DSimple(128, 128, kernel_size=(3, 3, 3), stride=(1, 1, 1), padding=(1, 1, 1), bias=False)\n",
       "          (1): BatchNorm3d(128, eps=1e-05, momentum=0.1, affine=True, track_running_stats=True)\n",
       "        )\n",
       "        (relu): ReLU(inplace=True)\n",
       "        (downsample): Sequential(\n",
       "          (0): Conv3d(64, 128, kernel_size=(1, 1, 1), stride=(2, 2, 2), bias=False)\n",
       "          (1): BatchNorm3d(128, eps=1e-05, momentum=0.1, affine=True, track_running_stats=True)\n",
       "        )\n",
       "      )\n",
       "      (1): BasicBlock(\n",
       "        (conv1): Sequential(\n",
       "          (0): Conv3DSimple(128, 128, kernel_size=(3, 3, 3), stride=(1, 1, 1), padding=(1, 1, 1), bias=False)\n",
       "          (1): BatchNorm3d(128, eps=1e-05, momentum=0.1, affine=True, track_running_stats=True)\n",
       "          (2): ReLU(inplace=True)\n",
       "        )\n",
       "        (conv2): Sequential(\n",
       "          (0): Conv3DSimple(128, 128, kernel_size=(3, 3, 3), stride=(1, 1, 1), padding=(1, 1, 1), bias=False)\n",
       "          (1): BatchNorm3d(128, eps=1e-05, momentum=0.1, affine=True, track_running_stats=True)\n",
       "        )\n",
       "        (relu): ReLU(inplace=True)\n",
       "      )\n",
       "    )\n",
       "    (layer3): Sequential(\n",
       "      (0): BasicBlock(\n",
       "        (conv1): Sequential(\n",
       "          (0): Conv3DSimple(128, 256, kernel_size=(3, 3, 3), stride=(2, 2, 2), padding=(1, 1, 1), bias=False)\n",
       "          (1): BatchNorm3d(256, eps=1e-05, momentum=0.1, affine=True, track_running_stats=True)\n",
       "          (2): ReLU(inplace=True)\n",
       "        )\n",
       "        (conv2): Sequential(\n",
       "          (0): Conv3DSimple(256, 256, kernel_size=(3, 3, 3), stride=(1, 1, 1), padding=(1, 1, 1), bias=False)\n",
       "          (1): BatchNorm3d(256, eps=1e-05, momentum=0.1, affine=True, track_running_stats=True)\n",
       "        )\n",
       "        (relu): ReLU(inplace=True)\n",
       "        (downsample): Sequential(\n",
       "          (0): Conv3d(128, 256, kernel_size=(1, 1, 1), stride=(2, 2, 2), bias=False)\n",
       "          (1): BatchNorm3d(256, eps=1e-05, momentum=0.1, affine=True, track_running_stats=True)\n",
       "        )\n",
       "      )\n",
       "      (1): BasicBlock(\n",
       "        (conv1): Sequential(\n",
       "          (0): Conv3DSimple(256, 256, kernel_size=(3, 3, 3), stride=(1, 1, 1), padding=(1, 1, 1), bias=False)\n",
       "          (1): BatchNorm3d(256, eps=1e-05, momentum=0.1, affine=True, track_running_stats=True)\n",
       "          (2): ReLU(inplace=True)\n",
       "        )\n",
       "        (conv2): Sequential(\n",
       "          (0): Conv3DSimple(256, 256, kernel_size=(3, 3, 3), stride=(1, 1, 1), padding=(1, 1, 1), bias=False)\n",
       "          (1): BatchNorm3d(256, eps=1e-05, momentum=0.1, affine=True, track_running_stats=True)\n",
       "        )\n",
       "        (relu): ReLU(inplace=True)\n",
       "      )\n",
       "    )\n",
       "    (layer4): Sequential(\n",
       "      (0): BasicBlock(\n",
       "        (conv1): Sequential(\n",
       "          (0): Conv3DSimple(256, 512, kernel_size=(3, 3, 3), stride=(2, 2, 2), padding=(1, 1, 1), bias=False)\n",
       "          (1): BatchNorm3d(512, eps=1e-05, momentum=0.1, affine=True, track_running_stats=True)\n",
       "          (2): ReLU(inplace=True)\n",
       "        )\n",
       "        (conv2): Sequential(\n",
       "          (0): Conv3DSimple(512, 512, kernel_size=(3, 3, 3), stride=(1, 1, 1), padding=(1, 1, 1), bias=False)\n",
       "          (1): BatchNorm3d(512, eps=1e-05, momentum=0.1, affine=True, track_running_stats=True)\n",
       "        )\n",
       "        (relu): ReLU(inplace=True)\n",
       "        (downsample): Sequential(\n",
       "          (0): Conv3d(256, 512, kernel_size=(1, 1, 1), stride=(2, 2, 2), bias=False)\n",
       "          (1): BatchNorm3d(512, eps=1e-05, momentum=0.1, affine=True, track_running_stats=True)\n",
       "        )\n",
       "      )\n",
       "      (1): BasicBlock(\n",
       "        (conv1): Sequential(\n",
       "          (0): Conv3DSimple(512, 512, kernel_size=(3, 3, 3), stride=(1, 1, 1), padding=(1, 1, 1), bias=False)\n",
       "          (1): BatchNorm3d(512, eps=1e-05, momentum=0.1, affine=True, track_running_stats=True)\n",
       "          (2): ReLU(inplace=True)\n",
       "        )\n",
       "        (conv2): Sequential(\n",
       "          (0): Conv3DSimple(512, 512, kernel_size=(3, 3, 3), stride=(1, 1, 1), padding=(1, 1, 1), bias=False)\n",
       "          (1): BatchNorm3d(512, eps=1e-05, momentum=0.1, affine=True, track_running_stats=True)\n",
       "        )\n",
       "        (relu): ReLU(inplace=True)\n",
       "      )\n",
       "    )\n",
       "    (avgpool): AdaptiveAvgPool3d(output_size=(1, 1, 1))\n",
       "    (fc): Linear(in_features=512, out_features=3, bias=True)\n",
       "  )\n",
       ")"
      ]
     },
     "execution_count": 17,
     "metadata": {},
     "output_type": "execute_result"
    }
   ],
   "source": [
    "device = torch.device(\"cuda\" if torch.cuda.is_available() else \"cpu\")\n",
    "model.to(device)"
   ]
  },
  {
   "cell_type": "code",
   "execution_count": 18,
   "id": "46665e42",
   "metadata": {
    "execution": {
     "iopub.execute_input": "2024-09-21T10:41:42.159469Z",
     "iopub.status.busy": "2024-09-21T10:41:42.158838Z",
     "iopub.status.idle": "2024-09-21T11:21:01.148430Z",
     "shell.execute_reply": "2024-09-21T11:21:01.147682Z"
    },
    "papermill": {
     "duration": 2359.007598,
     "end_time": "2024-09-21T11:21:01.150609",
     "exception": false,
     "start_time": "2024-09-21T10:41:42.143011",
     "status": "completed"
    },
    "tags": []
   },
   "outputs": [
    {
     "name": "stderr",
     "output_type": "stream",
     "text": [
      "\u001b[34m\u001b[1mwandb\u001b[0m: Currently logged in as: \u001b[33mpietro-caforio\u001b[0m (\u001b[33mpietro-caforio-politecnico-di-milano\u001b[0m). Use \u001b[1m`wandb login --relogin`\u001b[0m to force relogin\n",
      "\u001b[34m\u001b[1mwandb\u001b[0m: wandb version 0.18.1 is available!  To upgrade, please run:\n",
      "\u001b[34m\u001b[1mwandb\u001b[0m:  $ pip install wandb --upgrade\n",
      "\u001b[34m\u001b[1mwandb\u001b[0m: Tracking run with wandb version 0.17.7\n",
      "\u001b[34m\u001b[1mwandb\u001b[0m: Run data is saved locally in \u001b[35m\u001b[1m/kaggle/working/wandb/run-20240921_104142-46gzmtzc\u001b[0m\n",
      "\u001b[34m\u001b[1mwandb\u001b[0m: Run \u001b[1m`wandb offline`\u001b[0m to turn off syncing.\n",
      "\u001b[34m\u001b[1mwandb\u001b[0m: Syncing run \u001b[33mResNet3D\u001b[0m\n",
      "\u001b[34m\u001b[1mwandb\u001b[0m: ⭐️ View project at \u001b[34m\u001b[4mhttps://wandb.ai/pietro-caforio-politecnico-di-milano/3Dunimodal_ct_training\u001b[0m\n",
      "\u001b[34m\u001b[1mwandb\u001b[0m: 🚀 View run at \u001b[34m\u001b[4mhttps://wandb.ai/pietro-caforio-politecnico-di-milano/3Dunimodal_ct_training/runs/46gzmtzc\u001b[0m\n"
     ]
    },
    {
     "name": "stdout",
     "output_type": "stream",
     "text": [
      "Epoch 1, Loss: 1.2854247711322926\n",
      "Validation Loss: 1.2779953479766846, Total Accuracy: 31.58%\n",
      "Accuracy per class - G1: 0.00%, G2: 0.00%, G3: 100.00%\n",
      "Validation loss decreased (inf --> 12.779953).  Saving model ...\n",
      "Epoch 2, Loss: 1.2770535084936354\n",
      "Validation Loss: 1.1456661880016328, Total Accuracy: 36.84%\n",
      "Accuracy per class - G1: 60.00%, G2: 0.00%, G3: 66.67%\n",
      "Validation loss decreased (12.779953 --> 11.456662).  Saving model ...\n",
      "Epoch 3, Loss: 1.1862367479889482\n",
      "Validation Loss: 1.0784759104251862, Total Accuracy: 47.37%\n",
      "Accuracy per class - G1: 60.00%, G2: 0.00%, G3: 100.00%\n",
      "Validation loss decreased (11.456662 --> 10.784759).  Saving model ...\n",
      "Epoch 4, Loss: 1.2559026457645275\n",
      "Validation Loss: 1.1020868062973022, Total Accuracy: 47.37%\n",
      "Accuracy per class - G1: 60.00%, G2: 0.00%, G3: 100.00%\n",
      "EarlyStopping counter: 1 out of 30\n",
      "Epoch 5, Loss: 1.1900247754874054\n",
      "Validation Loss: 1.0842415928840636, Total Accuracy: 47.37%\n",
      "Accuracy per class - G1: 60.00%, G2: 0.00%, G3: 100.00%\n",
      "EarlyStopping counter: 2 out of 30\n",
      "Epoch 6, Loss: 1.1477497639479461\n",
      "Validation Loss: 1.0786967158317566, Total Accuracy: 47.37%\n",
      "Accuracy per class - G1: 60.00%, G2: 0.00%, G3: 100.00%\n",
      "EarlyStopping counter: 3 out of 30\n",
      "Epoch 7, Loss: 1.1600764548337017\n",
      "Validation Loss: 1.0620069354772568, Total Accuracy: 47.37%\n",
      "Accuracy per class - G1: 60.00%, G2: 0.00%, G3: 100.00%\n",
      "Validation loss decreased (10.784759 --> 10.620069).  Saving model ...\n",
      "Epoch 8, Loss: 1.1359350085258484\n",
      "Validation Loss: 1.0584265500307084, Total Accuracy: 47.37%\n",
      "Accuracy per class - G1: 60.00%, G2: 0.00%, G3: 100.00%\n",
      "Validation loss decreased (10.620069 --> 10.584266).  Saving model ...\n",
      "Epoch 9, Loss: 1.12041030548237\n",
      "Validation Loss: 1.0534971952438354, Total Accuracy: 47.37%\n",
      "Accuracy per class - G1: 60.00%, G2: 0.00%, G3: 100.00%\n",
      "Validation loss decreased (10.584266 --> 10.534972).  Saving model ...\n",
      "Epoch 10, Loss: 1.104159160896584\n",
      "Validation Loss: 1.0456813365221023, Total Accuracy: 47.37%\n",
      "Accuracy per class - G1: 60.00%, G2: 0.00%, G3: 100.00%\n",
      "Validation loss decreased (10.534972 --> 10.456813).  Saving model ...\n",
      "Epoch 11, Loss: 1.0501296939673248\n",
      "Validation Loss: 1.0587605655193328, Total Accuracy: 47.37%\n",
      "Accuracy per class - G1: 60.00%, G2: 0.00%, G3: 100.00%\n",
      "EarlyStopping counter: 1 out of 30\n",
      "Epoch 12, Loss: 1.1082066650743838\n",
      "Validation Loss: 1.0600010633468628, Total Accuracy: 47.37%\n",
      "Accuracy per class - G1: 60.00%, G2: 0.00%, G3: 100.00%\n",
      "EarlyStopping counter: 2 out of 30\n",
      "Epoch 13, Loss: 1.0960112125785262\n",
      "Validation Loss: 1.064398142695427, Total Accuracy: 47.37%\n",
      "Accuracy per class - G1: 60.00%, G2: 0.00%, G3: 100.00%\n",
      "EarlyStopping counter: 3 out of 30\n",
      "Epoch 14, Loss: 1.042382664150662\n",
      "Validation Loss: 1.0603245973587037, Total Accuracy: 47.37%\n",
      "Accuracy per class - G1: 60.00%, G2: 0.00%, G3: 100.00%\n",
      "EarlyStopping counter: 4 out of 30\n",
      "Epoch 15, Loss: 1.0536505988350622\n",
      "Validation Loss: 1.042451974749565, Total Accuracy: 47.37%\n",
      "Accuracy per class - G1: 60.00%, G2: 0.00%, G3: 100.00%\n",
      "Validation loss decreased (10.456813 --> 10.424520).  Saving model ...\n",
      "Epoch 16, Loss: 1.0268851143342477\n",
      "Validation Loss: 1.0246425047516823, Total Accuracy: 47.37%\n",
      "Accuracy per class - G1: 60.00%, G2: 0.00%, G3: 100.00%\n",
      "Validation loss decreased (10.424520 --> 10.246425).  Saving model ...\n",
      "Epoch 17, Loss: 1.0947267247570887\n",
      "Validation Loss: 1.0559336066246032, Total Accuracy: 47.37%\n",
      "Accuracy per class - G1: 60.00%, G2: 0.00%, G3: 100.00%\n",
      "EarlyStopping counter: 1 out of 30\n",
      "Epoch 18, Loss: 1.04064867010823\n",
      "Validation Loss: 1.0580870002508163, Total Accuracy: 47.37%\n",
      "Accuracy per class - G1: 60.00%, G2: 0.00%, G3: 100.00%\n",
      "EarlyStopping counter: 2 out of 30\n",
      "Epoch 19, Loss: 1.0124329140892736\n",
      "Validation Loss: 1.0604501903057098, Total Accuracy: 47.37%\n",
      "Accuracy per class - G1: 60.00%, G2: 0.00%, G3: 100.00%\n",
      "EarlyStopping counter: 3 out of 30\n",
      "Epoch 20, Loss: 1.0052888834917988\n",
      "Validation Loss: 1.0525099903345108, Total Accuracy: 47.37%\n",
      "Accuracy per class - G1: 60.00%, G2: 0.00%, G3: 100.00%\n",
      "EarlyStopping counter: 4 out of 30\n",
      "Epoch 21, Loss: 1.0473259411476277\n",
      "Validation Loss: 1.046360245347023, Total Accuracy: 47.37%\n",
      "Accuracy per class - G1: 60.00%, G2: 0.00%, G3: 100.00%\n",
      "EarlyStopping counter: 5 out of 30\n",
      "Epoch 22, Loss: 1.002752255510401\n",
      "Validation Loss: 1.054729402065277, Total Accuracy: 47.37%\n",
      "Accuracy per class - G1: 60.00%, G2: 0.00%, G3: 100.00%\n",
      "EarlyStopping counter: 6 out of 30\n",
      "Epoch 23, Loss: 1.004380535196375\n",
      "Validation Loss: 1.0640874326229095, Total Accuracy: 47.37%\n",
      "Accuracy per class - G1: 60.00%, G2: 0.00%, G3: 100.00%\n",
      "EarlyStopping counter: 7 out of 30\n",
      "Epoch 24, Loss: 0.9502843110649674\n",
      "Validation Loss: 1.0465049117803573, Total Accuracy: 47.37%\n",
      "Accuracy per class - G1: 60.00%, G2: 0.00%, G3: 100.00%\n",
      "EarlyStopping counter: 8 out of 30\n",
      "Epoch 25, Loss: 1.0127646834762007\n",
      "Validation Loss: 1.082527783513069, Total Accuracy: 47.37%\n",
      "Accuracy per class - G1: 60.00%, G2: 0.00%, G3: 100.00%\n",
      "EarlyStopping counter: 9 out of 30\n",
      "Epoch 26, Loss: 0.9956001970503066\n",
      "Validation Loss: 1.1002523124217987, Total Accuracy: 47.37%\n",
      "Accuracy per class - G1: 60.00%, G2: 0.00%, G3: 100.00%\n",
      "EarlyStopping counter: 10 out of 30\n",
      "Epoch 27, Loss: 0.9123109534934715\n",
      "Validation Loss: 1.063844233751297, Total Accuracy: 42.11%\n",
      "Accuracy per class - G1: 60.00%, G2: 0.00%, G3: 83.33%\n",
      "EarlyStopping counter: 11 out of 30\n",
      "Epoch 28, Loss: 0.9141828031451614\n",
      "Validation Loss: 1.0707787364721297, Total Accuracy: 42.11%\n",
      "Accuracy per class - G1: 60.00%, G2: 0.00%, G3: 83.33%\n",
      "EarlyStopping counter: 12 out of 30\n",
      "Epoch 29, Loss: 0.9102029116065414\n",
      "Validation Loss: 1.0824432611465453, Total Accuracy: 42.11%\n",
      "Accuracy per class - G1: 60.00%, G2: 0.00%, G3: 83.33%\n",
      "EarlyStopping counter: 13 out of 30\n",
      "Epoch 30, Loss: 0.9389621085590787\n",
      "Validation Loss: 1.0447419986128808, Total Accuracy: 42.11%\n",
      "Accuracy per class - G1: 60.00%, G2: 0.00%, G3: 83.33%\n",
      "EarlyStopping counter: 14 out of 30\n",
      "Epoch 31, Loss: 0.9661383330821991\n",
      "Validation Loss: 1.0431208461523056, Total Accuracy: 42.11%\n",
      "Accuracy per class - G1: 60.00%, G2: 0.00%, G3: 83.33%\n",
      "EarlyStopping counter: 15 out of 30\n",
      "Epoch 32, Loss: 0.9347595064728348\n",
      "Validation Loss: 1.0983247995376586, Total Accuracy: 42.11%\n",
      "Accuracy per class - G1: 60.00%, G2: 0.00%, G3: 83.33%\n",
      "EarlyStopping counter: 16 out of 30\n",
      "Epoch 33, Loss: 0.8283269140455458\n",
      "Validation Loss: 1.1082796633243561, Total Accuracy: 42.11%\n",
      "Accuracy per class - G1: 60.00%, G2: 0.00%, G3: 83.33%\n",
      "EarlyStopping counter: 17 out of 30\n",
      "Epoch 34, Loss: 0.8436401740268424\n",
      "Validation Loss: 1.0889393508434295, Total Accuracy: 42.11%\n",
      "Accuracy per class - G1: 60.00%, G2: 12.50%, G3: 66.67%\n",
      "EarlyStopping counter: 18 out of 30\n",
      "Epoch 35, Loss: 0.8922266871840866\n",
      "Validation Loss: 1.0593608990311623, Total Accuracy: 47.37%\n",
      "Accuracy per class - G1: 60.00%, G2: 12.50%, G3: 83.33%\n",
      "EarlyStopping counter: 19 out of 30\n",
      "Epoch 36, Loss: 0.8591814350198816\n",
      "Validation Loss: 1.1046548992395402, Total Accuracy: 47.37%\n",
      "Accuracy per class - G1: 60.00%, G2: 12.50%, G3: 83.33%\n",
      "EarlyStopping counter: 20 out of 30\n",
      "Epoch 37, Loss: 0.886667522015395\n",
      "Validation Loss: 1.0428555607795715, Total Accuracy: 47.37%\n",
      "Accuracy per class - G1: 60.00%, G2: 25.00%, G3: 66.67%\n",
      "EarlyStopping counter: 21 out of 30\n",
      "Epoch 38, Loss: 0.8506813247998556\n",
      "Validation Loss: 1.0763798773288726, Total Accuracy: 47.37%\n",
      "Accuracy per class - G1: 60.00%, G2: 25.00%, G3: 66.67%\n",
      "EarlyStopping counter: 22 out of 30\n",
      "Epoch 39, Loss: 0.8310191807923494\n",
      "Validation Loss: 1.0725559175014496, Total Accuracy: 52.63%\n",
      "Accuracy per class - G1: 60.00%, G2: 25.00%, G3: 83.33%\n",
      "EarlyStopping counter: 23 out of 30\n",
      "Epoch 40, Loss: 0.8405994861214249\n",
      "Validation Loss: 1.1015621066093444, Total Accuracy: 47.37%\n",
      "Accuracy per class - G1: 60.00%, G2: 25.00%, G3: 66.67%\n",
      "EarlyStopping counter: 24 out of 30\n",
      "Epoch 41, Loss: 0.8362732430299123\n",
      "Validation Loss: 1.1267438232898712, Total Accuracy: 42.11%\n",
      "Accuracy per class - G1: 60.00%, G2: 0.00%, G3: 83.33%\n",
      "EarlyStopping counter: 25 out of 30\n",
      "Epoch 42, Loss: 0.8852898169446874\n",
      "Validation Loss: 1.065151247382164, Total Accuracy: 47.37%\n",
      "Accuracy per class - G1: 60.00%, G2: 25.00%, G3: 66.67%\n",
      "EarlyStopping counter: 26 out of 30\n",
      "Epoch 43, Loss: 0.9057747611293087\n",
      "Validation Loss: 1.0854746341705321, Total Accuracy: 42.11%\n",
      "Accuracy per class - G1: 60.00%, G2: 12.50%, G3: 66.67%\n",
      "EarlyStopping counter: 27 out of 30\n",
      "Epoch 44, Loss: 0.8530935501610791\n",
      "Validation Loss: 1.1073986649513246, Total Accuracy: 47.37%\n",
      "Accuracy per class - G1: 60.00%, G2: 12.50%, G3: 83.33%\n",
      "EarlyStopping counter: 28 out of 30\n",
      "Epoch 45, Loss: 0.9175608069808395\n",
      "Validation Loss: 1.0722713261842727, Total Accuracy: 47.37%\n",
      "Accuracy per class - G1: 60.00%, G2: 12.50%, G3: 83.33%\n",
      "EarlyStopping counter: 29 out of 30\n",
      "Epoch 46, Loss: 0.8087505985189367\n",
      "Validation Loss: 1.115784940123558, Total Accuracy: 47.37%\n",
      "Accuracy per class - G1: 60.00%, G2: 12.50%, G3: 83.33%\n",
      "EarlyStopping counter: 30 out of 30\n",
      "Early stopping\n"
     ]
    },
    {
     "name": "stderr",
     "output_type": "stream",
     "text": [
      "\u001b[34m\u001b[1mwandb\u001b[0m:                                                                                \n",
      "\u001b[34m\u001b[1mwandb\u001b[0m: \n",
      "\u001b[34m\u001b[1mwandb\u001b[0m: Run history:\n",
      "\u001b[34m\u001b[1mwandb\u001b[0m:          G1_Acc ▁███████████████████████████████████████\n",
      "\u001b[34m\u001b[1mwandb\u001b[0m:     G1_TrainAcc ▃▆▅▅▆▆▅▆▆█▅▃▆▅▅▅▁▅▃▅▆▆▆██▅▆▅█▆▅█▅█▆▆▅▅▆▅\n",
      "\u001b[34m\u001b[1mwandb\u001b[0m:          G2_Acc ▁▁▁▁▁▁▁▁▁▁▁▁▁▁▁▁▁▁▁▁▁▁▁▁▁▁▁▁▁▅▅▅███▁█▅▅▅\n",
      "\u001b[34m\u001b[1mwandb\u001b[0m:     G2_TrainAcc ▁▁▁▁▁▁▁▁▁▁▁▁▁▁▁▁▂▂▂▃▃▃▄▅▄▄▆▆▅▆▇▆▆▇▇██▆█▇\n",
      "\u001b[34m\u001b[1mwandb\u001b[0m:          G3_Acc █▁█████████████████████▅▅▅▅▅▅▁▅▅▁▅▁▅▁▁▅▅\n",
      "\u001b[34m\u001b[1mwandb\u001b[0m:     G3_TrainAcc ▁▂▃▄▄▄▅▇▅▆▆▆▆▅▇▇██▆▇▇█▇██▇█▇█▇▇█▇██▇█▇██\n",
      "\u001b[34m\u001b[1mwandb\u001b[0m:  Total Accuracy ▁▃▆▆▆▆▆▆▆▆▆▆▆▆▆▆▆▆▆▆▆▆▆▄▄▄▄▄▄▄▆▆▆█▆▄▆▄▆▆\n",
      "\u001b[34m\u001b[1mwandb\u001b[0m:  Train Accuracy ▁▂▂▂▂▂▂▃▃▃▃▃▃▃▃▃▄▄▃▅▅▅▅▆▆▅▇▆▇▇▇▇▇████▇█▇\n",
      "\u001b[34m\u001b[1mwandb\u001b[0m:      Train loss ██▆█▇▆▆▅▅▄▅▅▄▄▅▄▄▄▄▄▃▄▄▂▂▂▃▃▁▁▂▁▂▁▁▁▂▂▁▂\n",
      "\u001b[34m\u001b[1mwandb\u001b[0m: Validation Loss █▄▂▃▂▂▂▁▁▁▂▂▂▁▁▁▂▁▁▁▁▂▃▂▂▂▁▃▃▂▂▃▁▂▃▄▂▂▃▂\n",
      "\u001b[34m\u001b[1mwandb\u001b[0m: \n",
      "\u001b[34m\u001b[1mwandb\u001b[0m: Run summary:\n",
      "\u001b[34m\u001b[1mwandb\u001b[0m:          G1_Acc 60.0\n",
      "\u001b[34m\u001b[1mwandb\u001b[0m:     G1_TrainAcc 81.81818\n",
      "\u001b[34m\u001b[1mwandb\u001b[0m:          G2_Acc 12.5\n",
      "\u001b[34m\u001b[1mwandb\u001b[0m:     G2_TrainAcc 43.95604\n",
      "\u001b[34m\u001b[1mwandb\u001b[0m:          G3_Acc 83.33333\n",
      "\u001b[34m\u001b[1mwandb\u001b[0m:     G3_TrainAcc 96.9697\n",
      "\u001b[34m\u001b[1mwandb\u001b[0m:  Total Accuracy 47.36842\n",
      "\u001b[34m\u001b[1mwandb\u001b[0m:  Train Accuracy 60.0\n",
      "\u001b[34m\u001b[1mwandb\u001b[0m:      Train loss 0.80875\n",
      "\u001b[34m\u001b[1mwandb\u001b[0m: Validation Loss 1.11578\n",
      "\u001b[34m\u001b[1mwandb\u001b[0m: \n",
      "\u001b[34m\u001b[1mwandb\u001b[0m: 🚀 View run \u001b[33mResNet3D\u001b[0m at: \u001b[34m\u001b[4mhttps://wandb.ai/pietro-caforio-politecnico-di-milano/3Dunimodal_ct_training/runs/46gzmtzc\u001b[0m\n",
      "\u001b[34m\u001b[1mwandb\u001b[0m: ⭐️ View project at: \u001b[34m\u001b[4mhttps://wandb.ai/pietro-caforio-politecnico-di-milano/3Dunimodal_ct_training\u001b[0m\n",
      "\u001b[34m\u001b[1mwandb\u001b[0m: Synced 5 W&B file(s), 0 media file(s), 0 artifact file(s) and 0 other file(s)\n",
      "\u001b[34m\u001b[1mwandb\u001b[0m: Find logs at: \u001b[35m\u001b[1m./wandb/run-20240921_104142-46gzmtzc/logs\u001b[0m\n",
      "\u001b[34m\u001b[1mwandb\u001b[0m: \u001b[33mWARNING\u001b[0m The new W&B backend becomes opt-out in version 0.18.0; try it out with `wandb.require(\"core\")`! See https://wandb.me/wandb-core for more information.\n"
     ]
    }
   ],
   "source": [
    "config={\n",
    "    \"learning_rate\": 9.99e-7,\n",
    "    \"architecture\": \"ResNet3D\",\n",
    "    \"epochs\": 400,\n",
    "    \"weight_decay\": 1e-5,\n",
    "    \"reduce_lr_factor\": 0.25,\n",
    "    \"patience\": 20,\n",
    "    \"class_weights\": class_weights,\n",
    "    \"early_stop_patience\": 30 \n",
    "    }\n",
    "train(model, config, run_name = config[\"architecture\"])"
   ]
  }
 ],
 "metadata": {
  "kaggle": {
   "accelerator": "gpu",
   "dataSources": [
    {
     "datasetId": 5664308,
     "sourceId": 9411882,
     "sourceType": "datasetVersion"
    }
   ],
   "dockerImageVersionId": 30762,
   "isGpuEnabled": true,
   "isInternetEnabled": true,
   "language": "python",
   "sourceType": "notebook"
  },
  "kernelspec": {
   "display_name": "Python 3",
   "language": "python",
   "name": "python3"
  },
  "language_info": {
   "codemirror_mode": {
    "name": "ipython",
    "version": 3
   },
   "file_extension": ".py",
   "mimetype": "text/x-python",
   "name": "python",
   "nbconvert_exporter": "python",
   "pygments_lexer": "ipython3",
   "version": "3.10.14"
  },
  "papermill": {
   "default_parameters": {},
   "duration": 2411.004517,
   "end_time": "2024-09-21T11:21:03.790504",
   "environment_variables": {},
   "exception": null,
   "input_path": "__notebook__.ipynb",
   "output_path": "__notebook__.ipynb",
   "parameters": {},
   "start_time": "2024-09-21T10:40:52.785987",
   "version": "2.6.0"
  },
  "widgets": {
   "application/vnd.jupyter.widget-state+json": {
    "state": {
     "0f74e50d11824c589594423e545fb4fd": {
      "model_module": "@jupyter-widgets/controls",
      "model_module_version": "1.5.0",
      "model_name": "DescriptionStyleModel",
      "state": {
       "_model_module": "@jupyter-widgets/controls",
       "_model_module_version": "1.5.0",
       "_model_name": "DescriptionStyleModel",
       "_view_count": null,
       "_view_module": "@jupyter-widgets/base",
       "_view_module_version": "1.2.0",
       "_view_name": "StyleView",
       "description_width": ""
      }
     },
     "143ad20d35434be89f39cdac70e0081d": {
      "model_module": "@jupyter-widgets/controls",
      "model_module_version": "1.5.0",
      "model_name": "DescriptionStyleModel",
      "state": {
       "_model_module": "@jupyter-widgets/controls",
       "_model_module_version": "1.5.0",
       "_model_name": "DescriptionStyleModel",
       "_view_count": null,
       "_view_module": "@jupyter-widgets/base",
       "_view_module_version": "1.2.0",
       "_view_name": "StyleView",
       "description_width": ""
      }
     },
     "148dbfbb28564c9392b3e506f8ad78d6": {
      "model_module": "@jupyter-widgets/controls",
      "model_module_version": "1.5.0",
      "model_name": "HBoxModel",
      "state": {
       "_dom_classes": [],
       "_model_module": "@jupyter-widgets/controls",
       "_model_module_version": "1.5.0",
       "_model_name": "HBoxModel",
       "_view_count": null,
       "_view_module": "@jupyter-widgets/controls",
       "_view_module_version": "1.5.0",
       "_view_name": "HBoxView",
       "box_style": "",
       "children": [
        "IPY_MODEL_6a4a435278744922ba00185fa0628e06",
        "IPY_MODEL_a290bba08f9542f9bf35798535d390d9",
        "IPY_MODEL_4dc614faa4bd4cf9a688353619da2b0e"
       ],
       "layout": "IPY_MODEL_655f98d76beb4cfdbd790f0620af4fce"
      }
     },
     "19c4b812c58d4ab6bc3cd5d7bea9fdf8": {
      "model_module": "@jupyter-widgets/base",
      "model_module_version": "1.2.0",
      "model_name": "LayoutModel",
      "state": {
       "_model_module": "@jupyter-widgets/base",
       "_model_module_version": "1.2.0",
       "_model_name": "LayoutModel",
       "_view_count": null,
       "_view_module": "@jupyter-widgets/base",
       "_view_module_version": "1.2.0",
       "_view_name": "LayoutView",
       "align_content": null,
       "align_items": null,
       "align_self": null,
       "border": null,
       "bottom": null,
       "display": null,
       "flex": null,
       "flex_flow": null,
       "grid_area": null,
       "grid_auto_columns": null,
       "grid_auto_flow": null,
       "grid_auto_rows": null,
       "grid_column": null,
       "grid_gap": null,
       "grid_row": null,
       "grid_template_areas": null,
       "grid_template_columns": null,
       "grid_template_rows": null,
       "height": null,
       "justify_content": null,
       "justify_items": null,
       "left": null,
       "margin": null,
       "max_height": null,
       "max_width": null,
       "min_height": null,
       "min_width": null,
       "object_fit": null,
       "object_position": null,
       "order": null,
       "overflow": null,
       "overflow_x": null,
       "overflow_y": null,
       "padding": null,
       "right": null,
       "top": null,
       "visibility": null,
       "width": null
      }
     },
     "4dc614faa4bd4cf9a688353619da2b0e": {
      "model_module": "@jupyter-widgets/controls",
      "model_module_version": "1.5.0",
      "model_name": "HTMLModel",
      "state": {
       "_dom_classes": [],
       "_model_module": "@jupyter-widgets/controls",
       "_model_module_version": "1.5.0",
       "_model_name": "HTMLModel",
       "_view_count": null,
       "_view_module": "@jupyter-widgets/controls",
       "_view_module_version": "1.5.0",
       "_view_name": "HTMLView",
       "description": "",
       "description_tooltip": null,
       "layout": "IPY_MODEL_19c4b812c58d4ab6bc3cd5d7bea9fdf8",
       "placeholder": "​",
       "style": "IPY_MODEL_b13021f1f89f4786a7353648fc1a5884",
       "value": " 46.8M/46.8M [00:03&lt;00:00, 15.1MB/s]"
      }
     },
     "5aabee46e73c4e1e949fe611f697add0": {
      "model_module": "@jupyter-widgets/controls",
      "model_module_version": "1.5.0",
      "model_name": "ProgressStyleModel",
      "state": {
       "_model_module": "@jupyter-widgets/controls",
       "_model_module_version": "1.5.0",
       "_model_name": "ProgressStyleModel",
       "_view_count": null,
       "_view_module": "@jupyter-widgets/base",
       "_view_module_version": "1.2.0",
       "_view_name": "StyleView",
       "bar_color": null,
       "description_width": ""
      }
     },
     "5e578b3fcc5c437791b41c60ead2f373": {
      "model_module": "@jupyter-widgets/base",
      "model_module_version": "1.2.0",
      "model_name": "LayoutModel",
      "state": {
       "_model_module": "@jupyter-widgets/base",
       "_model_module_version": "1.2.0",
       "_model_name": "LayoutModel",
       "_view_count": null,
       "_view_module": "@jupyter-widgets/base",
       "_view_module_version": "1.2.0",
       "_view_name": "LayoutView",
       "align_content": null,
       "align_items": null,
       "align_self": null,
       "border": null,
       "bottom": null,
       "display": null,
       "flex": null,
       "flex_flow": null,
       "grid_area": null,
       "grid_auto_columns": null,
       "grid_auto_flow": null,
       "grid_auto_rows": null,
       "grid_column": null,
       "grid_gap": null,
       "grid_row": null,
       "grid_template_areas": null,
       "grid_template_columns": null,
       "grid_template_rows": null,
       "height": null,
       "justify_content": null,
       "justify_items": null,
       "left": null,
       "margin": null,
       "max_height": null,
       "max_width": null,
       "min_height": null,
       "min_width": null,
       "object_fit": null,
       "object_position": null,
       "order": null,
       "overflow": null,
       "overflow_x": null,
       "overflow_y": null,
       "padding": null,
       "right": null,
       "top": null,
       "visibility": null,
       "width": null
      }
     },
     "6213dd8318994913b79d296acfb123b7": {
      "model_module": "@jupyter-widgets/controls",
      "model_module_version": "1.5.0",
      "model_name": "FloatProgressModel",
      "state": {
       "_dom_classes": [],
       "_model_module": "@jupyter-widgets/controls",
       "_model_module_version": "1.5.0",
       "_model_name": "FloatProgressModel",
       "_view_count": null,
       "_view_module": "@jupyter-widgets/controls",
       "_view_module_version": "1.5.0",
       "_view_name": "ProgressView",
       "bar_style": "success",
       "description": "",
       "description_tooltip": null,
       "layout": "IPY_MODEL_5e578b3fcc5c437791b41c60ead2f373",
       "max": 69548,
       "min": 0,
       "orientation": "horizontal",
       "style": "IPY_MODEL_5aabee46e73c4e1e949fe611f697add0",
       "value": 69548
      }
     },
     "62de300bb21143b68602e94c74e3f39b": {
      "model_module": "@jupyter-widgets/base",
      "model_module_version": "1.2.0",
      "model_name": "LayoutModel",
      "state": {
       "_model_module": "@jupyter-widgets/base",
       "_model_module_version": "1.2.0",
       "_model_name": "LayoutModel",
       "_view_count": null,
       "_view_module": "@jupyter-widgets/base",
       "_view_module_version": "1.2.0",
       "_view_name": "LayoutView",
       "align_content": null,
       "align_items": null,
       "align_self": null,
       "border": null,
       "bottom": null,
       "display": null,
       "flex": null,
       "flex_flow": null,
       "grid_area": null,
       "grid_auto_columns": null,
       "grid_auto_flow": null,
       "grid_auto_rows": null,
       "grid_column": null,
       "grid_gap": null,
       "grid_row": null,
       "grid_template_areas": null,
       "grid_template_columns": null,
       "grid_template_rows": null,
       "height": null,
       "justify_content": null,
       "justify_items": null,
       "left": null,
       "margin": null,
       "max_height": null,
       "max_width": null,
       "min_height": null,
       "min_width": null,
       "object_fit": null,
       "object_position": null,
       "order": null,
       "overflow": null,
       "overflow_x": null,
       "overflow_y": null,
       "padding": null,
       "right": null,
       "top": null,
       "visibility": null,
       "width": null
      }
     },
     "655f98d76beb4cfdbd790f0620af4fce": {
      "model_module": "@jupyter-widgets/base",
      "model_module_version": "1.2.0",
      "model_name": "LayoutModel",
      "state": {
       "_model_module": "@jupyter-widgets/base",
       "_model_module_version": "1.2.0",
       "_model_name": "LayoutModel",
       "_view_count": null,
       "_view_module": "@jupyter-widgets/base",
       "_view_module_version": "1.2.0",
       "_view_name": "LayoutView",
       "align_content": null,
       "align_items": null,
       "align_self": null,
       "border": null,
       "bottom": null,
       "display": null,
       "flex": null,
       "flex_flow": null,
       "grid_area": null,
       "grid_auto_columns": null,
       "grid_auto_flow": null,
       "grid_auto_rows": null,
       "grid_column": null,
       "grid_gap": null,
       "grid_row": null,
       "grid_template_areas": null,
       "grid_template_columns": null,
       "grid_template_rows": null,
       "height": null,
       "justify_content": null,
       "justify_items": null,
       "left": null,
       "margin": null,
       "max_height": null,
       "max_width": null,
       "min_height": null,
       "min_width": null,
       "object_fit": null,
       "object_position": null,
       "order": null,
       "overflow": null,
       "overflow_x": null,
       "overflow_y": null,
       "padding": null,
       "right": null,
       "top": null,
       "visibility": null,
       "width": null
      }
     },
     "6a4a435278744922ba00185fa0628e06": {
      "model_module": "@jupyter-widgets/controls",
      "model_module_version": "1.5.0",
      "model_name": "HTMLModel",
      "state": {
       "_dom_classes": [],
       "_model_module": "@jupyter-widgets/controls",
       "_model_module_version": "1.5.0",
       "_model_name": "HTMLModel",
       "_view_count": null,
       "_view_module": "@jupyter-widgets/controls",
       "_view_module_version": "1.5.0",
       "_view_name": "HTMLView",
       "description": "",
       "description_tooltip": null,
       "layout": "IPY_MODEL_f1e9deee886e441990c8086b244101b2",
       "placeholder": "​",
       "style": "IPY_MODEL_143ad20d35434be89f39cdac70e0081d",
       "value": "model.safetensors: 100%"
      }
     },
     "70c0081ec8cf4159b2cd1184eae53b5d": {
      "model_module": "@jupyter-widgets/base",
      "model_module_version": "1.2.0",
      "model_name": "LayoutModel",
      "state": {
       "_model_module": "@jupyter-widgets/base",
       "_model_module_version": "1.2.0",
       "_model_name": "LayoutModel",
       "_view_count": null,
       "_view_module": "@jupyter-widgets/base",
       "_view_module_version": "1.2.0",
       "_view_name": "LayoutView",
       "align_content": null,
       "align_items": null,
       "align_self": null,
       "border": null,
       "bottom": null,
       "display": null,
       "flex": null,
       "flex_flow": null,
       "grid_area": null,
       "grid_auto_columns": null,
       "grid_auto_flow": null,
       "grid_auto_rows": null,
       "grid_column": null,
       "grid_gap": null,
       "grid_row": null,
       "grid_template_areas": null,
       "grid_template_columns": null,
       "grid_template_rows": null,
       "height": null,
       "justify_content": null,
       "justify_items": null,
       "left": null,
       "margin": null,
       "max_height": null,
       "max_width": null,
       "min_height": null,
       "min_width": null,
       "object_fit": null,
       "object_position": null,
       "order": null,
       "overflow": null,
       "overflow_x": null,
       "overflow_y": null,
       "padding": null,
       "right": null,
       "top": null,
       "visibility": null,
       "width": null
      }
     },
     "7dd733ad658b48359feb02f8c0436c62": {
      "model_module": "@jupyter-widgets/base",
      "model_module_version": "1.2.0",
      "model_name": "LayoutModel",
      "state": {
       "_model_module": "@jupyter-widgets/base",
       "_model_module_version": "1.2.0",
       "_model_name": "LayoutModel",
       "_view_count": null,
       "_view_module": "@jupyter-widgets/base",
       "_view_module_version": "1.2.0",
       "_view_name": "LayoutView",
       "align_content": null,
       "align_items": null,
       "align_self": null,
       "border": null,
       "bottom": null,
       "display": null,
       "flex": null,
       "flex_flow": null,
       "grid_area": null,
       "grid_auto_columns": null,
       "grid_auto_flow": null,
       "grid_auto_rows": null,
       "grid_column": null,
       "grid_gap": null,
       "grid_row": null,
       "grid_template_areas": null,
       "grid_template_columns": null,
       "grid_template_rows": null,
       "height": null,
       "justify_content": null,
       "justify_items": null,
       "left": null,
       "margin": null,
       "max_height": null,
       "max_width": null,
       "min_height": null,
       "min_width": null,
       "object_fit": null,
       "object_position": null,
       "order": null,
       "overflow": null,
       "overflow_x": null,
       "overflow_y": null,
       "padding": null,
       "right": null,
       "top": null,
       "visibility": null,
       "width": null
      }
     },
     "7f4be5cd22f64a6ebf8629388d9fe314": {
      "model_module": "@jupyter-widgets/controls",
      "model_module_version": "1.5.0",
      "model_name": "HBoxModel",
      "state": {
       "_dom_classes": [],
       "_model_module": "@jupyter-widgets/controls",
       "_model_module_version": "1.5.0",
       "_model_name": "HBoxModel",
       "_view_count": null,
       "_view_module": "@jupyter-widgets/controls",
       "_view_module_version": "1.5.0",
       "_view_name": "HBoxView",
       "box_style": "",
       "children": [
        "IPY_MODEL_f98e6a28a77b460aa5b9c367684afbf6",
        "IPY_MODEL_6213dd8318994913b79d296acfb123b7",
        "IPY_MODEL_97a6dfab7007407cac133d69ba3394c0"
       ],
       "layout": "IPY_MODEL_7fe107f7ec564556bbd41a700510e787"
      }
     },
     "7fe107f7ec564556bbd41a700510e787": {
      "model_module": "@jupyter-widgets/base",
      "model_module_version": "1.2.0",
      "model_name": "LayoutModel",
      "state": {
       "_model_module": "@jupyter-widgets/base",
       "_model_module_version": "1.2.0",
       "_model_name": "LayoutModel",
       "_view_count": null,
       "_view_module": "@jupyter-widgets/base",
       "_view_module_version": "1.2.0",
       "_view_name": "LayoutView",
       "align_content": null,
       "align_items": null,
       "align_self": null,
       "border": null,
       "bottom": null,
       "display": null,
       "flex": null,
       "flex_flow": null,
       "grid_area": null,
       "grid_auto_columns": null,
       "grid_auto_flow": null,
       "grid_auto_rows": null,
       "grid_column": null,
       "grid_gap": null,
       "grid_row": null,
       "grid_template_areas": null,
       "grid_template_columns": null,
       "grid_template_rows": null,
       "height": null,
       "justify_content": null,
       "justify_items": null,
       "left": null,
       "margin": null,
       "max_height": null,
       "max_width": null,
       "min_height": null,
       "min_width": null,
       "object_fit": null,
       "object_position": null,
       "order": null,
       "overflow": null,
       "overflow_x": null,
       "overflow_y": null,
       "padding": null,
       "right": null,
       "top": null,
       "visibility": null,
       "width": null
      }
     },
     "8c90ff6ae7f44ed1a6a8496e9269d845": {
      "model_module": "@jupyter-widgets/controls",
      "model_module_version": "1.5.0",
      "model_name": "ProgressStyleModel",
      "state": {
       "_model_module": "@jupyter-widgets/controls",
       "_model_module_version": "1.5.0",
       "_model_name": "ProgressStyleModel",
       "_view_count": null,
       "_view_module": "@jupyter-widgets/base",
       "_view_module_version": "1.2.0",
       "_view_name": "StyleView",
       "bar_color": null,
       "description_width": ""
      }
     },
     "97a6dfab7007407cac133d69ba3394c0": {
      "model_module": "@jupyter-widgets/controls",
      "model_module_version": "1.5.0",
      "model_name": "HTMLModel",
      "state": {
       "_dom_classes": [],
       "_model_module": "@jupyter-widgets/controls",
       "_model_module_version": "1.5.0",
       "_model_name": "HTMLModel",
       "_view_count": null,
       "_view_module": "@jupyter-widgets/controls",
       "_view_module_version": "1.5.0",
       "_view_name": "HTMLView",
       "description": "",
       "description_tooltip": null,
       "layout": "IPY_MODEL_70c0081ec8cf4159b2cd1184eae53b5d",
       "placeholder": "​",
       "style": "IPY_MODEL_e7c6b1c1c6304d2ca4e35472b1f690b4",
       "value": " 69.5k/69.5k [00:00&lt;00:00, 326kB/s]"
      }
     },
     "a290bba08f9542f9bf35798535d390d9": {
      "model_module": "@jupyter-widgets/controls",
      "model_module_version": "1.5.0",
      "model_name": "FloatProgressModel",
      "state": {
       "_dom_classes": [],
       "_model_module": "@jupyter-widgets/controls",
       "_model_module_version": "1.5.0",
       "_model_name": "FloatProgressModel",
       "_view_count": null,
       "_view_module": "@jupyter-widgets/controls",
       "_view_module_version": "1.5.0",
       "_view_name": "ProgressView",
       "bar_style": "success",
       "description": "",
       "description_tooltip": null,
       "layout": "IPY_MODEL_7dd733ad658b48359feb02f8c0436c62",
       "max": 46812324,
       "min": 0,
       "orientation": "horizontal",
       "style": "IPY_MODEL_8c90ff6ae7f44ed1a6a8496e9269d845",
       "value": 46812324
      }
     },
     "b13021f1f89f4786a7353648fc1a5884": {
      "model_module": "@jupyter-widgets/controls",
      "model_module_version": "1.5.0",
      "model_name": "DescriptionStyleModel",
      "state": {
       "_model_module": "@jupyter-widgets/controls",
       "_model_module_version": "1.5.0",
       "_model_name": "DescriptionStyleModel",
       "_view_count": null,
       "_view_module": "@jupyter-widgets/base",
       "_view_module_version": "1.2.0",
       "_view_name": "StyleView",
       "description_width": ""
      }
     },
     "e7c6b1c1c6304d2ca4e35472b1f690b4": {
      "model_module": "@jupyter-widgets/controls",
      "model_module_version": "1.5.0",
      "model_name": "DescriptionStyleModel",
      "state": {
       "_model_module": "@jupyter-widgets/controls",
       "_model_module_version": "1.5.0",
       "_model_name": "DescriptionStyleModel",
       "_view_count": null,
       "_view_module": "@jupyter-widgets/base",
       "_view_module_version": "1.2.0",
       "_view_name": "StyleView",
       "description_width": ""
      }
     },
     "f1e9deee886e441990c8086b244101b2": {
      "model_module": "@jupyter-widgets/base",
      "model_module_version": "1.2.0",
      "model_name": "LayoutModel",
      "state": {
       "_model_module": "@jupyter-widgets/base",
       "_model_module_version": "1.2.0",
       "_model_name": "LayoutModel",
       "_view_count": null,
       "_view_module": "@jupyter-widgets/base",
       "_view_module_version": "1.2.0",
       "_view_name": "LayoutView",
       "align_content": null,
       "align_items": null,
       "align_self": null,
       "border": null,
       "bottom": null,
       "display": null,
       "flex": null,
       "flex_flow": null,
       "grid_area": null,
       "grid_auto_columns": null,
       "grid_auto_flow": null,
       "grid_auto_rows": null,
       "grid_column": null,
       "grid_gap": null,
       "grid_row": null,
       "grid_template_areas": null,
       "grid_template_columns": null,
       "grid_template_rows": null,
       "height": null,
       "justify_content": null,
       "justify_items": null,
       "left": null,
       "margin": null,
       "max_height": null,
       "max_width": null,
       "min_height": null,
       "min_width": null,
       "object_fit": null,
       "object_position": null,
       "order": null,
       "overflow": null,
       "overflow_x": null,
       "overflow_y": null,
       "padding": null,
       "right": null,
       "top": null,
       "visibility": null,
       "width": null
      }
     },
     "f98e6a28a77b460aa5b9c367684afbf6": {
      "model_module": "@jupyter-widgets/controls",
      "model_module_version": "1.5.0",
      "model_name": "HTMLModel",
      "state": {
       "_dom_classes": [],
       "_model_module": "@jupyter-widgets/controls",
       "_model_module_version": "1.5.0",
       "_model_name": "HTMLModel",
       "_view_count": null,
       "_view_module": "@jupyter-widgets/controls",
       "_view_module_version": "1.5.0",
       "_view_name": "HTMLView",
       "description": "",
       "description_tooltip": null,
       "layout": "IPY_MODEL_62de300bb21143b68602e94c74e3f39b",
       "placeholder": "​",
       "style": "IPY_MODEL_0f74e50d11824c589594423e545fb4fd",
       "value": "config.json: 100%"
      }
     }
    },
    "version_major": 2,
    "version_minor": 0
   }
  }
 },
 "nbformat": 4,
 "nbformat_minor": 5
}
