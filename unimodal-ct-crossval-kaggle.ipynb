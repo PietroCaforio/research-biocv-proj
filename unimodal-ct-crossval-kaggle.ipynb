{
 "cells": [
  {
   "cell_type": "markdown",
   "id": "ea864688",
   "metadata": {
    "papermill": {
     "duration": 0.012329,
     "end_time": "2024-10-04T16:36:35.047559",
     "exception": false,
     "start_time": "2024-10-04T16:36:35.035230",
     "status": "completed"
    },
    "tags": []
   },
   "source": [
    "<a href=\"https://www.kaggle.com/code/pietrocaforio/unimodal-ct-training-kaggle?scriptVersionId=199214851\" target=\"_blank\"><img align=\"left\" alt=\"Kaggle\" title=\"Open in Kaggle\" src=\"https://kaggle.com/static/images/open-in-kaggle.svg\"></a>"
   ]
  },
  {
   "cell_type": "markdown",
   "id": "1dca5bdc",
   "metadata": {
    "papermill": {
     "duration": 0.010806,
     "end_time": "2024-10-04T16:36:35.070671",
     "exception": false,
     "start_time": "2024-10-04T16:36:35.059865",
     "status": "completed"
    },
    "tags": []
   },
   "source": [
    "# Train unimodal CT"
   ]
  },
  {
   "cell_type": "code",
   "execution_count": 1,
   "id": "c40c4524",
   "metadata": {
    "execution": {
     "iopub.execute_input": "2024-10-04T16:36:35.094894Z",
     "iopub.status.busy": "2024-10-04T16:36:35.094156Z",
     "iopub.status.idle": "2024-10-04T16:36:38.301952Z",
     "shell.execute_reply": "2024-10-04T16:36:38.300965Z"
    },
    "papermill": {
     "duration": 3.222358,
     "end_time": "2024-10-04T16:36:38.304207",
     "exception": false,
     "start_time": "2024-10-04T16:36:35.081849",
     "status": "completed"
    },
    "tags": []
   },
   "outputs": [
    {
     "name": "stdout",
     "output_type": "stream",
     "text": [
      "Cloning into 'research-biocv-proj'...\r\n",
      "remote: Enumerating objects: 345, done.\u001b[K\r\n",
      "remote: Counting objects: 100% (137/137), done.\u001b[K\r\n",
      "remote: Compressing objects: 100% (106/106), done.\u001b[K\r\n",
      "remote: Total 345 (delta 80), reused 75 (delta 29), pack-reused 208 (from 1)\u001b[K\r\n",
      "Receiving objects: 100% (345/345), 5.18 MiB | 14.62 MiB/s, done.\r\n",
      "Resolving deltas: 100% (202/202), done.\r\n",
      "Branch 'dev' set up to track remote branch 'dev' from 'origin'.\r\n",
      "Switched to a new branch 'dev'\r\n"
     ]
    }
   ],
   "source": [
    "!git clone https://github.com/PietroCaforio/research-biocv-proj\n",
    "!cd research-biocv-proj && git switch dev"
   ]
  },
  {
   "cell_type": "code",
   "execution_count": 2,
   "id": "5871a3ad",
   "metadata": {
    "execution": {
     "iopub.execute_input": "2024-10-04T16:36:38.331176Z",
     "iopub.status.busy": "2024-10-04T16:36:38.330815Z",
     "iopub.status.idle": "2024-10-04T16:36:39.609378Z",
     "shell.execute_reply": "2024-10-04T16:36:39.607858Z"
    },
    "papermill": {
     "duration": 1.295255,
     "end_time": "2024-10-04T16:36:39.612427",
     "exception": false,
     "start_time": "2024-10-04T16:36:38.317172",
     "status": "completed"
    },
    "tags": []
   },
   "outputs": [
    {
     "name": "stdout",
     "output_type": "stream",
     "text": [
      "Already up to date.\r\n"
     ]
    }
   ],
   "source": [
    "!cd research-biocv-proj && git pull"
   ]
  },
  {
   "cell_type": "code",
   "execution_count": 3,
   "id": "575ea31c",
   "metadata": {
    "execution": {
     "iopub.execute_input": "2024-10-04T16:36:39.654576Z",
     "iopub.status.busy": "2024-10-04T16:36:39.653989Z",
     "iopub.status.idle": "2024-10-04T16:36:51.972266Z",
     "shell.execute_reply": "2024-10-04T16:36:51.971152Z"
    },
    "papermill": {
     "duration": 12.340997,
     "end_time": "2024-10-04T16:36:51.974705",
     "exception": false,
     "start_time": "2024-10-04T16:36:39.633708",
     "status": "completed"
    },
    "tags": []
   },
   "outputs": [
    {
     "name": "stdout",
     "output_type": "stream",
     "text": [
      "Requirement already satisfied: wandb in /opt/conda/lib/python3.10/site-packages (0.18.3)\r\n",
      "Requirement already satisfied: click!=8.0.0,>=7.1 in /opt/conda/lib/python3.10/site-packages (from wandb) (8.1.7)\r\n",
      "Requirement already satisfied: docker-pycreds>=0.4.0 in /opt/conda/lib/python3.10/site-packages (from wandb) (0.4.0)\r\n",
      "Requirement already satisfied: gitpython!=3.1.29,>=1.0.0 in /opt/conda/lib/python3.10/site-packages (from wandb) (3.1.43)\r\n",
      "Requirement already satisfied: platformdirs in /opt/conda/lib/python3.10/site-packages (from wandb) (3.11.0)\r\n",
      "Requirement already satisfied: protobuf!=4.21.0,!=5.28.0,<6,>=3.19.0 in /opt/conda/lib/python3.10/site-packages (from wandb) (3.20.3)\r\n",
      "Requirement already satisfied: psutil>=5.0.0 in /opt/conda/lib/python3.10/site-packages (from wandb) (5.9.3)\r\n",
      "Requirement already satisfied: pyyaml in /opt/conda/lib/python3.10/site-packages (from wandb) (6.0.2)\r\n",
      "Requirement already satisfied: requests<3,>=2.0.0 in /opt/conda/lib/python3.10/site-packages (from wandb) (2.32.3)\r\n",
      "Requirement already satisfied: sentry-sdk>=1.0.0 in /opt/conda/lib/python3.10/site-packages (from wandb) (2.15.0)\r\n",
      "Requirement already satisfied: setproctitle in /opt/conda/lib/python3.10/site-packages (from wandb) (1.3.3)\r\n",
      "Requirement already satisfied: setuptools in /opt/conda/lib/python3.10/site-packages (from wandb) (70.0.0)\r\n",
      "Requirement already satisfied: six>=1.4.0 in /opt/conda/lib/python3.10/site-packages (from docker-pycreds>=0.4.0->wandb) (1.16.0)\r\n",
      "Requirement already satisfied: gitdb<5,>=4.0.1 in /opt/conda/lib/python3.10/site-packages (from gitpython!=3.1.29,>=1.0.0->wandb) (4.0.11)\r\n",
      "Requirement already satisfied: charset-normalizer<4,>=2 in /opt/conda/lib/python3.10/site-packages (from requests<3,>=2.0.0->wandb) (3.3.2)\r\n",
      "Requirement already satisfied: idna<4,>=2.5 in /opt/conda/lib/python3.10/site-packages (from requests<3,>=2.0.0->wandb) (3.7)\r\n",
      "Requirement already satisfied: urllib3<3,>=1.21.1 in /opt/conda/lib/python3.10/site-packages (from requests<3,>=2.0.0->wandb) (1.26.18)\r\n",
      "Requirement already satisfied: certifi>=2017.4.17 in /opt/conda/lib/python3.10/site-packages (from requests<3,>=2.0.0->wandb) (2024.8.30)\r\n",
      "Requirement already satisfied: smmap<6,>=3.0.1 in /opt/conda/lib/python3.10/site-packages (from gitdb<5,>=4.0.1->gitpython!=3.1.29,>=1.0.0->wandb) (5.0.1)\r\n"
     ]
    }
   ],
   "source": [
    "!pip install wandb"
   ]
  },
  {
   "cell_type": "code",
   "execution_count": 4,
   "id": "d3dc5ba1",
   "metadata": {
    "execution": {
     "iopub.execute_input": "2024-10-04T16:36:52.003012Z",
     "iopub.status.busy": "2024-10-04T16:36:52.002417Z",
     "iopub.status.idle": "2024-10-04T16:36:52.142554Z",
     "shell.execute_reply": "2024-10-04T16:36:52.141592Z"
    },
    "papermill": {
     "duration": 0.15641,
     "end_time": "2024-10-04T16:36:52.144612",
     "exception": false,
     "start_time": "2024-10-04T16:36:51.988202",
     "status": "completed"
    },
    "tags": []
   },
   "outputs": [],
   "source": [
    "from kaggle_secrets import UserSecretsClient\n",
    "user_secrets = UserSecretsClient()\n",
    "secret_value_0 = user_secrets.get_secret(\"wandb_api_key\")"
   ]
  },
  {
   "cell_type": "code",
   "execution_count": 5,
   "id": "b1ef6e36",
   "metadata": {
    "execution": {
     "iopub.execute_input": "2024-10-04T16:36:52.172148Z",
     "iopub.status.busy": "2024-10-04T16:36:52.171820Z",
     "iopub.status.idle": "2024-10-04T16:36:53.651787Z",
     "shell.execute_reply": "2024-10-04T16:36:53.650821Z"
    },
    "papermill": {
     "duration": 1.496029,
     "end_time": "2024-10-04T16:36:53.653824",
     "exception": false,
     "start_time": "2024-10-04T16:36:52.157795",
     "status": "completed"
    },
    "tags": []
   },
   "outputs": [
    {
     "name": "stderr",
     "output_type": "stream",
     "text": [
      "\u001b[34m\u001b[1mwandb\u001b[0m: Using wandb-core as the SDK backend. Please refer to https://wandb.me/wandb-core for more information.\n",
      "\u001b[34m\u001b[1mwandb\u001b[0m: W&B API key is configured. Use \u001b[1m`wandb login --relogin`\u001b[0m to force relogin\n",
      "\u001b[34m\u001b[1mwandb\u001b[0m: \u001b[33mWARNING\u001b[0m If you're specifying your api key in code, ensure this code is not shared publicly.\n",
      "\u001b[34m\u001b[1mwandb\u001b[0m: \u001b[33mWARNING\u001b[0m Consider setting the WANDB_API_KEY environment variable, or running `wandb login` from the command line.\n",
      "\u001b[34m\u001b[1mwandb\u001b[0m: Appending key for api.wandb.ai to your netrc file: /root/.netrc\n"
     ]
    },
    {
     "data": {
      "text/plain": [
       "True"
      ]
     },
     "execution_count": 5,
     "metadata": {},
     "output_type": "execute_result"
    }
   ],
   "source": [
    "import wandb\n",
    "wandb.login(key=secret_value_0)"
   ]
  },
  {
   "cell_type": "code",
   "execution_count": 6,
   "id": "56ed67e5",
   "metadata": {
    "execution": {
     "iopub.execute_input": "2024-10-04T16:36:53.682704Z",
     "iopub.status.busy": "2024-10-04T16:36:53.682391Z",
     "iopub.status.idle": "2024-10-04T16:36:58.020042Z",
     "shell.execute_reply": "2024-10-04T16:36:58.019232Z"
    },
    "papermill": {
     "duration": 4.354486,
     "end_time": "2024-10-04T16:36:58.022372",
     "exception": false,
     "start_time": "2024-10-04T16:36:53.667886",
     "status": "completed"
    },
    "tags": []
   },
   "outputs": [],
   "source": [
    "import sys\n",
    "from pathlib import Path\n",
    "\n",
    "# Add the 'data' directory to sys.path\n",
    "sys.path.append(str(Path('research-biocv-proj').resolve()))\n",
    "from data.unimodal import *\n",
    "from pathlib import Path\n",
    "\n",
    "import numpy as np\n",
    "import torch\n",
    "from torch.utils.data import DataLoader\n",
    "\n",
    "from sklearn.utils.class_weight import compute_class_weight"
   ]
  },
  {
   "cell_type": "markdown",
   "id": "e8324b15",
   "metadata": {
    "papermill": {
     "duration": 0.013488,
     "end_time": "2024-10-04T16:36:58.050062",
     "exception": false,
     "start_time": "2024-10-04T16:36:58.036574",
     "status": "completed"
    },
    "tags": []
   },
   "source": [
    "### Train ResNet model"
   ]
  },
  {
   "cell_type": "code",
   "execution_count": 7,
   "id": "fce9c209",
   "metadata": {
    "execution": {
     "iopub.execute_input": "2024-10-04T16:36:58.079235Z",
     "iopub.status.busy": "2024-10-04T16:36:58.078761Z",
     "iopub.status.idle": "2024-10-04T16:37:09.963970Z",
     "shell.execute_reply": "2024-10-04T16:37:09.962950Z"
    },
    "papermill": {
     "duration": 11.902187,
     "end_time": "2024-10-04T16:37:09.966295",
     "exception": false,
     "start_time": "2024-10-04T16:36:58.064108",
     "status": "completed"
    },
    "tags": []
   },
   "outputs": [
    {
     "name": "stdout",
     "output_type": "stream",
     "text": [
      "Collecting focal_loss_torch\r\n",
      "  Downloading focal_loss_torch-0.1.2-py3-none-any.whl.metadata (2.2 kB)\r\n",
      "Requirement already satisfied: torch in /opt/conda/lib/python3.10/site-packages (from focal_loss_torch) (2.4.0)\r\n",
      "Requirement already satisfied: numpy in /opt/conda/lib/python3.10/site-packages (from focal_loss_torch) (1.26.4)\r\n",
      "Requirement already satisfied: filelock in /opt/conda/lib/python3.10/site-packages (from torch->focal_loss_torch) (3.15.1)\r\n",
      "Requirement already satisfied: typing-extensions>=4.8.0 in /opt/conda/lib/python3.10/site-packages (from torch->focal_loss_torch) (4.12.2)\r\n",
      "Requirement already satisfied: sympy in /opt/conda/lib/python3.10/site-packages (from torch->focal_loss_torch) (1.13.3)\r\n",
      "Requirement already satisfied: networkx in /opt/conda/lib/python3.10/site-packages (from torch->focal_loss_torch) (3.3)\r\n",
      "Requirement already satisfied: jinja2 in /opt/conda/lib/python3.10/site-packages (from torch->focal_loss_torch) (3.1.4)\r\n",
      "Requirement already satisfied: fsspec in /opt/conda/lib/python3.10/site-packages (from torch->focal_loss_torch) (2024.6.1)\r\n",
      "Requirement already satisfied: MarkupSafe>=2.0 in /opt/conda/lib/python3.10/site-packages (from jinja2->torch->focal_loss_torch) (2.1.5)\r\n",
      "Requirement already satisfied: mpmath<1.4,>=1.1.0 in /opt/conda/lib/python3.10/site-packages (from sympy->torch->focal_loss_torch) (1.3.0)\r\n",
      "Downloading focal_loss_torch-0.1.2-py3-none-any.whl (4.5 kB)\r\n",
      "Installing collected packages: focal_loss_torch\r\n",
      "Successfully installed focal_loss_torch-0.1.2\r\n"
     ]
    }
   ],
   "source": [
    "#https://github.com/mathiaszinnen/focal_loss_torch/tree/main\n",
    "!pip install focal_loss_torch"
   ]
  },
  {
   "cell_type": "code",
   "execution_count": 8,
   "id": "354338b7",
   "metadata": {
    "execution": {
     "iopub.execute_input": "2024-10-04T16:37:09.997045Z",
     "iopub.status.busy": "2024-10-04T16:37:09.996685Z",
     "iopub.status.idle": "2024-10-04T16:37:10.008439Z",
     "shell.execute_reply": "2024-10-04T16:37:10.007572Z"
    },
    "papermill": {
     "duration": 0.029231,
     "end_time": "2024-10-04T16:37:10.010325",
     "exception": false,
     "start_time": "2024-10-04T16:37:09.981094",
     "status": "completed"
    },
    "tags": []
   },
   "outputs": [],
   "source": [
    "class EarlyStopping:\n",
    "    \"\"\"Early stops the training if validation loss doesn't improve after a given patience.\"\"\"\n",
    "    def __init__(self, patience=7, verbose=False, delta=0, path='checkpoint.pt', trace_func=print):\n",
    "        \"\"\"\n",
    "        Args:\n",
    "            patience (int): How long to wait after last time validation loss improved.\n",
    "                            Default: 7\n",
    "            verbose (bool): If True, prints a message for each validation loss improvement. \n",
    "                            Default: False\n",
    "            delta (float): Minimum change in the monitored quantity to qualify as an improvement.\n",
    "                            Default: 0\n",
    "            path (str): Path for the checkpoint to be saved to.\n",
    "                            Default: 'checkpoint.pt'\n",
    "            trace_func (function): trace print function.\n",
    "                            Default: print            \n",
    "        \"\"\"\n",
    "        self.patience = patience\n",
    "        self.verbose = verbose\n",
    "        self.counter = 0\n",
    "        self.best_score = None\n",
    "        self.early_stop = False\n",
    "        self.val_loss_min = np.Inf\n",
    "        self.delta = delta\n",
    "        self.path = path\n",
    "        self.trace_func = trace_func\n",
    "    def __call__(self, val_loss, model):\n",
    "\n",
    "        score = -val_loss\n",
    "\n",
    "        if self.best_score is None:\n",
    "            self.best_score = score\n",
    "            self.save_checkpoint(val_loss, model)\n",
    "        elif score < self.best_score + self.delta:\n",
    "            self.counter += 1\n",
    "            self.trace_func(f'EarlyStopping counter: {self.counter} out of {self.patience}')\n",
    "            if self.counter >= self.patience:\n",
    "                self.early_stop = True\n",
    "        else:\n",
    "            self.best_score = score\n",
    "            self.save_checkpoint(val_loss, model)\n",
    "            self.counter = 0\n",
    "\n",
    "    def save_checkpoint(self, val_loss, model):\n",
    "        '''Saves model when validation loss decrease.'''\n",
    "        if self.verbose:\n",
    "            self.trace_func(f'Validation loss decreased ({self.val_loss_min:.6f} --> {val_loss:.6f}).  Saving model ...')\n",
    "        torch.save(model.state_dict(), self.path)\n",
    "        self.val_loss_min = val_loss"
   ]
  },
  {
   "cell_type": "code",
   "execution_count": 9,
   "id": "84799855",
   "metadata": {
    "execution": {
     "iopub.execute_input": "2024-10-04T16:37:10.042105Z",
     "iopub.status.busy": "2024-10-04T16:37:10.041793Z",
     "iopub.status.idle": "2024-10-04T16:37:10.069301Z",
     "shell.execute_reply": "2024-10-04T16:37:10.068470Z"
    },
    "papermill": {
     "duration": 0.044673,
     "end_time": "2024-10-04T16:37:10.071260",
     "exception": false,
     "start_time": "2024-10-04T16:37:10.026587",
     "status": "completed"
    },
    "tags": []
   },
   "outputs": [],
   "source": [
    "from focal_loss.focal_loss import FocalLoss\n",
    "\n",
    "def train(model,config, run_name=None):\n",
    "    wandb.init(\n",
    "        # set the wandb project where this run will be logged\n",
    "        project=\"unimodal_ct_training\",\n",
    "        name = run_name,\n",
    "        # track hyperparameters and run metadata\n",
    "        config=config\n",
    "    )\n",
    "    if config[\"class_weights\"] is not None: \n",
    "        config[\"class_weights\"] = torch.tensor(config[\"class_weights\"], dtype=torch.float).to(device) \n",
    "    optimizer = optim.Adam(model.parameters(), lr=config[\"learning_rate\"], weight_decay=config[\"weight_decay\"])\n",
    "    if config[\"focal_loss\"] is not None:\n",
    "        \n",
    "        criterion = FocalLoss(gamma = config[\"focal_loss\"])\n",
    "    else:\n",
    "        criterion = nn.CrossEntropyLoss(weight = config[\"class_weights\"])\n",
    "    scheduler = optim.lr_scheduler.ReduceLROnPlateau(optimizer, 'min',factor = config[\"reduce_lr_factor\"], patience = config[\"patience\"])\n",
    "    \n",
    "    # initialize the early_stopping object\n",
    "    early_stopping = EarlyStopping(patience=config[\"early_stop_patience\"], verbose=True)\n",
    "    \n",
    "    # Training loop\n",
    "    num_epochs = config[\"epochs\"]\n",
    "    for epoch in range(num_epochs):\n",
    "        model.train()\n",
    "        running_loss = 0.0\n",
    "        train_correct = 0\n",
    "        total = 0\n",
    "        correct_per_class = [0, 0, 0]  # For G1, G2, G3\n",
    "        total_per_class = [0, 0, 0]  # For G1, G2, G3\n",
    "        for batch in train_loader:\n",
    "            frames = batch['frame'].float().to(device)\n",
    "            labels = batch['label'].long().to(device)\n",
    "            \n",
    "            optimizer.zero_grad()\n",
    "            outputs = model(frames)\n",
    "            if config[\"focal_loss\"]:\n",
    "                softmax = torch.nn.Softmax(dim=-1)\n",
    "                loss = criterion(softmax(outputs.logits), labels)\n",
    "            else:\n",
    "                loss = criterion(outputs.logits, labels)\n",
    "\n",
    "            \n",
    "            _, predicted = torch.max(outputs.logits, 1)\n",
    "            train_correct += (predicted == labels).sum().item()\n",
    "            loss.backward()\n",
    "            optimizer.step()\n",
    "            total += labels.size(0)\n",
    "            running_loss += loss.item()\n",
    "            \n",
    "            # Calculate accuracy per class\n",
    "            for i in range(3):  # We have 3 classes: G1 (0), G2 (1), G3 (2)\n",
    "                correct_per_class[i] += ((predicted == i) & (labels == i)).sum().item()\n",
    "                total_per_class[i] += (labels == i).sum().item()\n",
    "\n",
    "        train_accuracy = 100 * train_correct / total\n",
    "        class_accuracy = [(100 * correct_per_class[i] / total_per_class[i]) if total_per_class[i] > 0 else 0 for i in range(3)]\n",
    "        print(f\"Epoch {epoch+1}, Loss: {running_loss/len(train_loader)}\")\n",
    "        wandb.log({\"Train Accuracy\": train_accuracy, \"Train loss\": running_loss/len(train_loader), \"G1_TrainAcc\":class_accuracy[0], \"G2_TrainAcc\":class_accuracy[1], \"G3_TrainAcc\":class_accuracy[2]})\n",
    "\n",
    "        # Validation loop\n",
    "        model.eval()\n",
    "        val_loss = 0.0\n",
    "        correct = 0\n",
    "        total = 0\n",
    "        # Initialize counters for each class (G1, G2, G3)\n",
    "        correct_per_class = [0, 0, 0]  # For G1, G2, G3\n",
    "        total_per_class = [0, 0, 0]  # For G1, G2, G3\n",
    "\n",
    "        with torch.no_grad():\n",
    "            for batch in val_loader:\n",
    "                frames = batch['frame'].float().to(device)\n",
    "                labels = batch['label'].long().to(device)\n",
    "\n",
    "                outputs = model(frames)\n",
    "                \n",
    "                if config[\"focal_loss\"]:\n",
    "                    softmax = torch.nn.Softmax(dim=-1)\n",
    "                    loss = criterion(softmax(outputs.logits), labels)\n",
    "                else:\n",
    "                    loss = criterion(outputs.logits, labels)\n",
    "\n",
    "                val_loss += loss.item()\n",
    "                _, predicted = torch.max(outputs.logits, 1)\n",
    "                total += labels.size(0)\n",
    "                correct += (predicted == labels).sum().item()\n",
    "\n",
    "                # Calculate accuracy per class\n",
    "                for i in range(3):  # We have 3 classes: G1 (0), G2 (1), G3 (2)\n",
    "                    correct_per_class[i] += ((predicted == i) & (labels == i)).sum().item()\n",
    "                    total_per_class[i] += (labels == i).sum().item()\n",
    "        scheduler.step(val_loss)\n",
    "        # Compute total accuracy and per-class accuracy\n",
    "        total_accuracy = 100 * correct / total\n",
    "        class_accuracy = [(100 * correct_per_class[i] / total_per_class[i]) if total_per_class[i] > 0 else 0 for i in range(3)]\n",
    "        print(f\"Validation Loss: {val_loss/len(val_loader)}, Total Accuracy: {total_accuracy:.2f}%\")\n",
    "        print(f\"Accuracy per class - G1: {class_accuracy[0]:.2f}%, G2: {class_accuracy[1]:.2f}%, G3: {class_accuracy[2]:.2f}%\")\n",
    "        # log metrics to wandb\n",
    "        wandb.log({\"Total Accuracy\": total_accuracy, \"Validation Loss\": val_loss/len(val_loader), \"G1_Acc\":class_accuracy[0], \"G2_Acc\":class_accuracy[1], \"G3_Acc\":class_accuracy[2]})\n",
    "        early_stopping(val_loss, model)\n",
    "        \n",
    "        if early_stopping.early_stop:\n",
    "            print(\"Early stopping\")\n",
    "            break\n",
    "    wandb.finish()  "
   ]
  },
  {
   "cell_type": "code",
   "execution_count": 10,
   "id": "8701bf02",
   "metadata": {
    "execution": {
     "iopub.execute_input": "2024-10-04T16:37:10.101721Z",
     "iopub.status.busy": "2024-10-04T16:37:10.100973Z",
     "iopub.status.idle": "2024-10-04T16:37:12.309766Z",
     "shell.execute_reply": "2024-10-04T16:37:12.308757Z"
    },
    "papermill": {
     "duration": 2.226546,
     "end_time": "2024-10-04T16:37:12.312331",
     "exception": false,
     "start_time": "2024-10-04T16:37:10.085785",
     "status": "completed"
    },
    "tags": []
   },
   "outputs": [],
   "source": [
    "import torch.nn as nn\n",
    "import torch.optim as optim\n",
    "from transformers import ResNetForImageClassification\n",
    "from sklearn.model_selection import GroupKFold #For crossvalidation"
   ]
  },
  {
   "cell_type": "code",
   "execution_count": 11,
   "id": "e45af325",
   "metadata": {
    "execution": {
     "iopub.execute_input": "2024-10-04T16:37:12.343556Z",
     "iopub.status.busy": "2024-10-04T16:37:12.342625Z",
     "iopub.status.idle": "2024-10-04T16:37:22.804200Z",
     "shell.execute_reply": "2024-10-04T16:37:22.803337Z"
    },
    "papermill": {
     "duration": 10.479202,
     "end_time": "2024-10-04T16:37:22.806475",
     "exception": false,
     "start_time": "2024-10-04T16:37:12.327273",
     "status": "completed"
    },
    "tags": []
   },
   "outputs": [],
   "source": [
    "train_dataset = UnimodalCTDataset(split='all',dataset_path = \"/kaggle/input/preprocessed57patientscptacpda/processed/\" )\n"
   ]
  },
  {
   "cell_type": "code",
   "execution_count": 12,
   "id": "383f3636",
   "metadata": {
    "execution": {
     "iopub.execute_input": "2024-10-04T16:37:22.837469Z",
     "iopub.status.busy": "2024-10-04T16:37:22.837163Z",
     "iopub.status.idle": "2024-10-04T16:37:22.841063Z",
     "shell.execute_reply": "2024-10-04T16:37:22.840189Z"
    },
    "papermill": {
     "duration": 0.02133,
     "end_time": "2024-10-04T16:37:22.842968",
     "exception": false,
     "start_time": "2024-10-04T16:37:22.821638",
     "status": "completed"
    },
    "tags": []
   },
   "outputs": [],
   "source": [
    "#print(f\"Training set stats:{train_dataset.stats()}\")\n",
    "#print(f\"Validation set stats:{val_dataset.stats()}\")"
   ]
  },
  {
   "cell_type": "code",
   "execution_count": 13,
   "id": "82e2e0ec",
   "metadata": {
    "execution": {
     "iopub.execute_input": "2024-10-04T16:37:22.873554Z",
     "iopub.status.busy": "2024-10-04T16:37:22.873281Z",
     "iopub.status.idle": "2024-10-04T16:37:22.878656Z",
     "shell.execute_reply": "2024-10-04T16:37:22.877879Z"
    },
    "papermill": {
     "duration": 0.023155,
     "end_time": "2024-10-04T16:37:22.880631",
     "exception": false,
     "start_time": "2024-10-04T16:37:22.857476",
     "status": "completed"
    },
    "tags": []
   },
   "outputs": [
    {
     "data": {
      "text/plain": [
       "'\\nlabels = []\\nfor sample in train_dataset:\\n    labels.append(sample[\"label\"])\\nlabels = np.array(labels)\\nclass_weights = compute_class_weight(\"balanced\", classes=np.unique(labels), y=labels)\\n'"
      ]
     },
     "execution_count": 13,
     "metadata": {},
     "output_type": "execute_result"
    }
   ],
   "source": [
    "\"\"\"\n",
    "labels = []\n",
    "for sample in train_dataset:\n",
    "    labels.append(sample[\"label\"])\n",
    "labels = np.array(labels)\n",
    "class_weights = compute_class_weight(\"balanced\", classes=np.unique(labels), y=labels)\n",
    "\"\"\""
   ]
  },
  {
   "cell_type": "code",
   "execution_count": 14,
   "id": "2f57be8e",
   "metadata": {
    "execution": {
     "iopub.execute_input": "2024-10-04T16:37:22.911359Z",
     "iopub.status.busy": "2024-10-04T16:37:22.910665Z",
     "iopub.status.idle": "2024-10-04T16:37:22.914499Z",
     "shell.execute_reply": "2024-10-04T16:37:22.913755Z"
    },
    "papermill": {
     "duration": 0.021081,
     "end_time": "2024-10-04T16:37:22.916319",
     "exception": false,
     "start_time": "2024-10-04T16:37:22.895238",
     "status": "completed"
    },
    "tags": []
   },
   "outputs": [],
   "source": [
    "#print(class_weights)"
   ]
  },
  {
   "cell_type": "code",
   "execution_count": 15,
   "id": "e139d229",
   "metadata": {
    "execution": {
     "iopub.execute_input": "2024-10-04T16:37:22.947158Z",
     "iopub.status.busy": "2024-10-04T16:37:22.946860Z",
     "iopub.status.idle": "2024-10-04T16:37:22.950629Z",
     "shell.execute_reply": "2024-10-04T16:37:22.949806Z"
    },
    "papermill": {
     "duration": 0.021017,
     "end_time": "2024-10-04T16:37:22.952380",
     "exception": false,
     "start_time": "2024-10-04T16:37:22.931363",
     "status": "completed"
    },
    "tags": []
   },
   "outputs": [],
   "source": [
    "#train_dataset = UnimodalCTDataset(split='train',dataset_path = \"/kaggle/input/oversampling57patientscptacpda/processed_oversampling/\" )\n",
    "#val_dataset = UnimodalCTDataset(split='val',dataset_path = \"/kaggle/input/oversampling57patientscptacpda/processed_oversampling/\")\n",
    "\n",
    "#train_loader = DataLoader(train_dataset, batch_size=32, shuffle=True)\n",
    "#val_loader = DataLoader(val_dataset, batch_size=32, shuffle=False)"
   ]
  },
  {
   "cell_type": "code",
   "execution_count": 16,
   "id": "1374cd69",
   "metadata": {
    "execution": {
     "iopub.execute_input": "2024-10-04T16:37:22.983158Z",
     "iopub.status.busy": "2024-10-04T16:37:22.982476Z",
     "iopub.status.idle": "2024-10-04T16:37:22.986149Z",
     "shell.execute_reply": "2024-10-04T16:37:22.985300Z"
    },
    "papermill": {
     "duration": 0.020887,
     "end_time": "2024-10-04T16:37:22.988003",
     "exception": false,
     "start_time": "2024-10-04T16:37:22.967116",
     "status": "completed"
    },
    "tags": []
   },
   "outputs": [],
   "source": [
    "#print(f\"Training set stats:{train_dataset.stats()}\")\n",
    "#print(f\"Validation set stats:{val_dataset.stats()}\")"
   ]
  },
  {
   "cell_type": "code",
   "execution_count": 17,
   "id": "e1ad65dd",
   "metadata": {
    "execution": {
     "iopub.execute_input": "2024-10-04T16:37:23.018916Z",
     "iopub.status.busy": "2024-10-04T16:37:23.018252Z",
     "iopub.status.idle": "2024-10-04T16:37:23.022003Z",
     "shell.execute_reply": "2024-10-04T16:37:23.021220Z"
    },
    "papermill": {
     "duration": 0.021148,
     "end_time": "2024-10-04T16:37:23.023902",
     "exception": false,
     "start_time": "2024-10-04T16:37:23.002754",
     "status": "completed"
    },
    "tags": []
   },
   "outputs": [],
   "source": [
    "#total = train_dataset.stats()[\"length\"]\n",
    "#most_frequent = max(train_dataset.stats()[\"class_frequency\"].values())\n",
    "#freq_dict = train_dataset.stats()[\"class_frequency\"]\n",
    "#target_volume_depth= {}\n",
    "#for index in freq_dict.keys():\n",
    "#    target_volume_depth[index] = int((total/3 ) * most_frequent / freq_dict[index])\n",
    "#print(target_volume_depth)"
   ]
  },
  {
   "cell_type": "markdown",
   "id": "62430836",
   "metadata": {
    "papermill": {
     "duration": 0.014612,
     "end_time": "2024-10-04T16:37:23.053579",
     "exception": false,
     "start_time": "2024-10-04T16:37:23.038967",
     "status": "completed"
    },
    "tags": []
   },
   "source": [
    "### Resnet-50"
   ]
  },
  {
   "cell_type": "code",
   "execution_count": 18,
   "id": "51400d96",
   "metadata": {
    "execution": {
     "iopub.execute_input": "2024-10-04T16:37:23.084734Z",
     "iopub.status.busy": "2024-10-04T16:37:23.084463Z",
     "iopub.status.idle": "2024-10-04T16:37:23.088201Z",
     "shell.execute_reply": "2024-10-04T16:37:23.087337Z"
    },
    "papermill": {
     "duration": 0.021529,
     "end_time": "2024-10-04T16:37:23.090036",
     "exception": false,
     "start_time": "2024-10-04T16:37:23.068507",
     "status": "completed"
    },
    "tags": []
   },
   "outputs": [],
   "source": [
    "#model = ResNetForImageClassification.from_pretrained('microsoft/resnet-50')\n",
    "#model.classifier[-1] = nn.Linear(model.classifier[-1].in_features, UnimodalCTDataset.num_classes) #Adjusting the final layer to the unimodal number of classes"
   ]
  },
  {
   "cell_type": "code",
   "execution_count": 19,
   "id": "733256c5",
   "metadata": {
    "execution": {
     "iopub.execute_input": "2024-10-04T16:37:23.120912Z",
     "iopub.status.busy": "2024-10-04T16:37:23.120653Z",
     "iopub.status.idle": "2024-10-04T16:37:23.124668Z",
     "shell.execute_reply": "2024-10-04T16:37:23.123984Z"
    },
    "papermill": {
     "duration": 0.021312,
     "end_time": "2024-10-04T16:37:23.126496",
     "exception": false,
     "start_time": "2024-10-04T16:37:23.105184",
     "status": "completed"
    },
    "tags": []
   },
   "outputs": [],
   "source": [
    "#device = torch.device(\"cuda\" if torch.cuda.is_available() else \"cpu\")\n",
    "#model.to(device)"
   ]
  },
  {
   "cell_type": "code",
   "execution_count": 20,
   "id": "a78fb8fb",
   "metadata": {
    "execution": {
     "iopub.execute_input": "2024-10-04T16:37:23.157984Z",
     "iopub.status.busy": "2024-10-04T16:37:23.157704Z",
     "iopub.status.idle": "2024-10-04T16:37:23.163232Z",
     "shell.execute_reply": "2024-10-04T16:37:23.162387Z"
    },
    "papermill": {
     "duration": 0.023337,
     "end_time": "2024-10-04T16:37:23.165169",
     "exception": false,
     "start_time": "2024-10-04T16:37:23.141832",
     "status": "completed"
    },
    "tags": []
   },
   "outputs": [
    {
     "data": {
      "text/plain": [
       "'\\nconfig={\\n    \"learning_rate\": 1e-4,\\n    \"architecture\": \"microsoft/resnet-50 new1\",\\n    \"epochs\": 100,\\n    \"weight_decay\": 1e-4,\\n    \"reduce_lr_factor\": 0.2,\\n    \"patience\": 10,\\n    \"class_weights\": class_weights\\n    }\\ntrain(model, config, run_name = config[\"architecture\"])\\n'"
      ]
     },
     "execution_count": 20,
     "metadata": {},
     "output_type": "execute_result"
    }
   ],
   "source": [
    "\"\"\"\n",
    "config={\n",
    "    \"learning_rate\": 1e-4,\n",
    "    \"architecture\": \"microsoft/resnet-50 new1\",\n",
    "    \"epochs\": 100,\n",
    "    \"weight_decay\": 1e-4,\n",
    "    \"reduce_lr_factor\": 0.2,\n",
    "    \"patience\": 10,\n",
    "    \"class_weights\": class_weights\n",
    "    }\n",
    "train(model, config, run_name = config[\"architecture\"])\n",
    "\"\"\""
   ]
  },
  {
   "cell_type": "markdown",
   "id": "8b2ddf81",
   "metadata": {
    "papermill": {
     "duration": 0.015179,
     "end_time": "2024-10-04T16:37:23.195520",
     "exception": false,
     "start_time": "2024-10-04T16:37:23.180341",
     "status": "completed"
    },
    "tags": []
   },
   "source": [
    "### Resnet-18"
   ]
  },
  {
   "cell_type": "code",
   "execution_count": 21,
   "id": "ce73420d",
   "metadata": {
    "execution": {
     "iopub.execute_input": "2024-10-04T16:37:23.228177Z",
     "iopub.status.busy": "2024-10-04T16:37:23.227367Z",
     "iopub.status.idle": "2024-10-04T16:37:25.157673Z",
     "shell.execute_reply": "2024-10-04T16:37:25.156913Z"
    },
    "papermill": {
     "duration": 1.948855,
     "end_time": "2024-10-04T16:37:25.159851",
     "exception": false,
     "start_time": "2024-10-04T16:37:23.210996",
     "status": "completed"
    },
    "tags": []
   },
   "outputs": [
    {
     "data": {
      "application/vnd.jupyter.widget-view+json": {
       "model_id": "60c76c329bde4753878534e071672661",
       "version_major": 2,
       "version_minor": 0
      },
      "text/plain": [
       "config.json:   0%|          | 0.00/69.5k [00:00<?, ?B/s]"
      ]
     },
     "metadata": {},
     "output_type": "display_data"
    },
    {
     "data": {
      "application/vnd.jupyter.widget-view+json": {
       "model_id": "341f8d8de89e406f9394d032c7040088",
       "version_major": 2,
       "version_minor": 0
      },
      "text/plain": [
       "model.safetensors:   0%|          | 0.00/46.8M [00:00<?, ?B/s]"
      ]
     },
     "metadata": {},
     "output_type": "display_data"
    }
   ],
   "source": [
    "model = ResNetForImageClassification.from_pretrained('microsoft/resnet-18')\n",
    "model.classifier[-1] = nn.Linear(model.classifier[-1].in_features, UnimodalCTDataset.num_classes) #Adjusting the final layer to the unimodal number of classes"
   ]
  },
  {
   "cell_type": "code",
   "execution_count": 22,
   "id": "19784665",
   "metadata": {
    "execution": {
     "iopub.execute_input": "2024-10-04T16:37:25.193159Z",
     "iopub.status.busy": "2024-10-04T16:37:25.192826Z",
     "iopub.status.idle": "2024-10-04T16:37:25.420131Z",
     "shell.execute_reply": "2024-10-04T16:37:25.419164Z"
    },
    "papermill": {
     "duration": 0.246157,
     "end_time": "2024-10-04T16:37:25.422392",
     "exception": false,
     "start_time": "2024-10-04T16:37:25.176235",
     "status": "completed"
    },
    "tags": []
   },
   "outputs": [
    {
     "data": {
      "text/plain": [
       "ResNetForImageClassification(\n",
       "  (resnet): ResNetModel(\n",
       "    (embedder): ResNetEmbeddings(\n",
       "      (embedder): ResNetConvLayer(\n",
       "        (convolution): Conv2d(3, 64, kernel_size=(7, 7), stride=(2, 2), padding=(3, 3), bias=False)\n",
       "        (normalization): BatchNorm2d(64, eps=1e-05, momentum=0.1, affine=True, track_running_stats=True)\n",
       "        (activation): ReLU()\n",
       "      )\n",
       "      (pooler): MaxPool2d(kernel_size=3, stride=2, padding=1, dilation=1, ceil_mode=False)\n",
       "    )\n",
       "    (encoder): ResNetEncoder(\n",
       "      (stages): ModuleList(\n",
       "        (0): ResNetStage(\n",
       "          (layers): Sequential(\n",
       "            (0): ResNetBasicLayer(\n",
       "              (shortcut): Identity()\n",
       "              (layer): Sequential(\n",
       "                (0): ResNetConvLayer(\n",
       "                  (convolution): Conv2d(64, 64, kernel_size=(3, 3), stride=(1, 1), padding=(1, 1), bias=False)\n",
       "                  (normalization): BatchNorm2d(64, eps=1e-05, momentum=0.1, affine=True, track_running_stats=True)\n",
       "                  (activation): ReLU()\n",
       "                )\n",
       "                (1): ResNetConvLayer(\n",
       "                  (convolution): Conv2d(64, 64, kernel_size=(3, 3), stride=(1, 1), padding=(1, 1), bias=False)\n",
       "                  (normalization): BatchNorm2d(64, eps=1e-05, momentum=0.1, affine=True, track_running_stats=True)\n",
       "                  (activation): Identity()\n",
       "                )\n",
       "              )\n",
       "              (activation): ReLU()\n",
       "            )\n",
       "            (1): ResNetBasicLayer(\n",
       "              (shortcut): Identity()\n",
       "              (layer): Sequential(\n",
       "                (0): ResNetConvLayer(\n",
       "                  (convolution): Conv2d(64, 64, kernel_size=(3, 3), stride=(1, 1), padding=(1, 1), bias=False)\n",
       "                  (normalization): BatchNorm2d(64, eps=1e-05, momentum=0.1, affine=True, track_running_stats=True)\n",
       "                  (activation): ReLU()\n",
       "                )\n",
       "                (1): ResNetConvLayer(\n",
       "                  (convolution): Conv2d(64, 64, kernel_size=(3, 3), stride=(1, 1), padding=(1, 1), bias=False)\n",
       "                  (normalization): BatchNorm2d(64, eps=1e-05, momentum=0.1, affine=True, track_running_stats=True)\n",
       "                  (activation): Identity()\n",
       "                )\n",
       "              )\n",
       "              (activation): ReLU()\n",
       "            )\n",
       "          )\n",
       "        )\n",
       "        (1): ResNetStage(\n",
       "          (layers): Sequential(\n",
       "            (0): ResNetBasicLayer(\n",
       "              (shortcut): ResNetShortCut(\n",
       "                (convolution): Conv2d(64, 128, kernel_size=(1, 1), stride=(2, 2), bias=False)\n",
       "                (normalization): BatchNorm2d(128, eps=1e-05, momentum=0.1, affine=True, track_running_stats=True)\n",
       "              )\n",
       "              (layer): Sequential(\n",
       "                (0): ResNetConvLayer(\n",
       "                  (convolution): Conv2d(64, 128, kernel_size=(3, 3), stride=(2, 2), padding=(1, 1), bias=False)\n",
       "                  (normalization): BatchNorm2d(128, eps=1e-05, momentum=0.1, affine=True, track_running_stats=True)\n",
       "                  (activation): ReLU()\n",
       "                )\n",
       "                (1): ResNetConvLayer(\n",
       "                  (convolution): Conv2d(128, 128, kernel_size=(3, 3), stride=(1, 1), padding=(1, 1), bias=False)\n",
       "                  (normalization): BatchNorm2d(128, eps=1e-05, momentum=0.1, affine=True, track_running_stats=True)\n",
       "                  (activation): Identity()\n",
       "                )\n",
       "              )\n",
       "              (activation): ReLU()\n",
       "            )\n",
       "            (1): ResNetBasicLayer(\n",
       "              (shortcut): Identity()\n",
       "              (layer): Sequential(\n",
       "                (0): ResNetConvLayer(\n",
       "                  (convolution): Conv2d(128, 128, kernel_size=(3, 3), stride=(1, 1), padding=(1, 1), bias=False)\n",
       "                  (normalization): BatchNorm2d(128, eps=1e-05, momentum=0.1, affine=True, track_running_stats=True)\n",
       "                  (activation): ReLU()\n",
       "                )\n",
       "                (1): ResNetConvLayer(\n",
       "                  (convolution): Conv2d(128, 128, kernel_size=(3, 3), stride=(1, 1), padding=(1, 1), bias=False)\n",
       "                  (normalization): BatchNorm2d(128, eps=1e-05, momentum=0.1, affine=True, track_running_stats=True)\n",
       "                  (activation): Identity()\n",
       "                )\n",
       "              )\n",
       "              (activation): ReLU()\n",
       "            )\n",
       "          )\n",
       "        )\n",
       "        (2): ResNetStage(\n",
       "          (layers): Sequential(\n",
       "            (0): ResNetBasicLayer(\n",
       "              (shortcut): ResNetShortCut(\n",
       "                (convolution): Conv2d(128, 256, kernel_size=(1, 1), stride=(2, 2), bias=False)\n",
       "                (normalization): BatchNorm2d(256, eps=1e-05, momentum=0.1, affine=True, track_running_stats=True)\n",
       "              )\n",
       "              (layer): Sequential(\n",
       "                (0): ResNetConvLayer(\n",
       "                  (convolution): Conv2d(128, 256, kernel_size=(3, 3), stride=(2, 2), padding=(1, 1), bias=False)\n",
       "                  (normalization): BatchNorm2d(256, eps=1e-05, momentum=0.1, affine=True, track_running_stats=True)\n",
       "                  (activation): ReLU()\n",
       "                )\n",
       "                (1): ResNetConvLayer(\n",
       "                  (convolution): Conv2d(256, 256, kernel_size=(3, 3), stride=(1, 1), padding=(1, 1), bias=False)\n",
       "                  (normalization): BatchNorm2d(256, eps=1e-05, momentum=0.1, affine=True, track_running_stats=True)\n",
       "                  (activation): Identity()\n",
       "                )\n",
       "              )\n",
       "              (activation): ReLU()\n",
       "            )\n",
       "            (1): ResNetBasicLayer(\n",
       "              (shortcut): Identity()\n",
       "              (layer): Sequential(\n",
       "                (0): ResNetConvLayer(\n",
       "                  (convolution): Conv2d(256, 256, kernel_size=(3, 3), stride=(1, 1), padding=(1, 1), bias=False)\n",
       "                  (normalization): BatchNorm2d(256, eps=1e-05, momentum=0.1, affine=True, track_running_stats=True)\n",
       "                  (activation): ReLU()\n",
       "                )\n",
       "                (1): ResNetConvLayer(\n",
       "                  (convolution): Conv2d(256, 256, kernel_size=(3, 3), stride=(1, 1), padding=(1, 1), bias=False)\n",
       "                  (normalization): BatchNorm2d(256, eps=1e-05, momentum=0.1, affine=True, track_running_stats=True)\n",
       "                  (activation): Identity()\n",
       "                )\n",
       "              )\n",
       "              (activation): ReLU()\n",
       "            )\n",
       "          )\n",
       "        )\n",
       "        (3): ResNetStage(\n",
       "          (layers): Sequential(\n",
       "            (0): ResNetBasicLayer(\n",
       "              (shortcut): ResNetShortCut(\n",
       "                (convolution): Conv2d(256, 512, kernel_size=(1, 1), stride=(2, 2), bias=False)\n",
       "                (normalization): BatchNorm2d(512, eps=1e-05, momentum=0.1, affine=True, track_running_stats=True)\n",
       "              )\n",
       "              (layer): Sequential(\n",
       "                (0): ResNetConvLayer(\n",
       "                  (convolution): Conv2d(256, 512, kernel_size=(3, 3), stride=(2, 2), padding=(1, 1), bias=False)\n",
       "                  (normalization): BatchNorm2d(512, eps=1e-05, momentum=0.1, affine=True, track_running_stats=True)\n",
       "                  (activation): ReLU()\n",
       "                )\n",
       "                (1): ResNetConvLayer(\n",
       "                  (convolution): Conv2d(512, 512, kernel_size=(3, 3), stride=(1, 1), padding=(1, 1), bias=False)\n",
       "                  (normalization): BatchNorm2d(512, eps=1e-05, momentum=0.1, affine=True, track_running_stats=True)\n",
       "                  (activation): Identity()\n",
       "                )\n",
       "              )\n",
       "              (activation): ReLU()\n",
       "            )\n",
       "            (1): ResNetBasicLayer(\n",
       "              (shortcut): Identity()\n",
       "              (layer): Sequential(\n",
       "                (0): ResNetConvLayer(\n",
       "                  (convolution): Conv2d(512, 512, kernel_size=(3, 3), stride=(1, 1), padding=(1, 1), bias=False)\n",
       "                  (normalization): BatchNorm2d(512, eps=1e-05, momentum=0.1, affine=True, track_running_stats=True)\n",
       "                  (activation): ReLU()\n",
       "                )\n",
       "                (1): ResNetConvLayer(\n",
       "                  (convolution): Conv2d(512, 512, kernel_size=(3, 3), stride=(1, 1), padding=(1, 1), bias=False)\n",
       "                  (normalization): BatchNorm2d(512, eps=1e-05, momentum=0.1, affine=True, track_running_stats=True)\n",
       "                  (activation): Identity()\n",
       "                )\n",
       "              )\n",
       "              (activation): ReLU()\n",
       "            )\n",
       "          )\n",
       "        )\n",
       "      )\n",
       "    )\n",
       "    (pooler): AdaptiveAvgPool2d(output_size=(1, 1))\n",
       "  )\n",
       "  (classifier): Sequential(\n",
       "    (0): Flatten(start_dim=1, end_dim=-1)\n",
       "    (1): Linear(in_features=512, out_features=3, bias=True)\n",
       "  )\n",
       ")"
      ]
     },
     "execution_count": 22,
     "metadata": {},
     "output_type": "execute_result"
    }
   ],
   "source": [
    "device = torch.device(\"cuda\" if torch.cuda.is_available() else \"cpu\")\n",
    "model.to(device)"
   ]
  },
  {
   "cell_type": "code",
   "execution_count": 23,
   "id": "bc5ce7b2",
   "metadata": {
    "execution": {
     "iopub.execute_input": "2024-10-04T16:37:25.456105Z",
     "iopub.status.busy": "2024-10-04T16:37:25.455745Z",
     "iopub.status.idle": "2024-10-04T16:37:25.460495Z",
     "shell.execute_reply": "2024-10-04T16:37:25.459735Z"
    },
    "papermill": {
     "duration": 0.023558,
     "end_time": "2024-10-04T16:37:25.462335",
     "exception": false,
     "start_time": "2024-10-04T16:37:25.438777",
     "status": "completed"
    },
    "tags": []
   },
   "outputs": [],
   "source": [
    "\n",
    "config={\n",
    "    \"learning_rate\": 1e-7,\n",
    "    \"architecture\": \"microsoft/resnet-18 NOOVERSAMPLING FOCALLOSS\",\n",
    "    \"epochs\": 2,\n",
    "    \"weight_decay\": 1e-6,\n",
    "    \"reduce_lr_factor\": 0.25,\n",
    "    \"patience\": 20,\n",
    "    \"early_stop_patience\": 30,\n",
    "    \"class_weights\": None,\n",
    "    \"focal_loss\": 2\n",
    "    }\n",
    "\n",
    "\n"
   ]
  },
  {
   "cell_type": "markdown",
   "id": "e467ab00",
   "metadata": {
    "papermill": {
     "duration": 0.015723,
     "end_time": "2024-10-04T16:37:25.494116",
     "exception": false,
     "start_time": "2024-10-04T16:37:25.478393",
     "status": "completed"
    },
    "tags": []
   },
   "source": [
    "### Resnet-34"
   ]
  },
  {
   "cell_type": "code",
   "execution_count": 24,
   "id": "0f70d10e",
   "metadata": {
    "execution": {
     "iopub.execute_input": "2024-10-04T16:37:25.527248Z",
     "iopub.status.busy": "2024-10-04T16:37:25.526937Z",
     "iopub.status.idle": "2024-10-04T16:37:25.530654Z",
     "shell.execute_reply": "2024-10-04T16:37:25.529779Z"
    },
    "papermill": {
     "duration": 0.02234,
     "end_time": "2024-10-04T16:37:25.532528",
     "exception": false,
     "start_time": "2024-10-04T16:37:25.510188",
     "status": "completed"
    },
    "tags": []
   },
   "outputs": [],
   "source": [
    "#model = ResNetForImageClassification.from_pretrained('microsoft/resnet-34')\n",
    "#model.classifier[-1] = nn.Linear(model.classifier[-1].in_features, UnimodalCTDataset.num_classes) #Adjusting the final layer to the unimodal number of classes"
   ]
  },
  {
   "cell_type": "code",
   "execution_count": 25,
   "id": "14e9806e",
   "metadata": {
    "execution": {
     "iopub.execute_input": "2024-10-04T16:37:25.565955Z",
     "iopub.status.busy": "2024-10-04T16:37:25.565682Z",
     "iopub.status.idle": "2024-10-04T16:37:25.569320Z",
     "shell.execute_reply": "2024-10-04T16:37:25.568490Z"
    },
    "papermill": {
     "duration": 0.022355,
     "end_time": "2024-10-04T16:37:25.571199",
     "exception": false,
     "start_time": "2024-10-04T16:37:25.548844",
     "status": "completed"
    },
    "tags": []
   },
   "outputs": [],
   "source": [
    "#device = torch.device(\"cuda\" if torch.cuda.is_available() else \"cpu\")\n",
    "#model.to(device)"
   ]
  },
  {
   "cell_type": "code",
   "execution_count": 26,
   "id": "044e2ab2",
   "metadata": {
    "execution": {
     "iopub.execute_input": "2024-10-04T16:37:25.604649Z",
     "iopub.status.busy": "2024-10-04T16:37:25.604348Z",
     "iopub.status.idle": "2024-10-04T16:39:26.944688Z",
     "shell.execute_reply": "2024-10-04T16:39:26.943763Z"
    },
    "papermill": {
     "duration": 121.359415,
     "end_time": "2024-10-04T16:39:26.946741",
     "exception": false,
     "start_time": "2024-10-04T16:37:25.587326",
     "status": "completed"
    },
    "tags": []
   },
   "outputs": [
    {
     "name": "stderr",
     "output_type": "stream",
     "text": [
      "\u001b[34m\u001b[1mwandb\u001b[0m: Currently logged in as: \u001b[33mpietro-caforio\u001b[0m (\u001b[33mpietro-caforio-politecnico-di-milano\u001b[0m). Use \u001b[1m`wandb login --relogin`\u001b[0m to force relogin\n"
     ]
    },
    {
     "name": "stdout",
     "output_type": "stream",
     "text": [
      "Fold 1\n",
      "-------\n"
     ]
    },
    {
     "name": "stderr",
     "output_type": "stream",
     "text": [
      "\u001b[34m\u001b[1mwandb\u001b[0m: Tracking run with wandb version 0.18.3\n",
      "\u001b[34m\u001b[1mwandb\u001b[0m: Run data is saved locally in \u001b[35m\u001b[1m/kaggle/working/wandb/run-20241004_163725-lwkl57ud\u001b[0m\n",
      "\u001b[34m\u001b[1mwandb\u001b[0m: Run \u001b[1m`wandb offline`\u001b[0m to turn off syncing.\n",
      "\u001b[34m\u001b[1mwandb\u001b[0m: Syncing run \u001b[33mmicrosoft/resnet-18 NOOVERSAMPLING FOCALLOSS fold:1\u001b[0m\n",
      "\u001b[34m\u001b[1mwandb\u001b[0m: ⭐️ View project at \u001b[34m\u001b[4mhttps://wandb.ai/pietro-caforio-politecnico-di-milano/unimodal_ct_training\u001b[0m\n",
      "\u001b[34m\u001b[1mwandb\u001b[0m: 🚀 View run at \u001b[34m\u001b[4mhttps://wandb.ai/pietro-caforio-politecnico-di-milano/unimodal_ct_training/runs/lwkl57ud\u001b[0m\n"
     ]
    },
    {
     "name": "stdout",
     "output_type": "stream",
     "text": [
      "Epoch 1, Loss: 0.45799362616262573\n",
      "Validation Loss: 0.48499068532671247, Total Accuracy: 45.73%\n",
      "Accuracy per class - G1: 1.87%, G2: 62.10%, G3: 7.55%\n",
      "Validation loss decreased (inf --> 16.974674).  Saving model ...\n",
      "Epoch 2, Loss: 0.44501148445018823\n",
      "Validation Loss: 0.4640001348086766, Total Accuracy: 51.55%\n",
      "Accuracy per class - G1: 5.61%, G2: 71.45%, G3: 1.42%\n",
      "Validation loss decreased (16.974674 --> 16.240005).  Saving model ...\n"
     ]
    },
    {
     "name": "stderr",
     "output_type": "stream",
     "text": [
      "\u001b[34m\u001b[1mwandb\u001b[0m:                                                                                \n",
      "\u001b[34m\u001b[1mwandb\u001b[0m: \n",
      "\u001b[34m\u001b[1mwandb\u001b[0m: Run history:\n",
      "\u001b[34m\u001b[1mwandb\u001b[0m:          G1_Acc ▁█\n",
      "\u001b[34m\u001b[1mwandb\u001b[0m:     G1_TrainAcc ▁▁\n",
      "\u001b[34m\u001b[1mwandb\u001b[0m:          G2_Acc ▁█\n",
      "\u001b[34m\u001b[1mwandb\u001b[0m:     G2_TrainAcc ▁█\n",
      "\u001b[34m\u001b[1mwandb\u001b[0m:          G3_Acc █▁\n",
      "\u001b[34m\u001b[1mwandb\u001b[0m:     G3_TrainAcc █▁\n",
      "\u001b[34m\u001b[1mwandb\u001b[0m:  Total Accuracy ▁█\n",
      "\u001b[34m\u001b[1mwandb\u001b[0m:  Train Accuracy ▁█\n",
      "\u001b[34m\u001b[1mwandb\u001b[0m:      Train loss █▁\n",
      "\u001b[34m\u001b[1mwandb\u001b[0m: Validation Loss █▁\n",
      "\u001b[34m\u001b[1mwandb\u001b[0m: \n",
      "\u001b[34m\u001b[1mwandb\u001b[0m: Run summary:\n",
      "\u001b[34m\u001b[1mwandb\u001b[0m:          G1_Acc 5.60748\n",
      "\u001b[34m\u001b[1mwandb\u001b[0m:     G1_TrainAcc 5\n",
      "\u001b[34m\u001b[1mwandb\u001b[0m:          G2_Acc 71.44686\n",
      "\u001b[34m\u001b[1mwandb\u001b[0m:     G2_TrainAcc 89.80695\n",
      "\u001b[34m\u001b[1mwandb\u001b[0m:          G3_Acc 1.41509\n",
      "\u001b[34m\u001b[1mwandb\u001b[0m:     G3_TrainAcc 8.90125\n",
      "\u001b[34m\u001b[1mwandb\u001b[0m:  Total Accuracy 51.54545\n",
      "\u001b[34m\u001b[1mwandb\u001b[0m:  Train Accuracy 56.33546\n",
      "\u001b[34m\u001b[1mwandb\u001b[0m:      Train loss 0.44501\n",
      "\u001b[34m\u001b[1mwandb\u001b[0m: Validation Loss 0.464\n",
      "\u001b[34m\u001b[1mwandb\u001b[0m: \n",
      "\u001b[34m\u001b[1mwandb\u001b[0m: 🚀 View run \u001b[33mmicrosoft/resnet-18 NOOVERSAMPLING FOCALLOSS fold:1\u001b[0m at: \u001b[34m\u001b[4mhttps://wandb.ai/pietro-caforio-politecnico-di-milano/unimodal_ct_training/runs/lwkl57ud\u001b[0m\n",
      "\u001b[34m\u001b[1mwandb\u001b[0m: ⭐️ View project at: \u001b[34m\u001b[4mhttps://wandb.ai/pietro-caforio-politecnico-di-milano/unimodal_ct_training\u001b[0m\n",
      "\u001b[34m\u001b[1mwandb\u001b[0m: Synced 5 W&B file(s), 0 media file(s), 0 artifact file(s) and 0 other file(s)\n",
      "\u001b[34m\u001b[1mwandb\u001b[0m: Find logs at: \u001b[35m\u001b[1m./wandb/run-20241004_163725-lwkl57ud/logs\u001b[0m\n",
      "\u001b[34m\u001b[1mwandb\u001b[0m: Tracking run with wandb version 0.18.3\n",
      "\u001b[34m\u001b[1mwandb\u001b[0m: Run data is saved locally in \u001b[35m\u001b[1m/kaggle/working/wandb/run-20241004_163809-5qk6b5e3\u001b[0m\n",
      "\u001b[34m\u001b[1mwandb\u001b[0m: Run \u001b[1m`wandb offline`\u001b[0m to turn off syncing.\n",
      "\u001b[34m\u001b[1mwandb\u001b[0m: Syncing run \u001b[33mmicrosoft/resnet-18 NOOVERSAMPLING FOCALLOSS fold:1 fold:2\u001b[0m\n",
      "\u001b[34m\u001b[1mwandb\u001b[0m: ⭐️ View project at \u001b[34m\u001b[4mhttps://wandb.ai/pietro-caforio-politecnico-di-milano/unimodal_ct_training\u001b[0m\n",
      "\u001b[34m\u001b[1mwandb\u001b[0m: 🚀 View run at \u001b[34m\u001b[4mhttps://wandb.ai/pietro-caforio-politecnico-di-milano/unimodal_ct_training/runs/5qk6b5e3\u001b[0m\n"
     ]
    },
    {
     "name": "stdout",
     "output_type": "stream",
     "text": [
      "Fold 2\n",
      "-------\n",
      "Epoch 1, Loss: 0.4302621565867161\n",
      "Validation Loss: 0.42428878801209585, Total Accuracy: 59.07%\n",
      "Accuracy per class - G1: 1.72%, G2: 91.89%, G3: 10.79%\n",
      "Validation loss decreased (inf --> 14.850108).  Saving model ...\n",
      "Epoch 2, Loss: 0.4103792080844658\n",
      "Validation Loss: 0.4105180101735251, Total Accuracy: 59.80%\n",
      "Accuracy per class - G1: 1.72%, G2: 91.89%, G3: 13.33%\n",
      "Validation loss decreased (14.850108 --> 14.368130).  Saving model ...\n"
     ]
    },
    {
     "name": "stderr",
     "output_type": "stream",
     "text": [
      "\u001b[34m\u001b[1mwandb\u001b[0m:                                                                                \n",
      "\u001b[34m\u001b[1mwandb\u001b[0m: \n",
      "\u001b[34m\u001b[1mwandb\u001b[0m: Run history:\n",
      "\u001b[34m\u001b[1mwandb\u001b[0m:          G1_Acc ▁▁\n",
      "\u001b[34m\u001b[1mwandb\u001b[0m:     G1_TrainAcc █▁\n",
      "\u001b[34m\u001b[1mwandb\u001b[0m:          G2_Acc ▁▁\n",
      "\u001b[34m\u001b[1mwandb\u001b[0m:     G2_TrainAcc ▁█\n",
      "\u001b[34m\u001b[1mwandb\u001b[0m:          G3_Acc ▁█\n",
      "\u001b[34m\u001b[1mwandb\u001b[0m:     G3_TrainAcc ▁█\n",
      "\u001b[34m\u001b[1mwandb\u001b[0m:  Total Accuracy ▁█\n",
      "\u001b[34m\u001b[1mwandb\u001b[0m:  Train Accuracy ▁█\n",
      "\u001b[34m\u001b[1mwandb\u001b[0m:      Train loss █▁\n",
      "\u001b[34m\u001b[1mwandb\u001b[0m: Validation Loss █▁\n",
      "\u001b[34m\u001b[1mwandb\u001b[0m: \n",
      "\u001b[34m\u001b[1mwandb\u001b[0m: Run summary:\n",
      "\u001b[34m\u001b[1mwandb\u001b[0m:          G1_Acc 1.72414\n",
      "\u001b[34m\u001b[1mwandb\u001b[0m:     G1_TrainAcc 3.50877\n",
      "\u001b[34m\u001b[1mwandb\u001b[0m:          G2_Acc 91.89189\n",
      "\u001b[34m\u001b[1mwandb\u001b[0m:     G2_TrainAcc 86.73759\n",
      "\u001b[34m\u001b[1mwandb\u001b[0m:          G3_Acc 13.33333\n",
      "\u001b[34m\u001b[1mwandb\u001b[0m:     G3_TrainAcc 8.11688\n",
      "\u001b[34m\u001b[1mwandb\u001b[0m:  Total Accuracy 59.79945\n",
      "\u001b[34m\u001b[1mwandb\u001b[0m:  Train Accuracy 58.21575\n",
      "\u001b[34m\u001b[1mwandb\u001b[0m:      Train loss 0.41038\n",
      "\u001b[34m\u001b[1mwandb\u001b[0m: Validation Loss 0.41052\n",
      "\u001b[34m\u001b[1mwandb\u001b[0m: \n",
      "\u001b[34m\u001b[1mwandb\u001b[0m: 🚀 View run \u001b[33mmicrosoft/resnet-18 NOOVERSAMPLING FOCALLOSS fold:1 fold:2\u001b[0m at: \u001b[34m\u001b[4mhttps://wandb.ai/pietro-caforio-politecnico-di-milano/unimodal_ct_training/runs/5qk6b5e3\u001b[0m\n",
      "\u001b[34m\u001b[1mwandb\u001b[0m: ⭐️ View project at: \u001b[34m\u001b[4mhttps://wandb.ai/pietro-caforio-politecnico-di-milano/unimodal_ct_training\u001b[0m\n",
      "\u001b[34m\u001b[1mwandb\u001b[0m: Synced 5 W&B file(s), 0 media file(s), 0 artifact file(s) and 0 other file(s)\n",
      "\u001b[34m\u001b[1mwandb\u001b[0m: Find logs at: \u001b[35m\u001b[1m./wandb/run-20241004_163809-5qk6b5e3/logs\u001b[0m\n",
      "\u001b[34m\u001b[1mwandb\u001b[0m: Tracking run with wandb version 0.18.3\n",
      "\u001b[34m\u001b[1mwandb\u001b[0m: Run data is saved locally in \u001b[35m\u001b[1m/kaggle/working/wandb/run-20241004_163849-4iqg48h2\u001b[0m\n",
      "\u001b[34m\u001b[1mwandb\u001b[0m: Run \u001b[1m`wandb offline`\u001b[0m to turn off syncing.\n",
      "\u001b[34m\u001b[1mwandb\u001b[0m: Syncing run \u001b[33mmicrosoft/resnet-18 NOOVERSAMPLING FOCALLOSS fold:1 fold:2 fold:3\u001b[0m\n",
      "\u001b[34m\u001b[1mwandb\u001b[0m: ⭐️ View project at \u001b[34m\u001b[4mhttps://wandb.ai/pietro-caforio-politecnico-di-milano/unimodal_ct_training\u001b[0m\n",
      "\u001b[34m\u001b[1mwandb\u001b[0m: 🚀 View run at \u001b[34m\u001b[4mhttps://wandb.ai/pietro-caforio-politecnico-di-milano/unimodal_ct_training/runs/4iqg48h2\u001b[0m\n"
     ]
    },
    {
     "name": "stdout",
     "output_type": "stream",
     "text": [
      "Fold 3\n",
      "-------\n",
      "Epoch 1, Loss: 0.40787800369055377\n",
      "Validation Loss: 0.41397938472884044, Total Accuracy: 57.16%\n",
      "Accuracy per class - G1: 6.25%, G2: 95.07%, G3: 6.19%\n",
      "Validation loss decreased (inf --> 14.489278).  Saving model ...\n",
      "Epoch 2, Loss: 0.38839045512503473\n",
      "Validation Loss: 0.4156081974506378, Total Accuracy: 57.43%\n",
      "Accuracy per class - G1: 10.94%, G2: 94.91%, G3: 6.44%\n",
      "EarlyStopping counter: 1 out of 30\n"
     ]
    },
    {
     "name": "stderr",
     "output_type": "stream",
     "text": [
      "\u001b[34m\u001b[1mwandb\u001b[0m:                                                                                \n",
      "\u001b[34m\u001b[1mwandb\u001b[0m: \n",
      "\u001b[34m\u001b[1mwandb\u001b[0m: Run history:\n",
      "\u001b[34m\u001b[1mwandb\u001b[0m:          G1_Acc ▁█\n",
      "\u001b[34m\u001b[1mwandb\u001b[0m:     G1_TrainAcc ▁█\n",
      "\u001b[34m\u001b[1mwandb\u001b[0m:          G2_Acc █▁\n",
      "\u001b[34m\u001b[1mwandb\u001b[0m:     G2_TrainAcc ▁█\n",
      "\u001b[34m\u001b[1mwandb\u001b[0m:          G3_Acc ▁█\n",
      "\u001b[34m\u001b[1mwandb\u001b[0m:     G3_TrainAcc ▁█\n",
      "\u001b[34m\u001b[1mwandb\u001b[0m:  Total Accuracy ▁█\n",
      "\u001b[34m\u001b[1mwandb\u001b[0m:  Train Accuracy ▁█\n",
      "\u001b[34m\u001b[1mwandb\u001b[0m:      Train loss █▁\n",
      "\u001b[34m\u001b[1mwandb\u001b[0m: Validation Loss ▁█\n",
      "\u001b[34m\u001b[1mwandb\u001b[0m: \n",
      "\u001b[34m\u001b[1mwandb\u001b[0m: Run summary:\n",
      "\u001b[34m\u001b[1mwandb\u001b[0m:          G1_Acc 10.9375\n",
      "\u001b[34m\u001b[1mwandb\u001b[0m:     G1_TrainAcc 7.17489\n",
      "\u001b[34m\u001b[1mwandb\u001b[0m:          G2_Acc 94.91256\n",
      "\u001b[34m\u001b[1mwandb\u001b[0m:     G2_TrainAcc 88.25155\n",
      "\u001b[34m\u001b[1mwandb\u001b[0m:          G3_Acc 6.43564\n",
      "\u001b[34m\u001b[1mwandb\u001b[0m:     G3_TrainAcc 10.81594\n",
      "\u001b[34m\u001b[1mwandb\u001b[0m:  Total Accuracy 57.42935\n",
      "\u001b[34m\u001b[1mwandb\u001b[0m:  Train Accuracy 61.44743\n",
      "\u001b[34m\u001b[1mwandb\u001b[0m:      Train loss 0.38839\n",
      "\u001b[34m\u001b[1mwandb\u001b[0m: Validation Loss 0.41561\n",
      "\u001b[34m\u001b[1mwandb\u001b[0m: \n",
      "\u001b[34m\u001b[1mwandb\u001b[0m: 🚀 View run \u001b[33mmicrosoft/resnet-18 NOOVERSAMPLING FOCALLOSS fold:1 fold:2 fold:3\u001b[0m at: \u001b[34m\u001b[4mhttps://wandb.ai/pietro-caforio-politecnico-di-milano/unimodal_ct_training/runs/4iqg48h2\u001b[0m\n",
      "\u001b[34m\u001b[1mwandb\u001b[0m: ⭐️ View project at: \u001b[34m\u001b[4mhttps://wandb.ai/pietro-caforio-politecnico-di-milano/unimodal_ct_training\u001b[0m\n",
      "\u001b[34m\u001b[1mwandb\u001b[0m: Synced 5 W&B file(s), 0 media file(s), 0 artifact file(s) and 0 other file(s)\n",
      "\u001b[34m\u001b[1mwandb\u001b[0m: Find logs at: \u001b[35m\u001b[1m./wandb/run-20241004_163849-4iqg48h2/logs\u001b[0m\n"
     ]
    }
   ],
   "source": [
    "k_folds = 3\n",
    "batch_size = 32\n",
    "# Initialize the k-fold cross validation\n",
    "#group fold in order to group indices by patient_id so that we don't introduct frames of the same patient in the train set and test set\n",
    "gkf = GroupKFold(n_splits=k_folds) \n",
    "patient_ids = [info.split(\"_\")[0] for info in train_dataset.items]\n",
    "indices = list(range(len(patient_ids)))\n",
    "# Loop through each fold\n",
    "for fold, (train_idx, test_idx) in enumerate(gkf.split(indices, groups=patient_ids)):\n",
    "    print(f\"Fold {fold + 1}\")\n",
    "    print(\"-------\")\n",
    "    # Define the data loaders for the current fold\n",
    "    train_loader = DataLoader(\n",
    "        dataset=train_dataset,\n",
    "        batch_size=batch_size,\n",
    "        sampler=torch.utils.data.SubsetRandomSampler(train_idx),\n",
    "    )\n",
    "    val_loader = DataLoader(\n",
    "        dataset=train_dataset,\n",
    "        batch_size=batch_size,\n",
    "        sampler=torch.utils.data.SubsetRandomSampler(test_idx),\n",
    "    )\n",
    "    config[\"architecture\"] = f\"{config['architecture']} fold:{fold + 1}\"    \n",
    "    train(model, config, run_name = config[\"architecture\"])\n"
   ]
  },
  {
   "cell_type": "code",
   "execution_count": null,
   "id": "f12c3ef5",
   "metadata": {
    "papermill": {
     "duration": 0.020055,
     "end_time": "2024-10-04T16:39:26.987318",
     "exception": false,
     "start_time": "2024-10-04T16:39:26.967263",
     "status": "completed"
    },
    "tags": []
   },
   "outputs": [],
   "source": []
  }
 ],
 "metadata": {
  "kaggle": {
   "accelerator": "gpu",
   "dataSources": [
    {
     "datasetId": 5758221,
     "sourceId": 9516694,
     "sourceType": "datasetVersion"
    },
    {
     "datasetId": 5664308,
     "sourceId": 9525408,
     "sourceType": "datasetVersion"
    }
   ],
   "isGpuEnabled": true,
   "isInternetEnabled": true,
   "language": "python",
   "sourceType": "notebook"
  },
  "kernelspec": {
   "display_name": "Python 3",
   "language": "python",
   "name": "python3"
  },
  "language_info": {
   "codemirror_mode": {
    "name": "ipython",
    "version": 3
   },
   "file_extension": ".py",
   "mimetype": "text/x-python",
   "name": "python",
   "nbconvert_exporter": "python",
   "pygments_lexer": "ipython3",
   "version": "3.10.14"
  },
  "papermill": {
   "default_parameters": {},
   "duration": 176.281152,
   "end_time": "2024-10-04T16:39:28.630259",
   "environment_variables": {},
   "exception": null,
   "input_path": "__notebook__.ipynb",
   "output_path": "__notebook__.ipynb",
   "parameters": {},
   "start_time": "2024-10-04T16:36:32.349107",
   "version": "2.6.0"
  },
  "widgets": {
   "application/vnd.jupyter.widget-state+json": {
    "state": {
     "08168b8d93d4438182fee8b468557ce5": {
      "model_module": "@jupyter-widgets/controls",
      "model_module_version": "1.5.0",
      "model_name": "DescriptionStyleModel",
      "state": {
       "_model_module": "@jupyter-widgets/controls",
       "_model_module_version": "1.5.0",
       "_model_name": "DescriptionStyleModel",
       "_view_count": null,
       "_view_module": "@jupyter-widgets/base",
       "_view_module_version": "1.2.0",
       "_view_name": "StyleView",
       "description_width": ""
      }
     },
     "263f37a00f7b4ba590b77dc61454b596": {
      "model_module": "@jupyter-widgets/base",
      "model_module_version": "1.2.0",
      "model_name": "LayoutModel",
      "state": {
       "_model_module": "@jupyter-widgets/base",
       "_model_module_version": "1.2.0",
       "_model_name": "LayoutModel",
       "_view_count": null,
       "_view_module": "@jupyter-widgets/base",
       "_view_module_version": "1.2.0",
       "_view_name": "LayoutView",
       "align_content": null,
       "align_items": null,
       "align_self": null,
       "border": null,
       "bottom": null,
       "display": null,
       "flex": null,
       "flex_flow": null,
       "grid_area": null,
       "grid_auto_columns": null,
       "grid_auto_flow": null,
       "grid_auto_rows": null,
       "grid_column": null,
       "grid_gap": null,
       "grid_row": null,
       "grid_template_areas": null,
       "grid_template_columns": null,
       "grid_template_rows": null,
       "height": null,
       "justify_content": null,
       "justify_items": null,
       "left": null,
       "margin": null,
       "max_height": null,
       "max_width": null,
       "min_height": null,
       "min_width": null,
       "object_fit": null,
       "object_position": null,
       "order": null,
       "overflow": null,
       "overflow_x": null,
       "overflow_y": null,
       "padding": null,
       "right": null,
       "top": null,
       "visibility": null,
       "width": null
      }
     },
     "341f8d8de89e406f9394d032c7040088": {
      "model_module": "@jupyter-widgets/controls",
      "model_module_version": "1.5.0",
      "model_name": "HBoxModel",
      "state": {
       "_dom_classes": [],
       "_model_module": "@jupyter-widgets/controls",
       "_model_module_version": "1.5.0",
       "_model_name": "HBoxModel",
       "_view_count": null,
       "_view_module": "@jupyter-widgets/controls",
       "_view_module_version": "1.5.0",
       "_view_name": "HBoxView",
       "box_style": "",
       "children": [
        "IPY_MODEL_ef0a401b96d94e75b8fae2d125aba555",
        "IPY_MODEL_524d23d065604201a469d8632c5d3058",
        "IPY_MODEL_9acd0e7b36b849e4b10672867d786f7a"
       ],
       "layout": "IPY_MODEL_9ce8ca4d44e148549ea32c0f4b0e9a6b"
      }
     },
     "4427be6c4128424f9fb3ecd871f7fe7e": {
      "model_module": "@jupyter-widgets/base",
      "model_module_version": "1.2.0",
      "model_name": "LayoutModel",
      "state": {
       "_model_module": "@jupyter-widgets/base",
       "_model_module_version": "1.2.0",
       "_model_name": "LayoutModel",
       "_view_count": null,
       "_view_module": "@jupyter-widgets/base",
       "_view_module_version": "1.2.0",
       "_view_name": "LayoutView",
       "align_content": null,
       "align_items": null,
       "align_self": null,
       "border": null,
       "bottom": null,
       "display": null,
       "flex": null,
       "flex_flow": null,
       "grid_area": null,
       "grid_auto_columns": null,
       "grid_auto_flow": null,
       "grid_auto_rows": null,
       "grid_column": null,
       "grid_gap": null,
       "grid_row": null,
       "grid_template_areas": null,
       "grid_template_columns": null,
       "grid_template_rows": null,
       "height": null,
       "justify_content": null,
       "justify_items": null,
       "left": null,
       "margin": null,
       "max_height": null,
       "max_width": null,
       "min_height": null,
       "min_width": null,
       "object_fit": null,
       "object_position": null,
       "order": null,
       "overflow": null,
       "overflow_x": null,
       "overflow_y": null,
       "padding": null,
       "right": null,
       "top": null,
       "visibility": null,
       "width": null
      }
     },
     "524d23d065604201a469d8632c5d3058": {
      "model_module": "@jupyter-widgets/controls",
      "model_module_version": "1.5.0",
      "model_name": "FloatProgressModel",
      "state": {
       "_dom_classes": [],
       "_model_module": "@jupyter-widgets/controls",
       "_model_module_version": "1.5.0",
       "_model_name": "FloatProgressModel",
       "_view_count": null,
       "_view_module": "@jupyter-widgets/controls",
       "_view_module_version": "1.5.0",
       "_view_name": "ProgressView",
       "bar_style": "success",
       "description": "",
       "description_tooltip": null,
       "layout": "IPY_MODEL_263f37a00f7b4ba590b77dc61454b596",
       "max": 46812324.0,
       "min": 0.0,
       "orientation": "horizontal",
       "style": "IPY_MODEL_b8352c736f9e4e41aa1ca168e9e381b2",
       "value": 46812324.0
      }
     },
     "60c76c329bde4753878534e071672661": {
      "model_module": "@jupyter-widgets/controls",
      "model_module_version": "1.5.0",
      "model_name": "HBoxModel",
      "state": {
       "_dom_classes": [],
       "_model_module": "@jupyter-widgets/controls",
       "_model_module_version": "1.5.0",
       "_model_name": "HBoxModel",
       "_view_count": null,
       "_view_module": "@jupyter-widgets/controls",
       "_view_module_version": "1.5.0",
       "_view_name": "HBoxView",
       "box_style": "",
       "children": [
        "IPY_MODEL_70df10c19dad4b77aa8705a06076e449",
        "IPY_MODEL_abf8eb9dc574444daefccd97d05805ce",
        "IPY_MODEL_d38549728a5c4061b77c91e0debb0b53"
       ],
       "layout": "IPY_MODEL_91b7f3a651ff4bba8a42ee894dcb59b2"
      }
     },
     "6acc85e49b494712a30da6dab3c966b8": {
      "model_module": "@jupyter-widgets/controls",
      "model_module_version": "1.5.0",
      "model_name": "DescriptionStyleModel",
      "state": {
       "_model_module": "@jupyter-widgets/controls",
       "_model_module_version": "1.5.0",
       "_model_name": "DescriptionStyleModel",
       "_view_count": null,
       "_view_module": "@jupyter-widgets/base",
       "_view_module_version": "1.2.0",
       "_view_name": "StyleView",
       "description_width": ""
      }
     },
     "6f080e58cbd5496eb8e5ab177e8e3e93": {
      "model_module": "@jupyter-widgets/controls",
      "model_module_version": "1.5.0",
      "model_name": "ProgressStyleModel",
      "state": {
       "_model_module": "@jupyter-widgets/controls",
       "_model_module_version": "1.5.0",
       "_model_name": "ProgressStyleModel",
       "_view_count": null,
       "_view_module": "@jupyter-widgets/base",
       "_view_module_version": "1.2.0",
       "_view_name": "StyleView",
       "bar_color": null,
       "description_width": ""
      }
     },
     "70df10c19dad4b77aa8705a06076e449": {
      "model_module": "@jupyter-widgets/controls",
      "model_module_version": "1.5.0",
      "model_name": "HTMLModel",
      "state": {
       "_dom_classes": [],
       "_model_module": "@jupyter-widgets/controls",
       "_model_module_version": "1.5.0",
       "_model_name": "HTMLModel",
       "_view_count": null,
       "_view_module": "@jupyter-widgets/controls",
       "_view_module_version": "1.5.0",
       "_view_name": "HTMLView",
       "description": "",
       "description_tooltip": null,
       "layout": "IPY_MODEL_8e208dfe2ef84dc9a17ec6eafa357f58",
       "placeholder": "​",
       "style": "IPY_MODEL_08168b8d93d4438182fee8b468557ce5",
       "value": "config.json: 100%"
      }
     },
     "87b385eb302d412fa760a7c0aebf0992": {
      "model_module": "@jupyter-widgets/base",
      "model_module_version": "1.2.0",
      "model_name": "LayoutModel",
      "state": {
       "_model_module": "@jupyter-widgets/base",
       "_model_module_version": "1.2.0",
       "_model_name": "LayoutModel",
       "_view_count": null,
       "_view_module": "@jupyter-widgets/base",
       "_view_module_version": "1.2.0",
       "_view_name": "LayoutView",
       "align_content": null,
       "align_items": null,
       "align_self": null,
       "border": null,
       "bottom": null,
       "display": null,
       "flex": null,
       "flex_flow": null,
       "grid_area": null,
       "grid_auto_columns": null,
       "grid_auto_flow": null,
       "grid_auto_rows": null,
       "grid_column": null,
       "grid_gap": null,
       "grid_row": null,
       "grid_template_areas": null,
       "grid_template_columns": null,
       "grid_template_rows": null,
       "height": null,
       "justify_content": null,
       "justify_items": null,
       "left": null,
       "margin": null,
       "max_height": null,
       "max_width": null,
       "min_height": null,
       "min_width": null,
       "object_fit": null,
       "object_position": null,
       "order": null,
       "overflow": null,
       "overflow_x": null,
       "overflow_y": null,
       "padding": null,
       "right": null,
       "top": null,
       "visibility": null,
       "width": null
      }
     },
     "8e208dfe2ef84dc9a17ec6eafa357f58": {
      "model_module": "@jupyter-widgets/base",
      "model_module_version": "1.2.0",
      "model_name": "LayoutModel",
      "state": {
       "_model_module": "@jupyter-widgets/base",
       "_model_module_version": "1.2.0",
       "_model_name": "LayoutModel",
       "_view_count": null,
       "_view_module": "@jupyter-widgets/base",
       "_view_module_version": "1.2.0",
       "_view_name": "LayoutView",
       "align_content": null,
       "align_items": null,
       "align_self": null,
       "border": null,
       "bottom": null,
       "display": null,
       "flex": null,
       "flex_flow": null,
       "grid_area": null,
       "grid_auto_columns": null,
       "grid_auto_flow": null,
       "grid_auto_rows": null,
       "grid_column": null,
       "grid_gap": null,
       "grid_row": null,
       "grid_template_areas": null,
       "grid_template_columns": null,
       "grid_template_rows": null,
       "height": null,
       "justify_content": null,
       "justify_items": null,
       "left": null,
       "margin": null,
       "max_height": null,
       "max_width": null,
       "min_height": null,
       "min_width": null,
       "object_fit": null,
       "object_position": null,
       "order": null,
       "overflow": null,
       "overflow_x": null,
       "overflow_y": null,
       "padding": null,
       "right": null,
       "top": null,
       "visibility": null,
       "width": null
      }
     },
     "91b7f3a651ff4bba8a42ee894dcb59b2": {
      "model_module": "@jupyter-widgets/base",
      "model_module_version": "1.2.0",
      "model_name": "LayoutModel",
      "state": {
       "_model_module": "@jupyter-widgets/base",
       "_model_module_version": "1.2.0",
       "_model_name": "LayoutModel",
       "_view_count": null,
       "_view_module": "@jupyter-widgets/base",
       "_view_module_version": "1.2.0",
       "_view_name": "LayoutView",
       "align_content": null,
       "align_items": null,
       "align_self": null,
       "border": null,
       "bottom": null,
       "display": null,
       "flex": null,
       "flex_flow": null,
       "grid_area": null,
       "grid_auto_columns": null,
       "grid_auto_flow": null,
       "grid_auto_rows": null,
       "grid_column": null,
       "grid_gap": null,
       "grid_row": null,
       "grid_template_areas": null,
       "grid_template_columns": null,
       "grid_template_rows": null,
       "height": null,
       "justify_content": null,
       "justify_items": null,
       "left": null,
       "margin": null,
       "max_height": null,
       "max_width": null,
       "min_height": null,
       "min_width": null,
       "object_fit": null,
       "object_position": null,
       "order": null,
       "overflow": null,
       "overflow_x": null,
       "overflow_y": null,
       "padding": null,
       "right": null,
       "top": null,
       "visibility": null,
       "width": null
      }
     },
     "9acd0e7b36b849e4b10672867d786f7a": {
      "model_module": "@jupyter-widgets/controls",
      "model_module_version": "1.5.0",
      "model_name": "HTMLModel",
      "state": {
       "_dom_classes": [],
       "_model_module": "@jupyter-widgets/controls",
       "_model_module_version": "1.5.0",
       "_model_name": "HTMLModel",
       "_view_count": null,
       "_view_module": "@jupyter-widgets/controls",
       "_view_module_version": "1.5.0",
       "_view_name": "HTMLView",
       "description": "",
       "description_tooltip": null,
       "layout": "IPY_MODEL_87b385eb302d412fa760a7c0aebf0992",
       "placeholder": "​",
       "style": "IPY_MODEL_f0053dca74724d6a8881ff101646fdc6",
       "value": " 46.8M/46.8M [00:01&lt;00:00, 46.4MB/s]"
      }
     },
     "9ce8ca4d44e148549ea32c0f4b0e9a6b": {
      "model_module": "@jupyter-widgets/base",
      "model_module_version": "1.2.0",
      "model_name": "LayoutModel",
      "state": {
       "_model_module": "@jupyter-widgets/base",
       "_model_module_version": "1.2.0",
       "_model_name": "LayoutModel",
       "_view_count": null,
       "_view_module": "@jupyter-widgets/base",
       "_view_module_version": "1.2.0",
       "_view_name": "LayoutView",
       "align_content": null,
       "align_items": null,
       "align_self": null,
       "border": null,
       "bottom": null,
       "display": null,
       "flex": null,
       "flex_flow": null,
       "grid_area": null,
       "grid_auto_columns": null,
       "grid_auto_flow": null,
       "grid_auto_rows": null,
       "grid_column": null,
       "grid_gap": null,
       "grid_row": null,
       "grid_template_areas": null,
       "grid_template_columns": null,
       "grid_template_rows": null,
       "height": null,
       "justify_content": null,
       "justify_items": null,
       "left": null,
       "margin": null,
       "max_height": null,
       "max_width": null,
       "min_height": null,
       "min_width": null,
       "object_fit": null,
       "object_position": null,
       "order": null,
       "overflow": null,
       "overflow_x": null,
       "overflow_y": null,
       "padding": null,
       "right": null,
       "top": null,
       "visibility": null,
       "width": null
      }
     },
     "abf8eb9dc574444daefccd97d05805ce": {
      "model_module": "@jupyter-widgets/controls",
      "model_module_version": "1.5.0",
      "model_name": "FloatProgressModel",
      "state": {
       "_dom_classes": [],
       "_model_module": "@jupyter-widgets/controls",
       "_model_module_version": "1.5.0",
       "_model_name": "FloatProgressModel",
       "_view_count": null,
       "_view_module": "@jupyter-widgets/controls",
       "_view_module_version": "1.5.0",
       "_view_name": "ProgressView",
       "bar_style": "success",
       "description": "",
       "description_tooltip": null,
       "layout": "IPY_MODEL_e3c86a2e4d844e78ba40d923488c1305",
       "max": 69548.0,
       "min": 0.0,
       "orientation": "horizontal",
       "style": "IPY_MODEL_6f080e58cbd5496eb8e5ab177e8e3e93",
       "value": 69548.0
      }
     },
     "b8352c736f9e4e41aa1ca168e9e381b2": {
      "model_module": "@jupyter-widgets/controls",
      "model_module_version": "1.5.0",
      "model_name": "ProgressStyleModel",
      "state": {
       "_model_module": "@jupyter-widgets/controls",
       "_model_module_version": "1.5.0",
       "_model_name": "ProgressStyleModel",
       "_view_count": null,
       "_view_module": "@jupyter-widgets/base",
       "_view_module_version": "1.2.0",
       "_view_name": "StyleView",
       "bar_color": null,
       "description_width": ""
      }
     },
     "d38549728a5c4061b77c91e0debb0b53": {
      "model_module": "@jupyter-widgets/controls",
      "model_module_version": "1.5.0",
      "model_name": "HTMLModel",
      "state": {
       "_dom_classes": [],
       "_model_module": "@jupyter-widgets/controls",
       "_model_module_version": "1.5.0",
       "_model_name": "HTMLModel",
       "_view_count": null,
       "_view_module": "@jupyter-widgets/controls",
       "_view_module_version": "1.5.0",
       "_view_name": "HTMLView",
       "description": "",
       "description_tooltip": null,
       "layout": "IPY_MODEL_d3fa387a6d844fed8fdde9258b5e3cf3",
       "placeholder": "​",
       "style": "IPY_MODEL_6acc85e49b494712a30da6dab3c966b8",
       "value": " 69.5k/69.5k [00:00&lt;00:00, 4.72MB/s]"
      }
     },
     "d3fa387a6d844fed8fdde9258b5e3cf3": {
      "model_module": "@jupyter-widgets/base",
      "model_module_version": "1.2.0",
      "model_name": "LayoutModel",
      "state": {
       "_model_module": "@jupyter-widgets/base",
       "_model_module_version": "1.2.0",
       "_model_name": "LayoutModel",
       "_view_count": null,
       "_view_module": "@jupyter-widgets/base",
       "_view_module_version": "1.2.0",
       "_view_name": "LayoutView",
       "align_content": null,
       "align_items": null,
       "align_self": null,
       "border": null,
       "bottom": null,
       "display": null,
       "flex": null,
       "flex_flow": null,
       "grid_area": null,
       "grid_auto_columns": null,
       "grid_auto_flow": null,
       "grid_auto_rows": null,
       "grid_column": null,
       "grid_gap": null,
       "grid_row": null,
       "grid_template_areas": null,
       "grid_template_columns": null,
       "grid_template_rows": null,
       "height": null,
       "justify_content": null,
       "justify_items": null,
       "left": null,
       "margin": null,
       "max_height": null,
       "max_width": null,
       "min_height": null,
       "min_width": null,
       "object_fit": null,
       "object_position": null,
       "order": null,
       "overflow": null,
       "overflow_x": null,
       "overflow_y": null,
       "padding": null,
       "right": null,
       "top": null,
       "visibility": null,
       "width": null
      }
     },
     "e3c86a2e4d844e78ba40d923488c1305": {
      "model_module": "@jupyter-widgets/base",
      "model_module_version": "1.2.0",
      "model_name": "LayoutModel",
      "state": {
       "_model_module": "@jupyter-widgets/base",
       "_model_module_version": "1.2.0",
       "_model_name": "LayoutModel",
       "_view_count": null,
       "_view_module": "@jupyter-widgets/base",
       "_view_module_version": "1.2.0",
       "_view_name": "LayoutView",
       "align_content": null,
       "align_items": null,
       "align_self": null,
       "border": null,
       "bottom": null,
       "display": null,
       "flex": null,
       "flex_flow": null,
       "grid_area": null,
       "grid_auto_columns": null,
       "grid_auto_flow": null,
       "grid_auto_rows": null,
       "grid_column": null,
       "grid_gap": null,
       "grid_row": null,
       "grid_template_areas": null,
       "grid_template_columns": null,
       "grid_template_rows": null,
       "height": null,
       "justify_content": null,
       "justify_items": null,
       "left": null,
       "margin": null,
       "max_height": null,
       "max_width": null,
       "min_height": null,
       "min_width": null,
       "object_fit": null,
       "object_position": null,
       "order": null,
       "overflow": null,
       "overflow_x": null,
       "overflow_y": null,
       "padding": null,
       "right": null,
       "top": null,
       "visibility": null,
       "width": null
      }
     },
     "ea033234b772443c84804b29ec83ea15": {
      "model_module": "@jupyter-widgets/controls",
      "model_module_version": "1.5.0",
      "model_name": "DescriptionStyleModel",
      "state": {
       "_model_module": "@jupyter-widgets/controls",
       "_model_module_version": "1.5.0",
       "_model_name": "DescriptionStyleModel",
       "_view_count": null,
       "_view_module": "@jupyter-widgets/base",
       "_view_module_version": "1.2.0",
       "_view_name": "StyleView",
       "description_width": ""
      }
     },
     "ef0a401b96d94e75b8fae2d125aba555": {
      "model_module": "@jupyter-widgets/controls",
      "model_module_version": "1.5.0",
      "model_name": "HTMLModel",
      "state": {
       "_dom_classes": [],
       "_model_module": "@jupyter-widgets/controls",
       "_model_module_version": "1.5.0",
       "_model_name": "HTMLModel",
       "_view_count": null,
       "_view_module": "@jupyter-widgets/controls",
       "_view_module_version": "1.5.0",
       "_view_name": "HTMLView",
       "description": "",
       "description_tooltip": null,
       "layout": "IPY_MODEL_4427be6c4128424f9fb3ecd871f7fe7e",
       "placeholder": "​",
       "style": "IPY_MODEL_ea033234b772443c84804b29ec83ea15",
       "value": "model.safetensors: 100%"
      }
     },
     "f0053dca74724d6a8881ff101646fdc6": {
      "model_module": "@jupyter-widgets/controls",
      "model_module_version": "1.5.0",
      "model_name": "DescriptionStyleModel",
      "state": {
       "_model_module": "@jupyter-widgets/controls",
       "_model_module_version": "1.5.0",
       "_model_name": "DescriptionStyleModel",
       "_view_count": null,
       "_view_module": "@jupyter-widgets/base",
       "_view_module_version": "1.2.0",
       "_view_name": "StyleView",
       "description_width": ""
      }
     }
    },
    "version_major": 2,
    "version_minor": 0
   }
  }
 },
 "nbformat": 4,
 "nbformat_minor": 5
}
