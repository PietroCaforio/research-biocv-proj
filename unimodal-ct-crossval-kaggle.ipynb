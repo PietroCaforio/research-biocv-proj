{
 "cells": [
  {
   "cell_type": "markdown",
   "id": "5d152684",
   "metadata": {
    "papermill": {
     "duration": 0.013372,
     "end_time": "2024-10-04T17:31:17.847586",
     "exception": false,
     "start_time": "2024-10-04T17:31:17.834214",
     "status": "completed"
    },
    "tags": []
   },
   "source": [
    "<a href=\"https://www.kaggle.com/code/pietrocaforio/unimodal-ct-training-kaggle?scriptVersionId=199214851\" target=\"_blank\"><img align=\"left\" alt=\"Kaggle\" title=\"Open in Kaggle\" src=\"https://kaggle.com/static/images/open-in-kaggle.svg\"></a>"
   ]
  },
  {
   "cell_type": "markdown",
   "id": "58463367",
   "metadata": {
    "papermill": {
     "duration": 0.012181,
     "end_time": "2024-10-04T17:31:17.873244",
     "exception": false,
     "start_time": "2024-10-04T17:31:17.861063",
     "status": "completed"
    },
    "tags": []
   },
   "source": [
    "# Train unimodal CT"
   ]
  },
  {
   "cell_type": "code",
   "execution_count": 1,
   "id": "2c240365",
   "metadata": {
    "execution": {
     "iopub.execute_input": "2024-10-04T17:31:17.899467Z",
     "iopub.status.busy": "2024-10-04T17:31:17.899110Z",
     "iopub.status.idle": "2024-10-04T17:31:20.879534Z",
     "shell.execute_reply": "2024-10-04T17:31:20.878615Z"
    },
    "papermill": {
     "duration": 2.996078,
     "end_time": "2024-10-04T17:31:20.881724",
     "exception": false,
     "start_time": "2024-10-04T17:31:17.885646",
     "status": "completed"
    },
    "tags": []
   },
   "outputs": [
    {
     "name": "stdout",
     "output_type": "stream",
     "text": [
      "Cloning into 'research-biocv-proj'...\r\n",
      "remote: Enumerating objects: 348, done.\u001b[K\r\n",
      "remote: Counting objects: 100% (140/140), done.\u001b[K\r\n",
      "remote: Compressing objects: 100% (112/112), done.\u001b[K\r\n",
      "remote: Total 348 (delta 82), reused 71 (delta 26), pack-reused 208 (from 1)\u001b[K\r\n",
      "Receiving objects: 100% (348/348), 5.19 MiB | 29.54 MiB/s, done.\r\n",
      "Resolving deltas: 100% (204/204), done.\r\n",
      "Branch 'dev' set up to track remote branch 'dev' from 'origin'.\r\n",
      "Switched to a new branch 'dev'\r\n"
     ]
    }
   ],
   "source": [
    "!git clone https://github.com/PietroCaforio/research-biocv-proj\n",
    "!cd research-biocv-proj && git switch dev"
   ]
  },
  {
   "cell_type": "code",
   "execution_count": 2,
   "id": "5d6b0a9f",
   "metadata": {
    "execution": {
     "iopub.execute_input": "2024-10-04T17:31:20.910774Z",
     "iopub.status.busy": "2024-10-04T17:31:20.910391Z",
     "iopub.status.idle": "2024-10-04T17:31:22.207567Z",
     "shell.execute_reply": "2024-10-04T17:31:22.206615Z"
    },
    "papermill": {
     "duration": 1.314274,
     "end_time": "2024-10-04T17:31:22.209937",
     "exception": false,
     "start_time": "2024-10-04T17:31:20.895663",
     "status": "completed"
    },
    "tags": []
   },
   "outputs": [
    {
     "name": "stdout",
     "output_type": "stream",
     "text": [
      "Already up to date.\r\n"
     ]
    }
   ],
   "source": [
    "!cd research-biocv-proj && git pull"
   ]
  },
  {
   "cell_type": "code",
   "execution_count": 3,
   "id": "4484ab9d",
   "metadata": {
    "execution": {
     "iopub.execute_input": "2024-10-04T17:31:22.239007Z",
     "iopub.status.busy": "2024-10-04T17:31:22.238659Z",
     "iopub.status.idle": "2024-10-04T17:31:34.556439Z",
     "shell.execute_reply": "2024-10-04T17:31:34.555462Z"
    },
    "papermill": {
     "duration": 12.334735,
     "end_time": "2024-10-04T17:31:34.558740",
     "exception": false,
     "start_time": "2024-10-04T17:31:22.224005",
     "status": "completed"
    },
    "tags": []
   },
   "outputs": [
    {
     "name": "stdout",
     "output_type": "stream",
     "text": [
      "Requirement already satisfied: wandb in /opt/conda/lib/python3.10/site-packages (0.18.3)\r\n",
      "Requirement already satisfied: click!=8.0.0,>=7.1 in /opt/conda/lib/python3.10/site-packages (from wandb) (8.1.7)\r\n",
      "Requirement already satisfied: docker-pycreds>=0.4.0 in /opt/conda/lib/python3.10/site-packages (from wandb) (0.4.0)\r\n",
      "Requirement already satisfied: gitpython!=3.1.29,>=1.0.0 in /opt/conda/lib/python3.10/site-packages (from wandb) (3.1.43)\r\n",
      "Requirement already satisfied: platformdirs in /opt/conda/lib/python3.10/site-packages (from wandb) (3.11.0)\r\n",
      "Requirement already satisfied: protobuf!=4.21.0,!=5.28.0,<6,>=3.19.0 in /opt/conda/lib/python3.10/site-packages (from wandb) (3.20.3)\r\n",
      "Requirement already satisfied: psutil>=5.0.0 in /opt/conda/lib/python3.10/site-packages (from wandb) (5.9.3)\r\n",
      "Requirement already satisfied: pyyaml in /opt/conda/lib/python3.10/site-packages (from wandb) (6.0.2)\r\n",
      "Requirement already satisfied: requests<3,>=2.0.0 in /opt/conda/lib/python3.10/site-packages (from wandb) (2.32.3)\r\n",
      "Requirement already satisfied: sentry-sdk>=1.0.0 in /opt/conda/lib/python3.10/site-packages (from wandb) (2.15.0)\r\n",
      "Requirement already satisfied: setproctitle in /opt/conda/lib/python3.10/site-packages (from wandb) (1.3.3)\r\n",
      "Requirement already satisfied: setuptools in /opt/conda/lib/python3.10/site-packages (from wandb) (70.0.0)\r\n",
      "Requirement already satisfied: six>=1.4.0 in /opt/conda/lib/python3.10/site-packages (from docker-pycreds>=0.4.0->wandb) (1.16.0)\r\n",
      "Requirement already satisfied: gitdb<5,>=4.0.1 in /opt/conda/lib/python3.10/site-packages (from gitpython!=3.1.29,>=1.0.0->wandb) (4.0.11)\r\n",
      "Requirement already satisfied: charset-normalizer<4,>=2 in /opt/conda/lib/python3.10/site-packages (from requests<3,>=2.0.0->wandb) (3.3.2)\r\n",
      "Requirement already satisfied: idna<4,>=2.5 in /opt/conda/lib/python3.10/site-packages (from requests<3,>=2.0.0->wandb) (3.7)\r\n",
      "Requirement already satisfied: urllib3<3,>=1.21.1 in /opt/conda/lib/python3.10/site-packages (from requests<3,>=2.0.0->wandb) (1.26.18)\r\n",
      "Requirement already satisfied: certifi>=2017.4.17 in /opt/conda/lib/python3.10/site-packages (from requests<3,>=2.0.0->wandb) (2024.8.30)\r\n",
      "Requirement already satisfied: smmap<6,>=3.0.1 in /opt/conda/lib/python3.10/site-packages (from gitdb<5,>=4.0.1->gitpython!=3.1.29,>=1.0.0->wandb) (5.0.1)\r\n"
     ]
    }
   ],
   "source": [
    "!pip install wandb"
   ]
  },
  {
   "cell_type": "code",
   "execution_count": 4,
   "id": "d7c4005b",
   "metadata": {
    "execution": {
     "iopub.execute_input": "2024-10-04T17:31:34.588867Z",
     "iopub.status.busy": "2024-10-04T17:31:34.588525Z",
     "iopub.status.idle": "2024-10-04T17:31:34.755785Z",
     "shell.execute_reply": "2024-10-04T17:31:34.755011Z"
    },
    "papermill": {
     "duration": 0.184686,
     "end_time": "2024-10-04T17:31:34.758024",
     "exception": false,
     "start_time": "2024-10-04T17:31:34.573338",
     "status": "completed"
    },
    "tags": []
   },
   "outputs": [],
   "source": [
    "from kaggle_secrets import UserSecretsClient\n",
    "user_secrets = UserSecretsClient()\n",
    "secret_value_0 = user_secrets.get_secret(\"wandb_api_key\")"
   ]
  },
  {
   "cell_type": "code",
   "execution_count": 5,
   "id": "113e2c96",
   "metadata": {
    "execution": {
     "iopub.execute_input": "2024-10-04T17:31:34.787554Z",
     "iopub.status.busy": "2024-10-04T17:31:34.787264Z",
     "iopub.status.idle": "2024-10-04T17:31:36.586536Z",
     "shell.execute_reply": "2024-10-04T17:31:36.585600Z"
    },
    "papermill": {
     "duration": 1.816187,
     "end_time": "2024-10-04T17:31:36.588462",
     "exception": false,
     "start_time": "2024-10-04T17:31:34.772275",
     "status": "completed"
    },
    "tags": []
   },
   "outputs": [
    {
     "name": "stderr",
     "output_type": "stream",
     "text": [
      "\u001b[34m\u001b[1mwandb\u001b[0m: Using wandb-core as the SDK backend. Please refer to https://wandb.me/wandb-core for more information.\n",
      "\u001b[34m\u001b[1mwandb\u001b[0m: W&B API key is configured. Use \u001b[1m`wandb login --relogin`\u001b[0m to force relogin\n",
      "\u001b[34m\u001b[1mwandb\u001b[0m: \u001b[33mWARNING\u001b[0m If you're specifying your api key in code, ensure this code is not shared publicly.\n",
      "\u001b[34m\u001b[1mwandb\u001b[0m: \u001b[33mWARNING\u001b[0m Consider setting the WANDB_API_KEY environment variable, or running `wandb login` from the command line.\n",
      "\u001b[34m\u001b[1mwandb\u001b[0m: Appending key for api.wandb.ai to your netrc file: /root/.netrc\n"
     ]
    },
    {
     "data": {
      "text/plain": [
       "True"
      ]
     },
     "execution_count": 5,
     "metadata": {},
     "output_type": "execute_result"
    }
   ],
   "source": [
    "import wandb\n",
    "wandb.login(key=secret_value_0)"
   ]
  },
  {
   "cell_type": "code",
   "execution_count": 6,
   "id": "f6352f3c",
   "metadata": {
    "execution": {
     "iopub.execute_input": "2024-10-04T17:31:36.618692Z",
     "iopub.status.busy": "2024-10-04T17:31:36.618373Z",
     "iopub.status.idle": "2024-10-04T17:31:40.936473Z",
     "shell.execute_reply": "2024-10-04T17:31:40.935578Z"
    },
    "papermill": {
     "duration": 4.335943,
     "end_time": "2024-10-04T17:31:40.938922",
     "exception": false,
     "start_time": "2024-10-04T17:31:36.602979",
     "status": "completed"
    },
    "tags": []
   },
   "outputs": [],
   "source": [
    "import sys\n",
    "from pathlib import Path\n",
    "\n",
    "# Add the 'data' directory to sys.path\n",
    "sys.path.append(str(Path('research-biocv-proj').resolve()))\n",
    "from data.unimodal import *\n",
    "from pathlib import Path\n",
    "\n",
    "import numpy as np\n",
    "import torch\n",
    "from torch.utils.data import DataLoader\n",
    "\n",
    "from sklearn.utils.class_weight import compute_class_weight"
   ]
  },
  {
   "cell_type": "markdown",
   "id": "4ed83e78",
   "metadata": {
    "papermill": {
     "duration": 0.014297,
     "end_time": "2024-10-04T17:31:40.968256",
     "exception": false,
     "start_time": "2024-10-04T17:31:40.953959",
     "status": "completed"
    },
    "tags": []
   },
   "source": [
    "### Train ResNet model"
   ]
  },
  {
   "cell_type": "code",
   "execution_count": 7,
   "id": "437ba628",
   "metadata": {
    "execution": {
     "iopub.execute_input": "2024-10-04T17:31:40.999173Z",
     "iopub.status.busy": "2024-10-04T17:31:40.998248Z",
     "iopub.status.idle": "2024-10-04T17:31:52.621971Z",
     "shell.execute_reply": "2024-10-04T17:31:52.620770Z"
    },
    "papermill": {
     "duration": 11.642103,
     "end_time": "2024-10-04T17:31:52.624632",
     "exception": false,
     "start_time": "2024-10-04T17:31:40.982529",
     "status": "completed"
    },
    "tags": []
   },
   "outputs": [
    {
     "name": "stdout",
     "output_type": "stream",
     "text": [
      "Collecting focal_loss_torch\r\n",
      "  Downloading focal_loss_torch-0.1.2-py3-none-any.whl.metadata (2.2 kB)\r\n",
      "Requirement already satisfied: torch in /opt/conda/lib/python3.10/site-packages (from focal_loss_torch) (2.4.0)\r\n",
      "Requirement already satisfied: numpy in /opt/conda/lib/python3.10/site-packages (from focal_loss_torch) (1.26.4)\r\n",
      "Requirement already satisfied: filelock in /opt/conda/lib/python3.10/site-packages (from torch->focal_loss_torch) (3.15.1)\r\n",
      "Requirement already satisfied: typing-extensions>=4.8.0 in /opt/conda/lib/python3.10/site-packages (from torch->focal_loss_torch) (4.12.2)\r\n",
      "Requirement already satisfied: sympy in /opt/conda/lib/python3.10/site-packages (from torch->focal_loss_torch) (1.13.3)\r\n",
      "Requirement already satisfied: networkx in /opt/conda/lib/python3.10/site-packages (from torch->focal_loss_torch) (3.3)\r\n",
      "Requirement already satisfied: jinja2 in /opt/conda/lib/python3.10/site-packages (from torch->focal_loss_torch) (3.1.4)\r\n",
      "Requirement already satisfied: fsspec in /opt/conda/lib/python3.10/site-packages (from torch->focal_loss_torch) (2024.6.1)\r\n",
      "Requirement already satisfied: MarkupSafe>=2.0 in /opt/conda/lib/python3.10/site-packages (from jinja2->torch->focal_loss_torch) (2.1.5)\r\n",
      "Requirement already satisfied: mpmath<1.4,>=1.1.0 in /opt/conda/lib/python3.10/site-packages (from sympy->torch->focal_loss_torch) (1.3.0)\r\n",
      "Downloading focal_loss_torch-0.1.2-py3-none-any.whl (4.5 kB)\r\n",
      "Installing collected packages: focal_loss_torch\r\n",
      "Successfully installed focal_loss_torch-0.1.2\r\n"
     ]
    }
   ],
   "source": [
    "#https://github.com/mathiaszinnen/focal_loss_torch/tree/main\n",
    "!pip install focal_loss_torch"
   ]
  },
  {
   "cell_type": "code",
   "execution_count": 8,
   "id": "1410c573",
   "metadata": {
    "execution": {
     "iopub.execute_input": "2024-10-04T17:31:52.657768Z",
     "iopub.status.busy": "2024-10-04T17:31:52.656814Z",
     "iopub.status.idle": "2024-10-04T17:31:52.669451Z",
     "shell.execute_reply": "2024-10-04T17:31:52.668438Z"
    },
    "papermill": {
     "duration": 0.031561,
     "end_time": "2024-10-04T17:31:52.671524",
     "exception": false,
     "start_time": "2024-10-04T17:31:52.639963",
     "status": "completed"
    },
    "tags": []
   },
   "outputs": [],
   "source": [
    "class EarlyStopping:\n",
    "    \"\"\"Early stops the training if validation loss doesn't improve after a given patience.\"\"\"\n",
    "    def __init__(self, patience=7, verbose=False, delta=0, path='checkpoint.pt', trace_func=print):\n",
    "        \"\"\"\n",
    "        Args:\n",
    "            patience (int): How long to wait after last time validation loss improved.\n",
    "                            Default: 7\n",
    "            verbose (bool): If True, prints a message for each validation loss improvement. \n",
    "                            Default: False\n",
    "            delta (float): Minimum change in the monitored quantity to qualify as an improvement.\n",
    "                            Default: 0\n",
    "            path (str): Path for the checkpoint to be saved to.\n",
    "                            Default: 'checkpoint.pt'\n",
    "            trace_func (function): trace print function.\n",
    "                            Default: print            \n",
    "        \"\"\"\n",
    "        self.patience = patience\n",
    "        self.verbose = verbose\n",
    "        self.counter = 0\n",
    "        self.best_score = None\n",
    "        self.early_stop = False\n",
    "        self.val_loss_min = np.Inf\n",
    "        self.delta = delta\n",
    "        self.path = path\n",
    "        self.trace_func = trace_func\n",
    "    def __call__(self, val_loss, model):\n",
    "\n",
    "        score = -val_loss\n",
    "\n",
    "        if self.best_score is None:\n",
    "            self.best_score = score\n",
    "            self.save_checkpoint(val_loss, model)\n",
    "        elif score < self.best_score + self.delta:\n",
    "            self.counter += 1\n",
    "            self.trace_func(f'EarlyStopping counter: {self.counter} out of {self.patience}')\n",
    "            if self.counter >= self.patience:\n",
    "                self.early_stop = True\n",
    "        else:\n",
    "            self.best_score = score\n",
    "            self.save_checkpoint(val_loss, model)\n",
    "            self.counter = 0\n",
    "\n",
    "    def save_checkpoint(self, val_loss, model):\n",
    "        '''Saves model when validation loss decrease.'''\n",
    "        if self.verbose:\n",
    "            self.trace_func(f'Validation loss decreased ({self.val_loss_min:.6f} --> {val_loss:.6f}).  Saving model ...')\n",
    "        torch.save(model.state_dict(), self.path)\n",
    "        self.val_loss_min = val_loss"
   ]
  },
  {
   "cell_type": "code",
   "execution_count": 9,
   "id": "8749c42f",
   "metadata": {
    "execution": {
     "iopub.execute_input": "2024-10-04T17:31:52.704390Z",
     "iopub.status.busy": "2024-10-04T17:31:52.703972Z",
     "iopub.status.idle": "2024-10-04T17:31:52.733352Z",
     "shell.execute_reply": "2024-10-04T17:31:52.732441Z"
    },
    "papermill": {
     "duration": 0.048086,
     "end_time": "2024-10-04T17:31:52.735367",
     "exception": false,
     "start_time": "2024-10-04T17:31:52.687281",
     "status": "completed"
    },
    "tags": []
   },
   "outputs": [],
   "source": [
    "from focal_loss.focal_loss import FocalLoss\n",
    "\n",
    "def train(model,config, run_name=None):\n",
    "    wandb.init(\n",
    "        # set the wandb project where this run will be logged\n",
    "        project=\"unimodal_ct_training\",\n",
    "        name = run_name,\n",
    "        # track hyperparameters and run metadata\n",
    "        config=config\n",
    "    )\n",
    "    if config[\"class_weights\"] is not None: \n",
    "        config[\"class_weights\"] = torch.tensor(config[\"class_weights\"], dtype=torch.float).to(device) \n",
    "    optimizer = optim.Adam(model.parameters(), lr=config[\"learning_rate\"], weight_decay=config[\"weight_decay\"])\n",
    "    if config[\"focal_loss\"] is not None:\n",
    "        \n",
    "        criterion = FocalLoss(gamma = config[\"focal_loss\"])\n",
    "    else:\n",
    "        criterion = nn.CrossEntropyLoss(weight = config[\"class_weights\"])\n",
    "    scheduler = optim.lr_scheduler.ReduceLROnPlateau(optimizer, 'min',factor = config[\"reduce_lr_factor\"], patience = config[\"patience\"])\n",
    "    \n",
    "    # initialize the early_stopping object\n",
    "    early_stopping = EarlyStopping(patience=config[\"early_stop_patience\"], verbose=True)\n",
    "    \n",
    "    # Training loop\n",
    "    num_epochs = config[\"epochs\"]\n",
    "    for epoch in range(num_epochs):\n",
    "        model.train()\n",
    "        running_loss = 0.0\n",
    "        train_correct = 0\n",
    "        total = 0\n",
    "        correct_per_class = [0, 0, 0]  # For G1, G2, G3\n",
    "        total_per_class = [0, 0, 0]  # For G1, G2, G3\n",
    "        for batch in train_loader:\n",
    "            frames = batch['frame'].float().to(device)\n",
    "            labels = batch['label'].long().to(device)\n",
    "            \n",
    "            optimizer.zero_grad()\n",
    "            outputs = model(frames)\n",
    "            if config[\"focal_loss\"]:\n",
    "                softmax = torch.nn.Softmax(dim=-1)\n",
    "                loss = criterion(softmax(outputs.logits), labels)\n",
    "            else:\n",
    "                loss = criterion(outputs.logits, labels)\n",
    "\n",
    "            \n",
    "            _, predicted = torch.max(outputs.logits, 1)\n",
    "            train_correct += (predicted == labels).sum().item()\n",
    "            loss.backward()\n",
    "            optimizer.step()\n",
    "            total += labels.size(0)\n",
    "            running_loss += loss.item()\n",
    "            \n",
    "            # Calculate accuracy per class\n",
    "            for i in range(3):  # We have 3 classes: G1 (0), G2 (1), G3 (2)\n",
    "                correct_per_class[i] += ((predicted == i) & (labels == i)).sum().item()\n",
    "                total_per_class[i] += (labels == i).sum().item()\n",
    "\n",
    "        train_accuracy = 100 * train_correct / total\n",
    "        class_accuracy = [(100 * correct_per_class[i] / total_per_class[i]) if total_per_class[i] > 0 else 0 for i in range(3)]\n",
    "        print(f\"Epoch {epoch+1}, Loss: {running_loss/len(train_loader)}\")\n",
    "        wandb.log({\"Train Accuracy\": train_accuracy, \"Train loss\": running_loss/len(train_loader), \"G1_TrainAcc\":class_accuracy[0], \"G2_TrainAcc\":class_accuracy[1], \"G3_TrainAcc\":class_accuracy[2]})\n",
    "\n",
    "        # Validation loop\n",
    "        model.eval()\n",
    "        val_loss = 0.0\n",
    "        correct = 0\n",
    "        total = 0\n",
    "        # Initialize counters for each class (G1, G2, G3)\n",
    "        correct_per_class = [0, 0, 0]  # For G1, G2, G3\n",
    "        total_per_class = [0, 0, 0]  # For G1, G2, G3\n",
    "\n",
    "        with torch.no_grad():\n",
    "            for batch in val_loader:\n",
    "                frames = batch['frame'].float().to(device)\n",
    "                labels = batch['label'].long().to(device)\n",
    "\n",
    "                outputs = model(frames)\n",
    "                \n",
    "                if config[\"focal_loss\"]:\n",
    "                    softmax = torch.nn.Softmax(dim=-1)\n",
    "                    loss = criterion(softmax(outputs.logits), labels)\n",
    "                else:\n",
    "                    loss = criterion(outputs.logits, labels)\n",
    "\n",
    "                val_loss += loss.item()\n",
    "                _, predicted = torch.max(outputs.logits, 1)\n",
    "                total += labels.size(0)\n",
    "                correct += (predicted == labels).sum().item()\n",
    "\n",
    "                # Calculate accuracy per class\n",
    "                for i in range(3):  # We have 3 classes: G1 (0), G2 (1), G3 (2)\n",
    "                    correct_per_class[i] += ((predicted == i) & (labels == i)).sum().item()\n",
    "                    total_per_class[i] += (labels == i).sum().item()\n",
    "        scheduler.step(val_loss)\n",
    "        # Compute total accuracy and per-class accuracy\n",
    "        total_accuracy = 100 * correct / total\n",
    "        class_accuracy = [(100 * correct_per_class[i] / total_per_class[i]) if total_per_class[i] > 0 else 0 for i in range(3)]\n",
    "        print(f\"Validation Loss: {val_loss/len(val_loader)}, Total Accuracy: {total_accuracy:.2f}%\")\n",
    "        print(f\"Accuracy per class - G1: {class_accuracy[0]:.2f}%, G2: {class_accuracy[1]:.2f}%, G3: {class_accuracy[2]:.2f}%\")\n",
    "        # log metrics to wandb\n",
    "        wandb.log({\"Total Accuracy\": total_accuracy, \"Validation Loss\": val_loss/len(val_loader), \"G1_Acc\":class_accuracy[0], \"G2_Acc\":class_accuracy[1], \"G3_Acc\":class_accuracy[2]})\n",
    "        early_stopping(val_loss, model)\n",
    "        \n",
    "        if early_stopping.early_stop:\n",
    "            print(\"Early stopping\")\n",
    "            break\n",
    "    wandb.finish()  "
   ]
  },
  {
   "cell_type": "code",
   "execution_count": 10,
   "id": "72518c40",
   "metadata": {
    "execution": {
     "iopub.execute_input": "2024-10-04T17:31:52.766706Z",
     "iopub.status.busy": "2024-10-04T17:31:52.766201Z",
     "iopub.status.idle": "2024-10-04T17:31:55.000288Z",
     "shell.execute_reply": "2024-10-04T17:31:54.999482Z"
    },
    "papermill": {
     "duration": 2.252262,
     "end_time": "2024-10-04T17:31:55.002688",
     "exception": false,
     "start_time": "2024-10-04T17:31:52.750426",
     "status": "completed"
    },
    "tags": []
   },
   "outputs": [],
   "source": [
    "import torch.nn as nn\n",
    "import torch.optim as optim\n",
    "from transformers import ResNetForImageClassification\n",
    "from sklearn.model_selection import GroupKFold #For crossvalidation"
   ]
  },
  {
   "cell_type": "code",
   "execution_count": 11,
   "id": "d46c8951",
   "metadata": {
    "execution": {
     "iopub.execute_input": "2024-10-04T17:31:55.034055Z",
     "iopub.status.busy": "2024-10-04T17:31:55.033598Z",
     "iopub.status.idle": "2024-10-04T17:32:06.229561Z",
     "shell.execute_reply": "2024-10-04T17:32:06.228544Z"
    },
    "papermill": {
     "duration": 11.214032,
     "end_time": "2024-10-04T17:32:06.231946",
     "exception": false,
     "start_time": "2024-10-04T17:31:55.017914",
     "status": "completed"
    },
    "tags": []
   },
   "outputs": [],
   "source": [
    "train_dataset = UnimodalCTDataset(split='all',dataset_path = \"/kaggle/input/preprocessed57patientscptacpda/processed/\" )\n"
   ]
  },
  {
   "cell_type": "code",
   "execution_count": 12,
   "id": "f593610d",
   "metadata": {
    "execution": {
     "iopub.execute_input": "2024-10-04T17:32:06.263180Z",
     "iopub.status.busy": "2024-10-04T17:32:06.262853Z",
     "iopub.status.idle": "2024-10-04T17:32:06.266790Z",
     "shell.execute_reply": "2024-10-04T17:32:06.265884Z"
    },
    "papermill": {
     "duration": 0.021589,
     "end_time": "2024-10-04T17:32:06.268775",
     "exception": false,
     "start_time": "2024-10-04T17:32:06.247186",
     "status": "completed"
    },
    "tags": []
   },
   "outputs": [],
   "source": [
    "#print(f\"Training set stats:{train_dataset.stats()}\")\n",
    "#print(f\"Validation set stats:{val_dataset.stats()}\")"
   ]
  },
  {
   "cell_type": "code",
   "execution_count": 13,
   "id": "1c848974",
   "metadata": {
    "execution": {
     "iopub.execute_input": "2024-10-04T17:32:06.299642Z",
     "iopub.status.busy": "2024-10-04T17:32:06.299365Z",
     "iopub.status.idle": "2024-10-04T17:32:06.305103Z",
     "shell.execute_reply": "2024-10-04T17:32:06.304239Z"
    },
    "papermill": {
     "duration": 0.023746,
     "end_time": "2024-10-04T17:32:06.307145",
     "exception": false,
     "start_time": "2024-10-04T17:32:06.283399",
     "status": "completed"
    },
    "tags": []
   },
   "outputs": [
    {
     "data": {
      "text/plain": [
       "'\\nlabels = []\\nfor sample in train_dataset:\\n    labels.append(sample[\"label\"])\\nlabels = np.array(labels)\\nclass_weights = compute_class_weight(\"balanced\", classes=np.unique(labels), y=labels)\\n'"
      ]
     },
     "execution_count": 13,
     "metadata": {},
     "output_type": "execute_result"
    }
   ],
   "source": [
    "\"\"\"\n",
    "labels = []\n",
    "for sample in train_dataset:\n",
    "    labels.append(sample[\"label\"])\n",
    "labels = np.array(labels)\n",
    "class_weights = compute_class_weight(\"balanced\", classes=np.unique(labels), y=labels)\n",
    "\"\"\""
   ]
  },
  {
   "cell_type": "code",
   "execution_count": 14,
   "id": "5dfcf26b",
   "metadata": {
    "execution": {
     "iopub.execute_input": "2024-10-04T17:32:06.338789Z",
     "iopub.status.busy": "2024-10-04T17:32:06.338227Z",
     "iopub.status.idle": "2024-10-04T17:32:06.342302Z",
     "shell.execute_reply": "2024-10-04T17:32:06.341404Z"
    },
    "papermill": {
     "duration": 0.021927,
     "end_time": "2024-10-04T17:32:06.344261",
     "exception": false,
     "start_time": "2024-10-04T17:32:06.322334",
     "status": "completed"
    },
    "tags": []
   },
   "outputs": [],
   "source": [
    "#print(class_weights)"
   ]
  },
  {
   "cell_type": "code",
   "execution_count": 15,
   "id": "3ca914e5",
   "metadata": {
    "execution": {
     "iopub.execute_input": "2024-10-04T17:32:06.375019Z",
     "iopub.status.busy": "2024-10-04T17:32:06.374672Z",
     "iopub.status.idle": "2024-10-04T17:32:06.378603Z",
     "shell.execute_reply": "2024-10-04T17:32:06.377795Z"
    },
    "papermill": {
     "duration": 0.021388,
     "end_time": "2024-10-04T17:32:06.380401",
     "exception": false,
     "start_time": "2024-10-04T17:32:06.359013",
     "status": "completed"
    },
    "tags": []
   },
   "outputs": [],
   "source": [
    "#train_dataset = UnimodalCTDataset(split='train',dataset_path = \"/kaggle/input/oversampling57patientscptacpda/processed_oversampling/\" )\n",
    "#val_dataset = UnimodalCTDataset(split='val',dataset_path = \"/kaggle/input/oversampling57patientscptacpda/processed_oversampling/\")\n",
    "\n",
    "#train_loader = DataLoader(train_dataset, batch_size=32, shuffle=True)\n",
    "#val_loader = DataLoader(val_dataset, batch_size=32, shuffle=False)"
   ]
  },
  {
   "cell_type": "code",
   "execution_count": 16,
   "id": "22926a1e",
   "metadata": {
    "execution": {
     "iopub.execute_input": "2024-10-04T17:32:06.411113Z",
     "iopub.status.busy": "2024-10-04T17:32:06.410817Z",
     "iopub.status.idle": "2024-10-04T17:32:06.414425Z",
     "shell.execute_reply": "2024-10-04T17:32:06.413639Z"
    },
    "papermill": {
     "duration": 0.021095,
     "end_time": "2024-10-04T17:32:06.416230",
     "exception": false,
     "start_time": "2024-10-04T17:32:06.395135",
     "status": "completed"
    },
    "tags": []
   },
   "outputs": [],
   "source": [
    "#print(f\"Training set stats:{train_dataset.stats()}\")\n",
    "#print(f\"Validation set stats:{val_dataset.stats()}\")"
   ]
  },
  {
   "cell_type": "code",
   "execution_count": 17,
   "id": "b65f0ac0",
   "metadata": {
    "execution": {
     "iopub.execute_input": "2024-10-04T17:32:06.446773Z",
     "iopub.status.busy": "2024-10-04T17:32:06.446446Z",
     "iopub.status.idle": "2024-10-04T17:32:06.450242Z",
     "shell.execute_reply": "2024-10-04T17:32:06.449506Z"
    },
    "papermill": {
     "duration": 0.021326,
     "end_time": "2024-10-04T17:32:06.452147",
     "exception": false,
     "start_time": "2024-10-04T17:32:06.430821",
     "status": "completed"
    },
    "tags": []
   },
   "outputs": [],
   "source": [
    "#total = train_dataset.stats()[\"length\"]\n",
    "#most_frequent = max(train_dataset.stats()[\"class_frequency\"].values())\n",
    "#freq_dict = train_dataset.stats()[\"class_frequency\"]\n",
    "#target_volume_depth= {}\n",
    "#for index in freq_dict.keys():\n",
    "#    target_volume_depth[index] = int((total/3 ) * most_frequent / freq_dict[index])\n",
    "#print(target_volume_depth)"
   ]
  },
  {
   "cell_type": "markdown",
   "id": "5220ef4f",
   "metadata": {
    "papermill": {
     "duration": 0.016631,
     "end_time": "2024-10-04T17:32:06.483932",
     "exception": false,
     "start_time": "2024-10-04T17:32:06.467301",
     "status": "completed"
    },
    "tags": []
   },
   "source": [
    "### Resnet-50"
   ]
  },
  {
   "cell_type": "code",
   "execution_count": 18,
   "id": "606d1efc",
   "metadata": {
    "execution": {
     "iopub.execute_input": "2024-10-04T17:32:06.517192Z",
     "iopub.status.busy": "2024-10-04T17:32:06.516529Z",
     "iopub.status.idle": "2024-10-04T17:32:06.520624Z",
     "shell.execute_reply": "2024-10-04T17:32:06.519790Z"
    },
    "papermill": {
     "duration": 0.025134,
     "end_time": "2024-10-04T17:32:06.524538",
     "exception": false,
     "start_time": "2024-10-04T17:32:06.499404",
     "status": "completed"
    },
    "tags": []
   },
   "outputs": [],
   "source": [
    "#model = ResNetForImageClassification.from_pretrained('microsoft/resnet-50')\n",
    "#model.classifier[-1] = nn.Linear(model.classifier[-1].in_features, UnimodalCTDataset.num_classes) #Adjusting the final layer to the unimodal number of classes"
   ]
  },
  {
   "cell_type": "code",
   "execution_count": 19,
   "id": "bc70bd25",
   "metadata": {
    "execution": {
     "iopub.execute_input": "2024-10-04T17:32:06.557044Z",
     "iopub.status.busy": "2024-10-04T17:32:06.556425Z",
     "iopub.status.idle": "2024-10-04T17:32:06.560435Z",
     "shell.execute_reply": "2024-10-04T17:32:06.559566Z"
    },
    "papermill": {
     "duration": 0.022659,
     "end_time": "2024-10-04T17:32:06.562431",
     "exception": false,
     "start_time": "2024-10-04T17:32:06.539772",
     "status": "completed"
    },
    "tags": []
   },
   "outputs": [],
   "source": [
    "#device = torch.device(\"cuda\" if torch.cuda.is_available() else \"cpu\")\n",
    "#model.to(device)"
   ]
  },
  {
   "cell_type": "code",
   "execution_count": 20,
   "id": "94d6fb55",
   "metadata": {
    "execution": {
     "iopub.execute_input": "2024-10-04T17:32:06.594083Z",
     "iopub.status.busy": "2024-10-04T17:32:06.593772Z",
     "iopub.status.idle": "2024-10-04T17:32:06.600235Z",
     "shell.execute_reply": "2024-10-04T17:32:06.599016Z"
    },
    "papermill": {
     "duration": 0.024704,
     "end_time": "2024-10-04T17:32:06.602287",
     "exception": false,
     "start_time": "2024-10-04T17:32:06.577583",
     "status": "completed"
    },
    "tags": []
   },
   "outputs": [
    {
     "data": {
      "text/plain": [
       "'\\nconfig={\\n    \"learning_rate\": 1e-4,\\n    \"architecture\": \"microsoft/resnet-50 new1\",\\n    \"epochs\": 100,\\n    \"weight_decay\": 1e-4,\\n    \"reduce_lr_factor\": 0.2,\\n    \"patience\": 10,\\n    \"class_weights\": class_weights\\n    }\\ntrain(model, config, run_name = config[\"architecture\"])\\n'"
      ]
     },
     "execution_count": 20,
     "metadata": {},
     "output_type": "execute_result"
    }
   ],
   "source": [
    "\"\"\"\n",
    "config={\n",
    "    \"learning_rate\": 1e-4,\n",
    "    \"architecture\": \"microsoft/resnet-50 new1\",\n",
    "    \"epochs\": 100,\n",
    "    \"weight_decay\": 1e-4,\n",
    "    \"reduce_lr_factor\": 0.2,\n",
    "    \"patience\": 10,\n",
    "    \"class_weights\": class_weights\n",
    "    }\n",
    "train(model, config, run_name = config[\"architecture\"])\n",
    "\"\"\""
   ]
  },
  {
   "cell_type": "markdown",
   "id": "d62287a4",
   "metadata": {
    "papermill": {
     "duration": 0.014685,
     "end_time": "2024-10-04T17:32:06.631999",
     "exception": false,
     "start_time": "2024-10-04T17:32:06.617314",
     "status": "completed"
    },
    "tags": []
   },
   "source": [
    "### Resnet-18"
   ]
  },
  {
   "cell_type": "code",
   "execution_count": 21,
   "id": "bb8638e7",
   "metadata": {
    "execution": {
     "iopub.execute_input": "2024-10-04T17:32:06.663018Z",
     "iopub.status.busy": "2024-10-04T17:32:06.662656Z",
     "iopub.status.idle": "2024-10-04T17:32:09.336166Z",
     "shell.execute_reply": "2024-10-04T17:32:09.335127Z"
    },
    "papermill": {
     "duration": 2.691611,
     "end_time": "2024-10-04T17:32:09.338513",
     "exception": false,
     "start_time": "2024-10-04T17:32:06.646902",
     "status": "completed"
    },
    "tags": []
   },
   "outputs": [
    {
     "data": {
      "application/vnd.jupyter.widget-view+json": {
       "model_id": "b993479d499e4ad5b72f93e0725ca27e",
       "version_major": 2,
       "version_minor": 0
      },
      "text/plain": [
       "config.json:   0%|          | 0.00/69.5k [00:00<?, ?B/s]"
      ]
     },
     "metadata": {},
     "output_type": "display_data"
    },
    {
     "data": {
      "application/vnd.jupyter.widget-view+json": {
       "model_id": "50c2ea8186be4276a11aaf0b37043cf6",
       "version_major": 2,
       "version_minor": 0
      },
      "text/plain": [
       "model.safetensors:   0%|          | 0.00/46.8M [00:00<?, ?B/s]"
      ]
     },
     "metadata": {},
     "output_type": "display_data"
    }
   ],
   "source": [
    "model = ResNetForImageClassification.from_pretrained('microsoft/resnet-18')\n",
    "model.classifier[-1] = nn.Linear(model.classifier[-1].in_features, UnimodalCTDataset.num_classes) #Adjusting the final layer to the unimodal number of classes"
   ]
  },
  {
   "cell_type": "code",
   "execution_count": 22,
   "id": "6cd16eb4",
   "metadata": {
    "execution": {
     "iopub.execute_input": "2024-10-04T17:32:09.371169Z",
     "iopub.status.busy": "2024-10-04T17:32:09.370826Z",
     "iopub.status.idle": "2024-10-04T17:32:09.596738Z",
     "shell.execute_reply": "2024-10-04T17:32:09.595695Z"
    },
    "papermill": {
     "duration": 0.244751,
     "end_time": "2024-10-04T17:32:09.599027",
     "exception": false,
     "start_time": "2024-10-04T17:32:09.354276",
     "status": "completed"
    },
    "tags": []
   },
   "outputs": [
    {
     "data": {
      "text/plain": [
       "ResNetForImageClassification(\n",
       "  (resnet): ResNetModel(\n",
       "    (embedder): ResNetEmbeddings(\n",
       "      (embedder): ResNetConvLayer(\n",
       "        (convolution): Conv2d(3, 64, kernel_size=(7, 7), stride=(2, 2), padding=(3, 3), bias=False)\n",
       "        (normalization): BatchNorm2d(64, eps=1e-05, momentum=0.1, affine=True, track_running_stats=True)\n",
       "        (activation): ReLU()\n",
       "      )\n",
       "      (pooler): MaxPool2d(kernel_size=3, stride=2, padding=1, dilation=1, ceil_mode=False)\n",
       "    )\n",
       "    (encoder): ResNetEncoder(\n",
       "      (stages): ModuleList(\n",
       "        (0): ResNetStage(\n",
       "          (layers): Sequential(\n",
       "            (0): ResNetBasicLayer(\n",
       "              (shortcut): Identity()\n",
       "              (layer): Sequential(\n",
       "                (0): ResNetConvLayer(\n",
       "                  (convolution): Conv2d(64, 64, kernel_size=(3, 3), stride=(1, 1), padding=(1, 1), bias=False)\n",
       "                  (normalization): BatchNorm2d(64, eps=1e-05, momentum=0.1, affine=True, track_running_stats=True)\n",
       "                  (activation): ReLU()\n",
       "                )\n",
       "                (1): ResNetConvLayer(\n",
       "                  (convolution): Conv2d(64, 64, kernel_size=(3, 3), stride=(1, 1), padding=(1, 1), bias=False)\n",
       "                  (normalization): BatchNorm2d(64, eps=1e-05, momentum=0.1, affine=True, track_running_stats=True)\n",
       "                  (activation): Identity()\n",
       "                )\n",
       "              )\n",
       "              (activation): ReLU()\n",
       "            )\n",
       "            (1): ResNetBasicLayer(\n",
       "              (shortcut): Identity()\n",
       "              (layer): Sequential(\n",
       "                (0): ResNetConvLayer(\n",
       "                  (convolution): Conv2d(64, 64, kernel_size=(3, 3), stride=(1, 1), padding=(1, 1), bias=False)\n",
       "                  (normalization): BatchNorm2d(64, eps=1e-05, momentum=0.1, affine=True, track_running_stats=True)\n",
       "                  (activation): ReLU()\n",
       "                )\n",
       "                (1): ResNetConvLayer(\n",
       "                  (convolution): Conv2d(64, 64, kernel_size=(3, 3), stride=(1, 1), padding=(1, 1), bias=False)\n",
       "                  (normalization): BatchNorm2d(64, eps=1e-05, momentum=0.1, affine=True, track_running_stats=True)\n",
       "                  (activation): Identity()\n",
       "                )\n",
       "              )\n",
       "              (activation): ReLU()\n",
       "            )\n",
       "          )\n",
       "        )\n",
       "        (1): ResNetStage(\n",
       "          (layers): Sequential(\n",
       "            (0): ResNetBasicLayer(\n",
       "              (shortcut): ResNetShortCut(\n",
       "                (convolution): Conv2d(64, 128, kernel_size=(1, 1), stride=(2, 2), bias=False)\n",
       "                (normalization): BatchNorm2d(128, eps=1e-05, momentum=0.1, affine=True, track_running_stats=True)\n",
       "              )\n",
       "              (layer): Sequential(\n",
       "                (0): ResNetConvLayer(\n",
       "                  (convolution): Conv2d(64, 128, kernel_size=(3, 3), stride=(2, 2), padding=(1, 1), bias=False)\n",
       "                  (normalization): BatchNorm2d(128, eps=1e-05, momentum=0.1, affine=True, track_running_stats=True)\n",
       "                  (activation): ReLU()\n",
       "                )\n",
       "                (1): ResNetConvLayer(\n",
       "                  (convolution): Conv2d(128, 128, kernel_size=(3, 3), stride=(1, 1), padding=(1, 1), bias=False)\n",
       "                  (normalization): BatchNorm2d(128, eps=1e-05, momentum=0.1, affine=True, track_running_stats=True)\n",
       "                  (activation): Identity()\n",
       "                )\n",
       "              )\n",
       "              (activation): ReLU()\n",
       "            )\n",
       "            (1): ResNetBasicLayer(\n",
       "              (shortcut): Identity()\n",
       "              (layer): Sequential(\n",
       "                (0): ResNetConvLayer(\n",
       "                  (convolution): Conv2d(128, 128, kernel_size=(3, 3), stride=(1, 1), padding=(1, 1), bias=False)\n",
       "                  (normalization): BatchNorm2d(128, eps=1e-05, momentum=0.1, affine=True, track_running_stats=True)\n",
       "                  (activation): ReLU()\n",
       "                )\n",
       "                (1): ResNetConvLayer(\n",
       "                  (convolution): Conv2d(128, 128, kernel_size=(3, 3), stride=(1, 1), padding=(1, 1), bias=False)\n",
       "                  (normalization): BatchNorm2d(128, eps=1e-05, momentum=0.1, affine=True, track_running_stats=True)\n",
       "                  (activation): Identity()\n",
       "                )\n",
       "              )\n",
       "              (activation): ReLU()\n",
       "            )\n",
       "          )\n",
       "        )\n",
       "        (2): ResNetStage(\n",
       "          (layers): Sequential(\n",
       "            (0): ResNetBasicLayer(\n",
       "              (shortcut): ResNetShortCut(\n",
       "                (convolution): Conv2d(128, 256, kernel_size=(1, 1), stride=(2, 2), bias=False)\n",
       "                (normalization): BatchNorm2d(256, eps=1e-05, momentum=0.1, affine=True, track_running_stats=True)\n",
       "              )\n",
       "              (layer): Sequential(\n",
       "                (0): ResNetConvLayer(\n",
       "                  (convolution): Conv2d(128, 256, kernel_size=(3, 3), stride=(2, 2), padding=(1, 1), bias=False)\n",
       "                  (normalization): BatchNorm2d(256, eps=1e-05, momentum=0.1, affine=True, track_running_stats=True)\n",
       "                  (activation): ReLU()\n",
       "                )\n",
       "                (1): ResNetConvLayer(\n",
       "                  (convolution): Conv2d(256, 256, kernel_size=(3, 3), stride=(1, 1), padding=(1, 1), bias=False)\n",
       "                  (normalization): BatchNorm2d(256, eps=1e-05, momentum=0.1, affine=True, track_running_stats=True)\n",
       "                  (activation): Identity()\n",
       "                )\n",
       "              )\n",
       "              (activation): ReLU()\n",
       "            )\n",
       "            (1): ResNetBasicLayer(\n",
       "              (shortcut): Identity()\n",
       "              (layer): Sequential(\n",
       "                (0): ResNetConvLayer(\n",
       "                  (convolution): Conv2d(256, 256, kernel_size=(3, 3), stride=(1, 1), padding=(1, 1), bias=False)\n",
       "                  (normalization): BatchNorm2d(256, eps=1e-05, momentum=0.1, affine=True, track_running_stats=True)\n",
       "                  (activation): ReLU()\n",
       "                )\n",
       "                (1): ResNetConvLayer(\n",
       "                  (convolution): Conv2d(256, 256, kernel_size=(3, 3), stride=(1, 1), padding=(1, 1), bias=False)\n",
       "                  (normalization): BatchNorm2d(256, eps=1e-05, momentum=0.1, affine=True, track_running_stats=True)\n",
       "                  (activation): Identity()\n",
       "                )\n",
       "              )\n",
       "              (activation): ReLU()\n",
       "            )\n",
       "          )\n",
       "        )\n",
       "        (3): ResNetStage(\n",
       "          (layers): Sequential(\n",
       "            (0): ResNetBasicLayer(\n",
       "              (shortcut): ResNetShortCut(\n",
       "                (convolution): Conv2d(256, 512, kernel_size=(1, 1), stride=(2, 2), bias=False)\n",
       "                (normalization): BatchNorm2d(512, eps=1e-05, momentum=0.1, affine=True, track_running_stats=True)\n",
       "              )\n",
       "              (layer): Sequential(\n",
       "                (0): ResNetConvLayer(\n",
       "                  (convolution): Conv2d(256, 512, kernel_size=(3, 3), stride=(2, 2), padding=(1, 1), bias=False)\n",
       "                  (normalization): BatchNorm2d(512, eps=1e-05, momentum=0.1, affine=True, track_running_stats=True)\n",
       "                  (activation): ReLU()\n",
       "                )\n",
       "                (1): ResNetConvLayer(\n",
       "                  (convolution): Conv2d(512, 512, kernel_size=(3, 3), stride=(1, 1), padding=(1, 1), bias=False)\n",
       "                  (normalization): BatchNorm2d(512, eps=1e-05, momentum=0.1, affine=True, track_running_stats=True)\n",
       "                  (activation): Identity()\n",
       "                )\n",
       "              )\n",
       "              (activation): ReLU()\n",
       "            )\n",
       "            (1): ResNetBasicLayer(\n",
       "              (shortcut): Identity()\n",
       "              (layer): Sequential(\n",
       "                (0): ResNetConvLayer(\n",
       "                  (convolution): Conv2d(512, 512, kernel_size=(3, 3), stride=(1, 1), padding=(1, 1), bias=False)\n",
       "                  (normalization): BatchNorm2d(512, eps=1e-05, momentum=0.1, affine=True, track_running_stats=True)\n",
       "                  (activation): ReLU()\n",
       "                )\n",
       "                (1): ResNetConvLayer(\n",
       "                  (convolution): Conv2d(512, 512, kernel_size=(3, 3), stride=(1, 1), padding=(1, 1), bias=False)\n",
       "                  (normalization): BatchNorm2d(512, eps=1e-05, momentum=0.1, affine=True, track_running_stats=True)\n",
       "                  (activation): Identity()\n",
       "                )\n",
       "              )\n",
       "              (activation): ReLU()\n",
       "            )\n",
       "          )\n",
       "        )\n",
       "      )\n",
       "    )\n",
       "    (pooler): AdaptiveAvgPool2d(output_size=(1, 1))\n",
       "  )\n",
       "  (classifier): Sequential(\n",
       "    (0): Flatten(start_dim=1, end_dim=-1)\n",
       "    (1): Linear(in_features=512, out_features=3, bias=True)\n",
       "  )\n",
       ")"
      ]
     },
     "execution_count": 22,
     "metadata": {},
     "output_type": "execute_result"
    }
   ],
   "source": [
    "device = torch.device(\"cuda\" if torch.cuda.is_available() else \"cpu\")\n",
    "model.to(device)"
   ]
  },
  {
   "cell_type": "code",
   "execution_count": 23,
   "id": "1f1e478f",
   "metadata": {
    "execution": {
     "iopub.execute_input": "2024-10-04T17:32:09.634067Z",
     "iopub.status.busy": "2024-10-04T17:32:09.633686Z",
     "iopub.status.idle": "2024-10-04T17:32:09.638589Z",
     "shell.execute_reply": "2024-10-04T17:32:09.637787Z"
    },
    "papermill": {
     "duration": 0.023766,
     "end_time": "2024-10-04T17:32:09.640399",
     "exception": false,
     "start_time": "2024-10-04T17:32:09.616633",
     "status": "completed"
    },
    "tags": []
   },
   "outputs": [],
   "source": [
    "\n",
    "config={\n",
    "    \"learning_rate\": 1e-7,\n",
    "    \"architecture\": \"microsoft/resnet-18 NOOVERSAMPLING FOCALLOSS\",\n",
    "    \"epochs\": 800,\n",
    "    \"weight_decay\": 1e-6,\n",
    "    \"reduce_lr_factor\": 0.25,\n",
    "    \"patience\": 20,\n",
    "    \"early_stop_patience\": 40,\n",
    "    \"class_weights\": None,\n",
    "    \"focal_loss\": 2\n",
    "    }\n",
    "\n",
    "\n"
   ]
  },
  {
   "cell_type": "markdown",
   "id": "33c6033a",
   "metadata": {
    "papermill": {
     "duration": 0.015864,
     "end_time": "2024-10-04T17:32:09.671918",
     "exception": false,
     "start_time": "2024-10-04T17:32:09.656054",
     "status": "completed"
    },
    "tags": []
   },
   "source": [
    "### Resnet-34"
   ]
  },
  {
   "cell_type": "code",
   "execution_count": 24,
   "id": "5586d695",
   "metadata": {
    "execution": {
     "iopub.execute_input": "2024-10-04T17:32:09.704562Z",
     "iopub.status.busy": "2024-10-04T17:32:09.703832Z",
     "iopub.status.idle": "2024-10-04T17:32:09.707582Z",
     "shell.execute_reply": "2024-10-04T17:32:09.706880Z"
    },
    "papermill": {
     "duration": 0.022019,
     "end_time": "2024-10-04T17:32:09.709437",
     "exception": false,
     "start_time": "2024-10-04T17:32:09.687418",
     "status": "completed"
    },
    "tags": []
   },
   "outputs": [],
   "source": [
    "#model = ResNetForImageClassification.from_pretrained('microsoft/resnet-34')\n",
    "#model.classifier[-1] = nn.Linear(model.classifier[-1].in_features, UnimodalCTDataset.num_classes) #Adjusting the final layer to the unimodal number of classes"
   ]
  },
  {
   "cell_type": "code",
   "execution_count": 25,
   "id": "2a9a7c7d",
   "metadata": {
    "execution": {
     "iopub.execute_input": "2024-10-04T17:32:09.741480Z",
     "iopub.status.busy": "2024-10-04T17:32:09.741205Z",
     "iopub.status.idle": "2024-10-04T17:32:09.744633Z",
     "shell.execute_reply": "2024-10-04T17:32:09.743817Z"
    },
    "papermill": {
     "duration": 0.021434,
     "end_time": "2024-10-04T17:32:09.746404",
     "exception": false,
     "start_time": "2024-10-04T17:32:09.724970",
     "status": "completed"
    },
    "tags": []
   },
   "outputs": [],
   "source": [
    "#device = torch.device(\"cuda\" if torch.cuda.is_available() else \"cpu\")\n",
    "#model.to(device)"
   ]
  },
  {
   "cell_type": "code",
   "execution_count": 26,
   "id": "db9105fa",
   "metadata": {
    "execution": {
     "iopub.execute_input": "2024-10-04T17:32:09.779923Z",
     "iopub.status.busy": "2024-10-04T17:32:09.779528Z",
     "iopub.status.idle": "2024-10-04T17:32:45.022765Z",
     "shell.execute_reply": "2024-10-04T17:32:45.021692Z"
    },
    "papermill": {
     "duration": 35.279134,
     "end_time": "2024-10-04T17:32:45.041163",
     "exception": false,
     "start_time": "2024-10-04T17:32:09.762029",
     "status": "completed"
    },
    "tags": []
   },
   "outputs": [
    {
     "name": "stdout",
     "output_type": "stream",
     "text": [
      "Fold 1\n",
      "-------\n",
      "2191\n",
      "25\n",
      "Fold 2\n",
      "-------\n",
      "2194\n",
      "26\n",
      "Fold 3\n",
      "-------\n",
      "2203\n",
      "23\n"
     ]
    }
   ],
   "source": [
    "from torch.utils.data import DataLoader, Subset\n",
    "\n",
    "k_folds = 3\n",
    "batch_size = 32\n",
    "# Initialize the k-fold cross validation\n",
    "#group fold in order to group indices by patient_id so that we don't introduct frames of the same patient in the train set and test set\n",
    "gkf = GroupKFold(n_splits=k_folds) \n",
    "patient_ids = [info.split(\"/\")[0].split(\"_\")[0] for info in train_dataset.items]\n",
    "indices = list(range(len(patient_ids)))\n",
    "# Loop through each fold\n",
    "for fold, (train_idx, test_idx) in enumerate(gkf.split(indices, groups=patient_ids)):\n",
    "    print(f\"Fold {fold + 1}\")\n",
    "    print(\"-------\")\n",
    "    # Define the data loaders for the current fold\n",
    "    train_subset = Subset(train_dataset, train_idx)\n",
    "    val_subset = Subset(train_dataset, test_idx)\n",
    "    train_loader = DataLoader(\n",
    "        dataset=train_subset,\n",
    "        batch_size=batch_size,\n",
    "        shuffle = True\n",
    "    )\n",
    "    val_loader = DataLoader(\n",
    "        dataset=val_subset,\n",
    "        batch_size=batch_size,\n",
    "        shuffle = False,\n",
    "    )\n",
    "    train_ids = []\n",
    "    for frame in train_loader:\n",
    "        train_ids.append(frame[\"patient_id\"][0])\n",
    "    val_ids = []\n",
    "    for frame in val_loader:\n",
    "        val_ids.append(frame[\"patient_id\"][0])\n",
    "    print(len(set(train_idx) - set(val_ids)))\n",
    "    print(len(set(train_ids)))\n",
    "    assert len(set(train_ids) - set(val_ids)) == len(set(train_ids))\n",
    "    config[\"architecture\"] = f\"{config['architecture']} fold:{fold + 1}\"    \n",
    "    #train(model, config, run_name = config[\"architecture\"])\n"
   ]
  }
 ],
 "metadata": {
  "kaggle": {
   "accelerator": "gpu",
   "dataSources": [
    {
     "databundleVersionId": 9729894,
     "datasetId": 5758221,
     "sourceId": 9516694,
     "sourceType": "datasetVersion"
    },
    {
     "databundleVersionId": 9764358,
     "datasetId": 5664308,
     "sourceId": 9547833,
     "sourceType": "datasetVersion"
    }
   ],
   "dockerImageVersionId": 30787,
   "isGpuEnabled": true,
   "isInternetEnabled": true,
   "language": "python",
   "sourceType": "notebook"
  },
  "kernelspec": {
   "display_name": "Python 3",
   "language": "python",
   "name": "python3"
  },
  "language_info": {
   "codemirror_mode": {
    "name": "ipython",
    "version": 3
   },
   "file_extension": ".py",
   "mimetype": "text/x-python",
   "name": "python",
   "nbconvert_exporter": "python",
   "pygments_lexer": "ipython3",
   "version": "3.10.14"
  },
  "papermill": {
   "default_parameters": {},
   "duration": 91.422869,
   "end_time": "2024-10-04T17:32:46.581319",
   "environment_variables": {},
   "exception": null,
   "input_path": "__notebook__.ipynb",
   "output_path": "__notebook__.ipynb",
   "parameters": {},
   "start_time": "2024-10-04T17:31:15.158450",
   "version": "2.6.0"
  },
  "widgets": {
   "application/vnd.jupyter.widget-state+json": {
    "state": {
     "19e24adf8b324554ac3def0d647fe629": {
      "model_module": "@jupyter-widgets/base",
      "model_module_version": "1.2.0",
      "model_name": "LayoutModel",
      "state": {
       "_model_module": "@jupyter-widgets/base",
       "_model_module_version": "1.2.0",
       "_model_name": "LayoutModel",
       "_view_count": null,
       "_view_module": "@jupyter-widgets/base",
       "_view_module_version": "1.2.0",
       "_view_name": "LayoutView",
       "align_content": null,
       "align_items": null,
       "align_self": null,
       "border": null,
       "bottom": null,
       "display": null,
       "flex": null,
       "flex_flow": null,
       "grid_area": null,
       "grid_auto_columns": null,
       "grid_auto_flow": null,
       "grid_auto_rows": null,
       "grid_column": null,
       "grid_gap": null,
       "grid_row": null,
       "grid_template_areas": null,
       "grid_template_columns": null,
       "grid_template_rows": null,
       "height": null,
       "justify_content": null,
       "justify_items": null,
       "left": null,
       "margin": null,
       "max_height": null,
       "max_width": null,
       "min_height": null,
       "min_width": null,
       "object_fit": null,
       "object_position": null,
       "order": null,
       "overflow": null,
       "overflow_x": null,
       "overflow_y": null,
       "padding": null,
       "right": null,
       "top": null,
       "visibility": null,
       "width": null
      }
     },
     "1ab204741bef486c876f74a428ad622e": {
      "model_module": "@jupyter-widgets/controls",
      "model_module_version": "1.5.0",
      "model_name": "DescriptionStyleModel",
      "state": {
       "_model_module": "@jupyter-widgets/controls",
       "_model_module_version": "1.5.0",
       "_model_name": "DescriptionStyleModel",
       "_view_count": null,
       "_view_module": "@jupyter-widgets/base",
       "_view_module_version": "1.2.0",
       "_view_name": "StyleView",
       "description_width": ""
      }
     },
     "263df3f703fb498f8df5f2d238abb14b": {
      "model_module": "@jupyter-widgets/controls",
      "model_module_version": "1.5.0",
      "model_name": "DescriptionStyleModel",
      "state": {
       "_model_module": "@jupyter-widgets/controls",
       "_model_module_version": "1.5.0",
       "_model_name": "DescriptionStyleModel",
       "_view_count": null,
       "_view_module": "@jupyter-widgets/base",
       "_view_module_version": "1.2.0",
       "_view_name": "StyleView",
       "description_width": ""
      }
     },
     "2cbdb903fc7a4fc8bd74f27029d80184": {
      "model_module": "@jupyter-widgets/controls",
      "model_module_version": "1.5.0",
      "model_name": "ProgressStyleModel",
      "state": {
       "_model_module": "@jupyter-widgets/controls",
       "_model_module_version": "1.5.0",
       "_model_name": "ProgressStyleModel",
       "_view_count": null,
       "_view_module": "@jupyter-widgets/base",
       "_view_module_version": "1.2.0",
       "_view_name": "StyleView",
       "bar_color": null,
       "description_width": ""
      }
     },
     "31fdbe87eb8344b1b9da3c9bad5cd310": {
      "model_module": "@jupyter-widgets/controls",
      "model_module_version": "1.5.0",
      "model_name": "HTMLModel",
      "state": {
       "_dom_classes": [],
       "_model_module": "@jupyter-widgets/controls",
       "_model_module_version": "1.5.0",
       "_model_name": "HTMLModel",
       "_view_count": null,
       "_view_module": "@jupyter-widgets/controls",
       "_view_module_version": "1.5.0",
       "_view_name": "HTMLView",
       "description": "",
       "description_tooltip": null,
       "layout": "IPY_MODEL_512f8d74720b40ca816f80cacba2a406",
       "placeholder": "​",
       "style": "IPY_MODEL_6b9c09d686f04f708b3b7be8bc805586",
       "value": "config.json: 100%"
      }
     },
     "37a272895e5e410996191d5050ea57db": {
      "model_module": "@jupyter-widgets/controls",
      "model_module_version": "1.5.0",
      "model_name": "FloatProgressModel",
      "state": {
       "_dom_classes": [],
       "_model_module": "@jupyter-widgets/controls",
       "_model_module_version": "1.5.0",
       "_model_name": "FloatProgressModel",
       "_view_count": null,
       "_view_module": "@jupyter-widgets/controls",
       "_view_module_version": "1.5.0",
       "_view_name": "ProgressView",
       "bar_style": "success",
       "description": "",
       "description_tooltip": null,
       "layout": "IPY_MODEL_b0474b72fbdb4aae9fe38c78bab1d5b4",
       "max": 69548.0,
       "min": 0.0,
       "orientation": "horizontal",
       "style": "IPY_MODEL_4471f18263a14f5a8a72626b71b924d2",
       "value": 69548.0
      }
     },
     "3ed8a78a89b2495eb7cf5022852be4c1": {
      "model_module": "@jupyter-widgets/controls",
      "model_module_version": "1.5.0",
      "model_name": "HTMLModel",
      "state": {
       "_dom_classes": [],
       "_model_module": "@jupyter-widgets/controls",
       "_model_module_version": "1.5.0",
       "_model_name": "HTMLModel",
       "_view_count": null,
       "_view_module": "@jupyter-widgets/controls",
       "_view_module_version": "1.5.0",
       "_view_name": "HTMLView",
       "description": "",
       "description_tooltip": null,
       "layout": "IPY_MODEL_c0a8bda2b72d41db8ae8adce8e579e11",
       "placeholder": "​",
       "style": "IPY_MODEL_263df3f703fb498f8df5f2d238abb14b",
       "value": " 69.5k/69.5k [00:00&lt;00:00, 4.80MB/s]"
      }
     },
     "4471f18263a14f5a8a72626b71b924d2": {
      "model_module": "@jupyter-widgets/controls",
      "model_module_version": "1.5.0",
      "model_name": "ProgressStyleModel",
      "state": {
       "_model_module": "@jupyter-widgets/controls",
       "_model_module_version": "1.5.0",
       "_model_name": "ProgressStyleModel",
       "_view_count": null,
       "_view_module": "@jupyter-widgets/base",
       "_view_module_version": "1.2.0",
       "_view_name": "StyleView",
       "bar_color": null,
       "description_width": ""
      }
     },
     "50c2ea8186be4276a11aaf0b37043cf6": {
      "model_module": "@jupyter-widgets/controls",
      "model_module_version": "1.5.0",
      "model_name": "HBoxModel",
      "state": {
       "_dom_classes": [],
       "_model_module": "@jupyter-widgets/controls",
       "_model_module_version": "1.5.0",
       "_model_name": "HBoxModel",
       "_view_count": null,
       "_view_module": "@jupyter-widgets/controls",
       "_view_module_version": "1.5.0",
       "_view_name": "HBoxView",
       "box_style": "",
       "children": [
        "IPY_MODEL_8c2a7dc7c8be42e8a32f9387c5c3a38f",
        "IPY_MODEL_b5c84b7be0cf450b88476758c0204f3c",
        "IPY_MODEL_e819d6223b934e6ea7b02b4f70ddd8f4"
       ],
       "layout": "IPY_MODEL_19e24adf8b324554ac3def0d647fe629"
      }
     },
     "512f8d74720b40ca816f80cacba2a406": {
      "model_module": "@jupyter-widgets/base",
      "model_module_version": "1.2.0",
      "model_name": "LayoutModel",
      "state": {
       "_model_module": "@jupyter-widgets/base",
       "_model_module_version": "1.2.0",
       "_model_name": "LayoutModel",
       "_view_count": null,
       "_view_module": "@jupyter-widgets/base",
       "_view_module_version": "1.2.0",
       "_view_name": "LayoutView",
       "align_content": null,
       "align_items": null,
       "align_self": null,
       "border": null,
       "bottom": null,
       "display": null,
       "flex": null,
       "flex_flow": null,
       "grid_area": null,
       "grid_auto_columns": null,
       "grid_auto_flow": null,
       "grid_auto_rows": null,
       "grid_column": null,
       "grid_gap": null,
       "grid_row": null,
       "grid_template_areas": null,
       "grid_template_columns": null,
       "grid_template_rows": null,
       "height": null,
       "justify_content": null,
       "justify_items": null,
       "left": null,
       "margin": null,
       "max_height": null,
       "max_width": null,
       "min_height": null,
       "min_width": null,
       "object_fit": null,
       "object_position": null,
       "order": null,
       "overflow": null,
       "overflow_x": null,
       "overflow_y": null,
       "padding": null,
       "right": null,
       "top": null,
       "visibility": null,
       "width": null
      }
     },
     "633d90cb71dc4b76a776cdecafecff1a": {
      "model_module": "@jupyter-widgets/base",
      "model_module_version": "1.2.0",
      "model_name": "LayoutModel",
      "state": {
       "_model_module": "@jupyter-widgets/base",
       "_model_module_version": "1.2.0",
       "_model_name": "LayoutModel",
       "_view_count": null,
       "_view_module": "@jupyter-widgets/base",
       "_view_module_version": "1.2.0",
       "_view_name": "LayoutView",
       "align_content": null,
       "align_items": null,
       "align_self": null,
       "border": null,
       "bottom": null,
       "display": null,
       "flex": null,
       "flex_flow": null,
       "grid_area": null,
       "grid_auto_columns": null,
       "grid_auto_flow": null,
       "grid_auto_rows": null,
       "grid_column": null,
       "grid_gap": null,
       "grid_row": null,
       "grid_template_areas": null,
       "grid_template_columns": null,
       "grid_template_rows": null,
       "height": null,
       "justify_content": null,
       "justify_items": null,
       "left": null,
       "margin": null,
       "max_height": null,
       "max_width": null,
       "min_height": null,
       "min_width": null,
       "object_fit": null,
       "object_position": null,
       "order": null,
       "overflow": null,
       "overflow_x": null,
       "overflow_y": null,
       "padding": null,
       "right": null,
       "top": null,
       "visibility": null,
       "width": null
      }
     },
     "6b9c09d686f04f708b3b7be8bc805586": {
      "model_module": "@jupyter-widgets/controls",
      "model_module_version": "1.5.0",
      "model_name": "DescriptionStyleModel",
      "state": {
       "_model_module": "@jupyter-widgets/controls",
       "_model_module_version": "1.5.0",
       "_model_name": "DescriptionStyleModel",
       "_view_count": null,
       "_view_module": "@jupyter-widgets/base",
       "_view_module_version": "1.2.0",
       "_view_name": "StyleView",
       "description_width": ""
      }
     },
     "8c2a7dc7c8be42e8a32f9387c5c3a38f": {
      "model_module": "@jupyter-widgets/controls",
      "model_module_version": "1.5.0",
      "model_name": "HTMLModel",
      "state": {
       "_dom_classes": [],
       "_model_module": "@jupyter-widgets/controls",
       "_model_module_version": "1.5.0",
       "_model_name": "HTMLModel",
       "_view_count": null,
       "_view_module": "@jupyter-widgets/controls",
       "_view_module_version": "1.5.0",
       "_view_name": "HTMLView",
       "description": "",
       "description_tooltip": null,
       "layout": "IPY_MODEL_633d90cb71dc4b76a776cdecafecff1a",
       "placeholder": "​",
       "style": "IPY_MODEL_ca203ceddd334eb6b8e1e35b7f09256f",
       "value": "model.safetensors: 100%"
      }
     },
     "b0474b72fbdb4aae9fe38c78bab1d5b4": {
      "model_module": "@jupyter-widgets/base",
      "model_module_version": "1.2.0",
      "model_name": "LayoutModel",
      "state": {
       "_model_module": "@jupyter-widgets/base",
       "_model_module_version": "1.2.0",
       "_model_name": "LayoutModel",
       "_view_count": null,
       "_view_module": "@jupyter-widgets/base",
       "_view_module_version": "1.2.0",
       "_view_name": "LayoutView",
       "align_content": null,
       "align_items": null,
       "align_self": null,
       "border": null,
       "bottom": null,
       "display": null,
       "flex": null,
       "flex_flow": null,
       "grid_area": null,
       "grid_auto_columns": null,
       "grid_auto_flow": null,
       "grid_auto_rows": null,
       "grid_column": null,
       "grid_gap": null,
       "grid_row": null,
       "grid_template_areas": null,
       "grid_template_columns": null,
       "grid_template_rows": null,
       "height": null,
       "justify_content": null,
       "justify_items": null,
       "left": null,
       "margin": null,
       "max_height": null,
       "max_width": null,
       "min_height": null,
       "min_width": null,
       "object_fit": null,
       "object_position": null,
       "order": null,
       "overflow": null,
       "overflow_x": null,
       "overflow_y": null,
       "padding": null,
       "right": null,
       "top": null,
       "visibility": null,
       "width": null
      }
     },
     "b26513e7f5594ab38cc377246aabd6b3": {
      "model_module": "@jupyter-widgets/base",
      "model_module_version": "1.2.0",
      "model_name": "LayoutModel",
      "state": {
       "_model_module": "@jupyter-widgets/base",
       "_model_module_version": "1.2.0",
       "_model_name": "LayoutModel",
       "_view_count": null,
       "_view_module": "@jupyter-widgets/base",
       "_view_module_version": "1.2.0",
       "_view_name": "LayoutView",
       "align_content": null,
       "align_items": null,
       "align_self": null,
       "border": null,
       "bottom": null,
       "display": null,
       "flex": null,
       "flex_flow": null,
       "grid_area": null,
       "grid_auto_columns": null,
       "grid_auto_flow": null,
       "grid_auto_rows": null,
       "grid_column": null,
       "grid_gap": null,
       "grid_row": null,
       "grid_template_areas": null,
       "grid_template_columns": null,
       "grid_template_rows": null,
       "height": null,
       "justify_content": null,
       "justify_items": null,
       "left": null,
       "margin": null,
       "max_height": null,
       "max_width": null,
       "min_height": null,
       "min_width": null,
       "object_fit": null,
       "object_position": null,
       "order": null,
       "overflow": null,
       "overflow_x": null,
       "overflow_y": null,
       "padding": null,
       "right": null,
       "top": null,
       "visibility": null,
       "width": null
      }
     },
     "b5c84b7be0cf450b88476758c0204f3c": {
      "model_module": "@jupyter-widgets/controls",
      "model_module_version": "1.5.0",
      "model_name": "FloatProgressModel",
      "state": {
       "_dom_classes": [],
       "_model_module": "@jupyter-widgets/controls",
       "_model_module_version": "1.5.0",
       "_model_name": "FloatProgressModel",
       "_view_count": null,
       "_view_module": "@jupyter-widgets/controls",
       "_view_module_version": "1.5.0",
       "_view_name": "ProgressView",
       "bar_style": "success",
       "description": "",
       "description_tooltip": null,
       "layout": "IPY_MODEL_bf3ae48168f04993af82f3a3c26bf897",
       "max": 46812324.0,
       "min": 0.0,
       "orientation": "horizontal",
       "style": "IPY_MODEL_2cbdb903fc7a4fc8bd74f27029d80184",
       "value": 46812324.0
      }
     },
     "b993479d499e4ad5b72f93e0725ca27e": {
      "model_module": "@jupyter-widgets/controls",
      "model_module_version": "1.5.0",
      "model_name": "HBoxModel",
      "state": {
       "_dom_classes": [],
       "_model_module": "@jupyter-widgets/controls",
       "_model_module_version": "1.5.0",
       "_model_name": "HBoxModel",
       "_view_count": null,
       "_view_module": "@jupyter-widgets/controls",
       "_view_module_version": "1.5.0",
       "_view_name": "HBoxView",
       "box_style": "",
       "children": [
        "IPY_MODEL_31fdbe87eb8344b1b9da3c9bad5cd310",
        "IPY_MODEL_37a272895e5e410996191d5050ea57db",
        "IPY_MODEL_3ed8a78a89b2495eb7cf5022852be4c1"
       ],
       "layout": "IPY_MODEL_b26513e7f5594ab38cc377246aabd6b3"
      }
     },
     "beafdd451d634823a8e79d4386ebd970": {
      "model_module": "@jupyter-widgets/base",
      "model_module_version": "1.2.0",
      "model_name": "LayoutModel",
      "state": {
       "_model_module": "@jupyter-widgets/base",
       "_model_module_version": "1.2.0",
       "_model_name": "LayoutModel",
       "_view_count": null,
       "_view_module": "@jupyter-widgets/base",
       "_view_module_version": "1.2.0",
       "_view_name": "LayoutView",
       "align_content": null,
       "align_items": null,
       "align_self": null,
       "border": null,
       "bottom": null,
       "display": null,
       "flex": null,
       "flex_flow": null,
       "grid_area": null,
       "grid_auto_columns": null,
       "grid_auto_flow": null,
       "grid_auto_rows": null,
       "grid_column": null,
       "grid_gap": null,
       "grid_row": null,
       "grid_template_areas": null,
       "grid_template_columns": null,
       "grid_template_rows": null,
       "height": null,
       "justify_content": null,
       "justify_items": null,
       "left": null,
       "margin": null,
       "max_height": null,
       "max_width": null,
       "min_height": null,
       "min_width": null,
       "object_fit": null,
       "object_position": null,
       "order": null,
       "overflow": null,
       "overflow_x": null,
       "overflow_y": null,
       "padding": null,
       "right": null,
       "top": null,
       "visibility": null,
       "width": null
      }
     },
     "bf3ae48168f04993af82f3a3c26bf897": {
      "model_module": "@jupyter-widgets/base",
      "model_module_version": "1.2.0",
      "model_name": "LayoutModel",
      "state": {
       "_model_module": "@jupyter-widgets/base",
       "_model_module_version": "1.2.0",
       "_model_name": "LayoutModel",
       "_view_count": null,
       "_view_module": "@jupyter-widgets/base",
       "_view_module_version": "1.2.0",
       "_view_name": "LayoutView",
       "align_content": null,
       "align_items": null,
       "align_self": null,
       "border": null,
       "bottom": null,
       "display": null,
       "flex": null,
       "flex_flow": null,
       "grid_area": null,
       "grid_auto_columns": null,
       "grid_auto_flow": null,
       "grid_auto_rows": null,
       "grid_column": null,
       "grid_gap": null,
       "grid_row": null,
       "grid_template_areas": null,
       "grid_template_columns": null,
       "grid_template_rows": null,
       "height": null,
       "justify_content": null,
       "justify_items": null,
       "left": null,
       "margin": null,
       "max_height": null,
       "max_width": null,
       "min_height": null,
       "min_width": null,
       "object_fit": null,
       "object_position": null,
       "order": null,
       "overflow": null,
       "overflow_x": null,
       "overflow_y": null,
       "padding": null,
       "right": null,
       "top": null,
       "visibility": null,
       "width": null
      }
     },
     "c0a8bda2b72d41db8ae8adce8e579e11": {
      "model_module": "@jupyter-widgets/base",
      "model_module_version": "1.2.0",
      "model_name": "LayoutModel",
      "state": {
       "_model_module": "@jupyter-widgets/base",
       "_model_module_version": "1.2.0",
       "_model_name": "LayoutModel",
       "_view_count": null,
       "_view_module": "@jupyter-widgets/base",
       "_view_module_version": "1.2.0",
       "_view_name": "LayoutView",
       "align_content": null,
       "align_items": null,
       "align_self": null,
       "border": null,
       "bottom": null,
       "display": null,
       "flex": null,
       "flex_flow": null,
       "grid_area": null,
       "grid_auto_columns": null,
       "grid_auto_flow": null,
       "grid_auto_rows": null,
       "grid_column": null,
       "grid_gap": null,
       "grid_row": null,
       "grid_template_areas": null,
       "grid_template_columns": null,
       "grid_template_rows": null,
       "height": null,
       "justify_content": null,
       "justify_items": null,
       "left": null,
       "margin": null,
       "max_height": null,
       "max_width": null,
       "min_height": null,
       "min_width": null,
       "object_fit": null,
       "object_position": null,
       "order": null,
       "overflow": null,
       "overflow_x": null,
       "overflow_y": null,
       "padding": null,
       "right": null,
       "top": null,
       "visibility": null,
       "width": null
      }
     },
     "ca203ceddd334eb6b8e1e35b7f09256f": {
      "model_module": "@jupyter-widgets/controls",
      "model_module_version": "1.5.0",
      "model_name": "DescriptionStyleModel",
      "state": {
       "_model_module": "@jupyter-widgets/controls",
       "_model_module_version": "1.5.0",
       "_model_name": "DescriptionStyleModel",
       "_view_count": null,
       "_view_module": "@jupyter-widgets/base",
       "_view_module_version": "1.2.0",
       "_view_name": "StyleView",
       "description_width": ""
      }
     },
     "e819d6223b934e6ea7b02b4f70ddd8f4": {
      "model_module": "@jupyter-widgets/controls",
      "model_module_version": "1.5.0",
      "model_name": "HTMLModel",
      "state": {
       "_dom_classes": [],
       "_model_module": "@jupyter-widgets/controls",
       "_model_module_version": "1.5.0",
       "_model_name": "HTMLModel",
       "_view_count": null,
       "_view_module": "@jupyter-widgets/controls",
       "_view_module_version": "1.5.0",
       "_view_name": "HTMLView",
       "description": "",
       "description_tooltip": null,
       "layout": "IPY_MODEL_beafdd451d634823a8e79d4386ebd970",
       "placeholder": "​",
       "style": "IPY_MODEL_1ab204741bef486c876f74a428ad622e",
       "value": " 46.8M/46.8M [00:01&lt;00:00, 27.7MB/s]"
      }
     }
    },
    "version_major": 2,
    "version_minor": 0
   }
  }
 },
 "nbformat": 4,
 "nbformat_minor": 5
}
