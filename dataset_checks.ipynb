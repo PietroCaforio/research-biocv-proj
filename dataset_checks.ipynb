{
 "cells": [
  {
   "cell_type": "markdown",
   "metadata": {},
   "source": [
    "### Check Magnification of Histopathologies from CPTAC_PDA"
   ]
  },
  {
   "cell_type": "code",
   "execution_count": null,
   "metadata": {},
   "outputs": [],
   "source": [
    "from util.data_util import *\n",
    "import os\n",
    "\n",
    "\n",
    "dir_path = \"../CLAM/CPTAC_PDA\"\n",
    "#wsi = read_wsi(\"../CLAM/CPTAC_PDA/C3L-00017-22.svs\")\n",
    "for file in os.listdir(dir_path):\n",
    "    wsi = read_wsi(os.path.join(dir_path,file))\n",
    "    app_mag = wsi.properties[\"aperio.AppMag\"]\n",
    "    if app_mag != \"20\":\n",
    "        print(app_mag, file)\n",
    "    "
   ]
  },
  {
   "cell_type": "markdown",
   "metadata": {},
   "source": [
    "### Check max length of CT preprocessed volumes"
   ]
  },
  {
   "cell_type": "code",
   "execution_count": null,
   "metadata": {},
   "outputs": [],
   "source": [
    "import os\n",
    "import numpy as np\n",
    "root_path = \"./data/processed_CPTACUCEC_3D_HR_PAD/CT\"\n",
    "subfolders = [f.path for f in os.scandir(root_path) if f.is_dir()] #Get patients folders\n",
    "empty_count = 0\n",
    "empty_patients = []\n",
    "max_length = 0\n",
    "for subfolder in subfolders:\n",
    "    patient_id = subfolder.split('/')[-1]\n",
    "    volumes = [f.path for f in os.scandir(subfolder) ]\n",
    "    for volume in volumes:\n",
    "        length = len(np.load(volume))\n",
    "        if length == 0:\n",
    "            print(f\"!Warning! empty volume! patient_id:{patient_id}\")\n",
    "        #print(f\"{patient_id}, volume length: {length}\")\n",
    "        if length != 214:\n",
    "            print(f\"length: {length}\\n patient_id:{patient_id}\") \n",
    "        if  length > max_length:\n",
    "            max_length = length\n",
    "print(max_length)\n"
   ]
  }
 ],
 "metadata": {
  "kernelspec": {
   "display_name": "research_biocv_proj",
   "language": "python",
   "name": "python3"
  },
  "language_info": {
   "name": "python",
   "version": "3.9.20"
  }
 },
 "nbformat": 4,
 "nbformat_minor": 2
}
