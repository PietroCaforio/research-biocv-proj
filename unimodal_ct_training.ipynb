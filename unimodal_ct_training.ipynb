{
  "cells": [
    {
      "cell_type": "markdown",
      "metadata": {
        "id": "view-in-github",
        "colab_type": "text"
      },
      "source": [
        "<a href=\"https://colab.research.google.com/github/PietroCaforio/research-biocv-proj/blob/dev/unimodal_ct_training.ipynb\" target=\"_parent\"><img src=\"https://colab.research.google.com/assets/colab-badge.svg\" alt=\"Open In Colab\"/></a>"
      ]
    },
    {
      "cell_type": "markdown",
      "metadata": {
        "id": "6wT0Xulxcazs"
      },
      "source": [
        "# Train unimodal CT"
      ]
    },
    {
      "cell_type": "code",
      "source": [
        "!git clone https://github.com/PietroCaforio/research-biocv-proj\n",
        "!cd research-biocv-proj && git switch dev"
      ],
      "metadata": {
        "colab": {
          "base_uri": "https://localhost:8080/"
        },
        "id": "GQPpMHPTdnk_",
        "outputId": "0317f4d0-f332-402d-81bc-2f11d3e37461"
      },
      "execution_count": 1,
      "outputs": [
        {
          "output_type": "stream",
          "name": "stdout",
          "text": [
            "fatal: destination path 'research-biocv-proj' already exists and is not an empty directory.\n",
            "Already on 'dev'\n",
            "Your branch is up to date with 'origin/dev'.\n"
          ]
        }
      ]
    },
    {
      "cell_type": "code",
      "source": [
        "!cd research-biocv-proj && git pull"
      ],
      "metadata": {
        "colab": {
          "base_uri": "https://localhost:8080/"
        },
        "id": "f30MPnMfhPLY",
        "outputId": "086ad46c-2769-41bb-bb01-ec01ac30a758"
      },
      "execution_count": 14,
      "outputs": [
        {
          "output_type": "stream",
          "name": "stdout",
          "text": [
            "remote: Enumerating objects: 7, done.\u001b[K\n",
            "remote: Counting objects:  14% (1/7)\u001b[K\rremote: Counting objects:  28% (2/7)\u001b[K\rremote: Counting objects:  42% (3/7)\u001b[K\rremote: Counting objects:  57% (4/7)\u001b[K\rremote: Counting objects:  71% (5/7)\u001b[K\rremote: Counting objects:  85% (6/7)\u001b[K\rremote: Counting objects: 100% (7/7)\u001b[K\rremote: Counting objects: 100% (7/7), done.\u001b[K\n",
            "remote: Compressing objects: 100% (1/1)\u001b[K\rremote: Compressing objects: 100% (1/1), done.\u001b[K\n",
            "remote: Total 4 (delta 3), reused 4 (delta 3), pack-reused 0 (from 0)\u001b[K\n",
            "Unpacking objects:  25% (1/4)\rUnpacking objects:  50% (2/4)\rUnpacking objects:  75% (3/4)\rUnpacking objects: 100% (4/4)\rUnpacking objects: 100% (4/4), 464 bytes | 464.00 KiB/s, done.\n",
            "From https://github.com/PietroCaforio/research-biocv-proj\n",
            "   40f416a..45a3829  dev        -> origin/dev\n",
            "Updating 40f416a..45a3829\n",
            "Fast-forward\n",
            " data/unimodal.py | 14 \u001b[32m++++++++\u001b[m\u001b[31m------\u001b[m\n",
            " 1 file changed, 8 insertions(+), 6 deletions(-)\n"
          ]
        }
      ]
    },
    {
      "cell_type": "code",
      "source": [
        "from google.colab import drive\n",
        "drive.mount('/content/drive')"
      ],
      "metadata": {
        "colab": {
          "base_uri": "https://localhost:8080/"
        },
        "id": "ke8uIXW8sPTn",
        "outputId": "b19fdb42-bc07-44c9-e92f-4866a99ae4b4"
      },
      "execution_count": 4,
      "outputs": [
        {
          "output_type": "stream",
          "name": "stdout",
          "text": [
            "Mounted at /content/drive\n"
          ]
        }
      ]
    },
    {
      "cell_type": "code",
      "source": [
        "!unzip -o /content/drive/MyDrive/processed57PatientsCPTAC-PDA.zip -d research-biocv-proj/data/"
      ],
      "metadata": {
        "id": "TguAR9j41BBP",
        "outputId": "25fc6d9c-feb8-4199-dba3-9817c13b95d0",
        "colab": {
          "base_uri": "https://localhost:8080/"
        }
      },
      "execution_count": 6,
      "outputs": [
        {
          "output_type": "stream",
          "name": "stdout",
          "text": [
            "Archive:  /content/drive/MyDrive/processed57PatientsCPTAC-PDA.zip\n",
            "  inflating: research-biocv-proj/data/processed/CT/C3L-00189.npy  \n",
            "  inflating: research-biocv-proj/data/processed/CT/C3L-00599.npy  \n",
            "  inflating: research-biocv-proj/data/processed/CT/C3L-00622.npy  \n",
            "  inflating: research-biocv-proj/data/processed/CT/C3L-00625.npy  \n",
            "  inflating: research-biocv-proj/data/processed/CT/C3L-01032.npy  \n",
            "  inflating: research-biocv-proj/data/processed/CT/C3L-01036.npy  \n",
            "  inflating: research-biocv-proj/data/processed/CT/C3L-01687.npy  \n",
            "  inflating: research-biocv-proj/data/processed/CT/C3L-01689.npy  \n",
            "  inflating: research-biocv-proj/data/processed/CT/C3L-01703.npy  \n",
            "  inflating: research-biocv-proj/data/processed/CT/C3L-02109.npy  \n",
            "  inflating: research-biocv-proj/data/processed/CT/C3L-02112.npy  \n",
            "  inflating: research-biocv-proj/data/processed/CT/C3L-02116.npy  \n",
            "  inflating: research-biocv-proj/data/processed/CT/C3L-02118.npy  \n",
            "  inflating: research-biocv-proj/data/processed/CT/C3L-02606.npy  \n",
            "  inflating: research-biocv-proj/data/processed/CT/C3L-02610.npy  \n",
            "  inflating: research-biocv-proj/data/processed/CT/C3L-02613.npy  \n",
            "  inflating: research-biocv-proj/data/processed/CT/C3L-02890.npy  \n",
            "  inflating: research-biocv-proj/data/processed/CT/C3L-03356.npy  \n",
            "  inflating: research-biocv-proj/data/processed/CT/C3L-03622.npy  \n",
            "  inflating: research-biocv-proj/data/processed/CT/C3L-03628.npy  \n",
            "  inflating: research-biocv-proj/data/processed/CT/C3L-03632.npy  \n",
            "  inflating: research-biocv-proj/data/processed/CT/C3L-03639.npy  \n",
            "  inflating: research-biocv-proj/data/processed/CT/C3L-03743.npy  \n",
            "  inflating: research-biocv-proj/data/processed/CT/C3L-04479.npy  \n",
            "  inflating: research-biocv-proj/data/processed/CT/C3L-04848.npy  \n",
            "  inflating: research-biocv-proj/data/processed/CT/C3L-04853.npy  \n",
            "  inflating: research-biocv-proj/data/processed/CT/C3N-00249.npy  \n",
            "  inflating: research-biocv-proj/data/processed/CT/C3N-00302.npy  \n",
            "  inflating: research-biocv-proj/data/processed/CT/C3N-00303.npy  \n",
            "  inflating: research-biocv-proj/data/processed/CT/C3N-00511.npy  \n",
            "  inflating: research-biocv-proj/data/processed/CT/C3N-00512.npy  \n",
            "  inflating: research-biocv-proj/data/processed/CT/C3N-00513.npy  \n",
            "  inflating: research-biocv-proj/data/processed/CT/C3N-00514.npy  \n",
            "  inflating: research-biocv-proj/data/processed/CT/C3N-00518.npy  \n",
            "  inflating: research-biocv-proj/data/processed/CT/C3N-00957.npy  \n",
            "  inflating: research-biocv-proj/data/processed/CT/C3N-01012.npy  \n",
            "  inflating: research-biocv-proj/data/processed/CT/C3N-01166.npy  \n",
            "  inflating: research-biocv-proj/data/processed/CT/C3N-01167.npy  \n",
            "  inflating: research-biocv-proj/data/processed/CT/C3N-01382.npy  \n",
            "  inflating: research-biocv-proj/data/processed/CT/C3N-01502.npy  \n",
            "  inflating: research-biocv-proj/data/processed/CT/C3N-01714.npy  \n",
            "  inflating: research-biocv-proj/data/processed/CT/C3N-01715.npy  \n",
            "  inflating: research-biocv-proj/data/processed/CT/C3N-01716.npy  \n",
            "  inflating: research-biocv-proj/data/processed/CT/C3N-01897.npy  \n",
            "  inflating: research-biocv-proj/data/processed/CT/C3N-02010.npy  \n",
            "  inflating: research-biocv-proj/data/processed/CT/C3N-02295.npy  \n",
            "  inflating: research-biocv-proj/data/processed/CT/C3N-02592.npy  \n",
            "  inflating: research-biocv-proj/data/processed/CT/C3N-02971.npy  \n",
            "  inflating: research-biocv-proj/data/processed/CT/C3N-02997.npy  \n",
            "  inflating: research-biocv-proj/data/processed/CT/C3N-03000.npy  \n",
            "  inflating: research-biocv-proj/data/processed/CT/C3N-03006.npy  \n",
            "  inflating: research-biocv-proj/data/processed/CT/C3N-03007.npy  \n",
            "  inflating: research-biocv-proj/data/processed/CT/C3N-03039.npy  \n",
            "  inflating: research-biocv-proj/data/processed/CT/C3N-03426.npy  \n",
            "  inflating: research-biocv-proj/data/processed/CT/C3N-03430.npy  \n",
            "  inflating: research-biocv-proj/data/processed/CT/C3N-03670.npy  \n",
            "  inflating: research-biocv-proj/data/processed/CT/C3N-03754.npy  \n",
            "  inflating: research-biocv-proj/data/processed/labels.txt  \n",
            "  inflating: research-biocv-proj/data/processed/overfit.txt  \n",
            "  inflating: research-biocv-proj/data/processed/train.txt  \n",
            "  inflating: research-biocv-proj/data/processed/val.txt  \n",
            "   creating: research-biocv-proj/data/processed/WSI/\n",
            "   creating: research-biocv-proj/data/processed/WSI/G1/\n",
            "   creating: research-biocv-proj/data/processed/WSI/G1/C3L-00599/\n",
            "  inflating: research-biocv-proj/data/processed/WSI/G1/C3L-00599/patch_0.npy  \n",
            "  inflating: research-biocv-proj/data/processed/WSI/G1/C3L-00599/patch_1.npy  \n",
            "  inflating: research-biocv-proj/data/processed/WSI/G1/C3L-00599/patch_10.npy  \n",
            "  inflating: research-biocv-proj/data/processed/WSI/G1/C3L-00599/patch_11.npy  \n",
            "  inflating: research-biocv-proj/data/processed/WSI/G1/C3L-00599/patch_12.npy  \n",
            "  inflating: research-biocv-proj/data/processed/WSI/G1/C3L-00599/patch_13.npy  \n",
            "  inflating: research-biocv-proj/data/processed/WSI/G1/C3L-00599/patch_14.npy  \n",
            "  inflating: research-biocv-proj/data/processed/WSI/G1/C3L-00599/patch_15.npy  \n",
            "  inflating: research-biocv-proj/data/processed/WSI/G1/C3L-00599/patch_2.npy  \n",
            "  inflating: research-biocv-proj/data/processed/WSI/G1/C3L-00599/patch_3.npy  \n",
            "  inflating: research-biocv-proj/data/processed/WSI/G1/C3L-00599/patch_4.npy  \n",
            "  inflating: research-biocv-proj/data/processed/WSI/G1/C3L-00599/patch_5.npy  \n",
            "  inflating: research-biocv-proj/data/processed/WSI/G1/C3L-00599/patch_6.npy  \n",
            "  inflating: research-biocv-proj/data/processed/WSI/G1/C3L-00599/patch_7.npy  \n",
            "  inflating: research-biocv-proj/data/processed/WSI/G1/C3L-00599/patch_8.npy  \n",
            "  inflating: research-biocv-proj/data/processed/WSI/G1/C3L-00599/patch_9.npy  \n",
            "   creating: research-biocv-proj/data/processed/WSI/G1/C3L-00622/\n",
            "  inflating: research-biocv-proj/data/processed/WSI/G1/C3L-00622/patch_0.npy  \n",
            "  inflating: research-biocv-proj/data/processed/WSI/G1/C3L-00622/patch_1.npy  \n",
            "  inflating: research-biocv-proj/data/processed/WSI/G1/C3L-00622/patch_10.npy  \n",
            "  inflating: research-biocv-proj/data/processed/WSI/G1/C3L-00622/patch_11.npy  \n",
            "  inflating: research-biocv-proj/data/processed/WSI/G1/C3L-00622/patch_12.npy  \n",
            "  inflating: research-biocv-proj/data/processed/WSI/G1/C3L-00622/patch_13.npy  \n",
            "  inflating: research-biocv-proj/data/processed/WSI/G1/C3L-00622/patch_14.npy  \n",
            "  inflating: research-biocv-proj/data/processed/WSI/G1/C3L-00622/patch_15.npy  \n",
            "  inflating: research-biocv-proj/data/processed/WSI/G1/C3L-00622/patch_2.npy  \n",
            "  inflating: research-biocv-proj/data/processed/WSI/G1/C3L-00622/patch_3.npy  \n",
            "  inflating: research-biocv-proj/data/processed/WSI/G1/C3L-00622/patch_4.npy  \n",
            "  inflating: research-biocv-proj/data/processed/WSI/G1/C3L-00622/patch_5.npy  \n",
            "  inflating: research-biocv-proj/data/processed/WSI/G1/C3L-00622/patch_6.npy  \n",
            "  inflating: research-biocv-proj/data/processed/WSI/G1/C3L-00622/patch_7.npy  \n",
            "  inflating: research-biocv-proj/data/processed/WSI/G1/C3L-00622/patch_8.npy  \n",
            "  inflating: research-biocv-proj/data/processed/WSI/G1/C3L-00622/patch_9.npy  \n",
            "   creating: research-biocv-proj/data/processed/WSI/G2/\n",
            "   creating: research-biocv-proj/data/processed/WSI/G2/C3L-00189/\n",
            "  inflating: research-biocv-proj/data/processed/WSI/G2/C3L-00189/patch_0.npy  \n",
            "  inflating: research-biocv-proj/data/processed/WSI/G2/C3L-00189/patch_1.npy  \n",
            "  inflating: research-biocv-proj/data/processed/WSI/G2/C3L-00189/patch_10.npy  \n",
            "  inflating: research-biocv-proj/data/processed/WSI/G2/C3L-00189/patch_11.npy  \n",
            "  inflating: research-biocv-proj/data/processed/WSI/G2/C3L-00189/patch_12.npy  \n",
            "  inflating: research-biocv-proj/data/processed/WSI/G2/C3L-00189/patch_13.npy  \n",
            "  inflating: research-biocv-proj/data/processed/WSI/G2/C3L-00189/patch_14.npy  \n",
            "  inflating: research-biocv-proj/data/processed/WSI/G2/C3L-00189/patch_15.npy  \n",
            "  inflating: research-biocv-proj/data/processed/WSI/G2/C3L-00189/patch_2.npy  \n",
            "  inflating: research-biocv-proj/data/processed/WSI/G2/C3L-00189/patch_3.npy  \n",
            "  inflating: research-biocv-proj/data/processed/WSI/G2/C3L-00189/patch_4.npy  \n",
            "  inflating: research-biocv-proj/data/processed/WSI/G2/C3L-00189/patch_5.npy  \n",
            "  inflating: research-biocv-proj/data/processed/WSI/G2/C3L-00189/patch_6.npy  \n",
            "  inflating: research-biocv-proj/data/processed/WSI/G2/C3L-00189/patch_7.npy  \n",
            "  inflating: research-biocv-proj/data/processed/WSI/G2/C3L-00189/patch_8.npy  \n",
            "  inflating: research-biocv-proj/data/processed/WSI/G2/C3L-00189/patch_9.npy  \n",
            "   creating: research-biocv-proj/data/processed/WSI/G2/C3L-00401/\n",
            "  inflating: research-biocv-proj/data/processed/WSI/G2/C3L-00401/patch_0.npy  \n",
            "  inflating: research-biocv-proj/data/processed/WSI/G2/C3L-00401/patch_1.npy  \n",
            "  inflating: research-biocv-proj/data/processed/WSI/G2/C3L-00401/patch_10.npy  \n",
            "  inflating: research-biocv-proj/data/processed/WSI/G2/C3L-00401/patch_11.npy  \n",
            "  inflating: research-biocv-proj/data/processed/WSI/G2/C3L-00401/patch_12.npy  \n",
            "  inflating: research-biocv-proj/data/processed/WSI/G2/C3L-00401/patch_13.npy  \n",
            "  inflating: research-biocv-proj/data/processed/WSI/G2/C3L-00401/patch_14.npy  \n",
            "  inflating: research-biocv-proj/data/processed/WSI/G2/C3L-00401/patch_15.npy  \n",
            "  inflating: research-biocv-proj/data/processed/WSI/G2/C3L-00401/patch_2.npy  \n",
            "  inflating: research-biocv-proj/data/processed/WSI/G2/C3L-00401/patch_3.npy  \n",
            "  inflating: research-biocv-proj/data/processed/WSI/G2/C3L-00401/patch_4.npy  \n",
            "  inflating: research-biocv-proj/data/processed/WSI/G2/C3L-00401/patch_5.npy  \n",
            "  inflating: research-biocv-proj/data/processed/WSI/G2/C3L-00401/patch_6.npy  \n",
            "  inflating: research-biocv-proj/data/processed/WSI/G2/C3L-00401/patch_7.npy  \n",
            "  inflating: research-biocv-proj/data/processed/WSI/G2/C3L-00401/patch_8.npy  \n",
            "  inflating: research-biocv-proj/data/processed/WSI/G2/C3L-00401/patch_9.npy  \n",
            "   creating: research-biocv-proj/data/processed/WSI/G2/C3L-00625/\n",
            "  inflating: research-biocv-proj/data/processed/WSI/G2/C3L-00625/patch_0.npy  \n",
            "  inflating: research-biocv-proj/data/processed/WSI/G2/C3L-00625/patch_1.npy  \n",
            "  inflating: research-biocv-proj/data/processed/WSI/G2/C3L-00625/patch_10.npy  \n",
            "  inflating: research-biocv-proj/data/processed/WSI/G2/C3L-00625/patch_11.npy  \n",
            "  inflating: research-biocv-proj/data/processed/WSI/G2/C3L-00625/patch_12.npy  \n",
            "  inflating: research-biocv-proj/data/processed/WSI/G2/C3L-00625/patch_13.npy  \n",
            "  inflating: research-biocv-proj/data/processed/WSI/G2/C3L-00625/patch_14.npy  \n",
            "  inflating: research-biocv-proj/data/processed/WSI/G2/C3L-00625/patch_15.npy  \n",
            "  inflating: research-biocv-proj/data/processed/WSI/G2/C3L-00625/patch_2.npy  \n",
            "  inflating: research-biocv-proj/data/processed/WSI/G2/C3L-00625/patch_3.npy  \n",
            "  inflating: research-biocv-proj/data/processed/WSI/G2/C3L-00625/patch_4.npy  \n",
            "  inflating: research-biocv-proj/data/processed/WSI/G2/C3L-00625/patch_5.npy  \n",
            "  inflating: research-biocv-proj/data/processed/WSI/G2/C3L-00625/patch_6.npy  \n",
            "  inflating: research-biocv-proj/data/processed/WSI/G2/C3L-00625/patch_7.npy  \n",
            "  inflating: research-biocv-proj/data/processed/WSI/G2/C3L-00625/patch_8.npy  \n",
            "  inflating: research-biocv-proj/data/processed/WSI/G2/C3L-00625/patch_9.npy  \n"
          ]
        }
      ]
    },
    {
      "cell_type": "code",
      "execution_count": 2,
      "metadata": {
        "id": "qKtI7Fw8cazu"
      },
      "outputs": [],
      "source": [
        "import sys\n",
        "from pathlib import Path\n",
        "\n",
        "# Add the 'data' directory to sys.path\n",
        "sys.path.append(str(Path('research-biocv-proj').resolve()))\n",
        "from data.unimodal import *\n",
        "from pathlib import Path\n",
        "\n",
        "import numpy as np\n",
        "import torch\n",
        "from torch.utils.data import DataLoader"
      ]
    },
    {
      "cell_type": "code",
      "source": [
        "# Instantiate the dataset\n",
        "dataset = UnimodalCTDataset(split='train', dataset_path = \"research-biocv-proj/data/processed/\")\n",
        "\n",
        "# Check the length of the dataset\n",
        "print(f\"Dataset length: {len(dataset)}\")\n",
        "\n",
        "# Check the first few items in the dataset\n",
        "for i in range(3):\n",
        "    item = dataset[i]\n",
        "    print(f\"Item {i}:\")\n",
        "    print(f\"  Patient ID: {item['patient_id']}\")\n",
        "    print(f\"  Frame shape: {item['frame'].shape}\")\n",
        "    print(f\"  Label: {item['label']}\")\n",
        "\n",
        "# Check if DataLoader works with the dataset\n",
        "dataloader = DataLoader(dataset, batch_size=4, shuffle=True)\n",
        "\n",
        "# Get a batch of data\n",
        "batch = next(iter(dataloader))\n",
        "\n",
        "# Check the batch\n",
        "print(f\"Batch patient IDs: {batch['patient_id']}\")\n",
        "print(f\"Batch frame shape: {batch['frame'].shape}\")\n",
        "print(f\"Batch labels: {batch['label']}\")\n",
        "\n",
        "# Move batch to device (e.g., GPU if available)\n",
        "device = torch.device(\"cuda\" if torch.cuda.is_available() else \"cpu\")\n",
        "dataset.move_batch_to_device(batch, device)\n",
        "print(f\"Batch moved to device: {device}\")"
      ],
      "metadata": {
        "colab": {
          "base_uri": "https://localhost:8080/"
        },
        "id": "flFTYnq5eTCz",
        "outputId": "51dd5c86-a995-410e-8461-d41da9ba1691"
      },
      "execution_count": 7,
      "outputs": [
        {
          "output_type": "stream",
          "name": "stdout",
          "text": [
            "Dataset length: 1508\n",
            "Item 0:\n",
            "  Patient ID: C3N-02295\n",
            "  Frame shape: (244, 244)\n",
            "  Label: 0\n",
            "Item 1:\n",
            "  Patient ID: C3N-02295\n",
            "  Frame shape: (244, 244)\n",
            "  Label: 0\n",
            "Item 2:\n",
            "  Patient ID: C3N-02295\n",
            "  Frame shape: (244, 244)\n",
            "  Label: 0\n",
            "Batch patient IDs: ['C3N-02295', 'C3N-01382', 'C3N-03426', 'C3N-00957']\n",
            "Batch frame shape: torch.Size([4, 244, 244])\n",
            "Batch labels: tensor([0, 2, 1, 1])\n",
            "Batch moved to device: cpu\n"
          ]
        }
      ]
    }
  ],
  "metadata": {
    "language_info": {
      "name": "python"
    },
    "colab": {
      "provenance": [],
      "include_colab_link": true
    },
    "kernelspec": {
      "name": "python3",
      "display_name": "Python 3"
    }
  },
  "nbformat": 4,
  "nbformat_minor": 0
}