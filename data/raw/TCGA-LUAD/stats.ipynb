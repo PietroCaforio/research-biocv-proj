{
 "cells": [
  {
   "cell_type": "code",
   "execution_count": 1,
   "id": "9380fd9d",
   "metadata": {},
   "outputs": [],
   "source": [
    "import pandas as pd\n",
    "clinical = pd.read_csv(\"LUAD_clinical.tsv\", sep=\"\\t\").rename(columns={\"cases.submitter_id\":\"Case Submitter ID\",\"demographic.days_to_death\":\"Days to Death\",\"diagnoses.days_to_last_follow_up\":\"Days to Last Follow Up\",\"demographic.vital_status\":\"Vital Status\", \"diagnoses.tumor_grade\":\"Tumor Grade\"})\n",
    "mri = pd.read_csv(\"LUAD_mri.csv\", sep=\";\").rename(columns={\"Patient ID\":\"Case Submitter ID\"})\n",
    "histo = pd.read_csv(\"LUAD_histo.csv\").rename(columns={\"PatientID\":\"Case Submitter ID\"})\n"
   ]
  },
  {
   "cell_type": "code",
   "execution_count": 2,
   "id": "5ef4a9c8",
   "metadata": {},
   "outputs": [
    {
     "data": {
      "text/html": [
       "<div>\n",
       "<style scoped>\n",
       "    .dataframe tbody tr th:only-of-type {\n",
       "        vertical-align: middle;\n",
       "    }\n",
       "\n",
       "    .dataframe tbody tr th {\n",
       "        vertical-align: top;\n",
       "    }\n",
       "\n",
       "    .dataframe thead th {\n",
       "        text-align: right;\n",
       "    }\n",
       "</style>\n",
       "<table border=\"1\" class=\"dataframe\">\n",
       "  <thead>\n",
       "    <tr style=\"text-align: right;\">\n",
       "      <th></th>\n",
       "      <th>Case Submitter ID</th>\n",
       "      <th>Days to Death</th>\n",
       "      <th>Days to Last Follow Up</th>\n",
       "      <th>Vital Status</th>\n",
       "      <th>Tumor Grade</th>\n",
       "    </tr>\n",
       "  </thead>\n",
       "  <tbody>\n",
       "    <tr>\n",
       "      <th>0</th>\n",
       "      <td>TCGA-62-A471</td>\n",
       "      <td>1246.0</td>\n",
       "      <td>1246.0</td>\n",
       "      <td>Alive</td>\n",
       "      <td>'--</td>\n",
       "    </tr>\n",
       "    <tr>\n",
       "      <th>4</th>\n",
       "      <td>TCGA-67-3773</td>\n",
       "      <td>427.0</td>\n",
       "      <td>427.0</td>\n",
       "      <td>Alive</td>\n",
       "      <td>'--</td>\n",
       "    </tr>\n",
       "    <tr>\n",
       "      <th>6</th>\n",
       "      <td>TCGA-NJ-A7XG</td>\n",
       "      <td>617.0</td>\n",
       "      <td>617.0</td>\n",
       "      <td>Alive</td>\n",
       "      <td>'--</td>\n",
       "    </tr>\n",
       "    <tr>\n",
       "      <th>10</th>\n",
       "      <td>TCGA-91-6848</td>\n",
       "      <td>224.0</td>\n",
       "      <td>224.0</td>\n",
       "      <td>Alive</td>\n",
       "      <td>'--</td>\n",
       "    </tr>\n",
       "    <tr>\n",
       "      <th>13</th>\n",
       "      <td>TCGA-55-6986</td>\n",
       "      <td>3261.0</td>\n",
       "      <td>3261.0</td>\n",
       "      <td>Alive</td>\n",
       "      <td>'--</td>\n",
       "    </tr>\n",
       "    <tr>\n",
       "      <th>...</th>\n",
       "      <td>...</td>\n",
       "      <td>...</td>\n",
       "      <td>...</td>\n",
       "      <td>...</td>\n",
       "      <td>...</td>\n",
       "    </tr>\n",
       "    <tr>\n",
       "      <th>2456</th>\n",
       "      <td>TCGA-78-7167</td>\n",
       "      <td>2681</td>\n",
       "      <td>2681.0</td>\n",
       "      <td>Dead</td>\n",
       "      <td>'--</td>\n",
       "    </tr>\n",
       "    <tr>\n",
       "      <th>2458</th>\n",
       "      <td>TCGA-55-8616</td>\n",
       "      <td>48.0</td>\n",
       "      <td>48.0</td>\n",
       "      <td>Alive</td>\n",
       "      <td>'--</td>\n",
       "    </tr>\n",
       "    <tr>\n",
       "      <th>2460</th>\n",
       "      <td>TCGA-55-7570</td>\n",
       "      <td>824.0</td>\n",
       "      <td>824.0</td>\n",
       "      <td>Alive</td>\n",
       "      <td>'--</td>\n",
       "    </tr>\n",
       "    <tr>\n",
       "      <th>2462</th>\n",
       "      <td>TCGA-78-7146</td>\n",
       "      <td>173</td>\n",
       "      <td>173.0</td>\n",
       "      <td>Dead</td>\n",
       "      <td>'--</td>\n",
       "    </tr>\n",
       "    <tr>\n",
       "      <th>2464</th>\n",
       "      <td>TCGA-44-3398</td>\n",
       "      <td>1163.0</td>\n",
       "      <td>1163.0</td>\n",
       "      <td>Alive</td>\n",
       "      <td>'--</td>\n",
       "    </tr>\n",
       "  </tbody>\n",
       "</table>\n",
       "<p>513 rows × 5 columns</p>\n",
       "</div>"
      ],
      "text/plain": [
       "     Case Submitter ID Days to Death Days to Last Follow Up Vital Status  \\\n",
       "0         TCGA-62-A471        1246.0                 1246.0        Alive   \n",
       "4         TCGA-67-3773         427.0                  427.0        Alive   \n",
       "6         TCGA-NJ-A7XG         617.0                  617.0        Alive   \n",
       "10        TCGA-91-6848         224.0                  224.0        Alive   \n",
       "13        TCGA-55-6986        3261.0                 3261.0        Alive   \n",
       "...                ...           ...                    ...          ...   \n",
       "2456      TCGA-78-7167          2681                 2681.0         Dead   \n",
       "2458      TCGA-55-8616          48.0                   48.0        Alive   \n",
       "2460      TCGA-55-7570         824.0                  824.0        Alive   \n",
       "2462      TCGA-78-7146           173                  173.0         Dead   \n",
       "2464      TCGA-44-3398        1163.0                 1163.0        Alive   \n",
       "\n",
       "     Tumor Grade  \n",
       "0            '--  \n",
       "4            '--  \n",
       "6            '--  \n",
       "10           '--  \n",
       "13           '--  \n",
       "...          ...  \n",
       "2456         '--  \n",
       "2458         '--  \n",
       "2460         '--  \n",
       "2462         '--  \n",
       "2464         '--  \n",
       "\n",
       "[513 rows x 5 columns]"
      ]
     },
     "execution_count": 2,
     "metadata": {},
     "output_type": "execute_result"
    }
   ],
   "source": [
    "clinical = clinical[[\"Case Submitter ID\", \"Days to Death\", \"Days to Last Follow Up\", \"Vital Status\", \"Tumor Grade\"]]\n",
    "clinical[\"Days to Last Follow Up\"] = clinical[\"Days to Last Follow Up\"].replace([' ', \"'--\"], pd.NA) \n",
    "clinical[\"Days to Death\"] = clinical[\"Days to Death\"].replace([' ', \"'--\"], pd.NA)\n",
    "clinical[\"Days to Death\"] = clinical[\"Days to Death\"].fillna(clinical[\"Days to Last Follow Up\"])\n",
    "clinical = clinical.dropna()\n",
    "clinical = clinical.drop_duplicates([\"Case Submitter ID\"])\n",
    "clinical"
   ]
  },
  {
   "cell_type": "code",
   "execution_count": 3,
   "id": "027da473",
   "metadata": {},
   "outputs": [
    {
     "name": "stdout",
     "output_type": "stream",
     "text": [
      "Rad patients for which I have labels: 31\n"
     ]
    },
    {
     "data": {
      "text/plain": [
       "Tumor Grade\n",
       "'--    31\n",
       "Name: count, dtype: int64"
      ]
     },
     "execution_count": 3,
     "metadata": {},
     "output_type": "execute_result"
    }
   ],
   "source": [
    "rad_clinical = clinical[clinical[\"Case Submitter ID\"].isin(mri[\"Case Submitter ID\"].values)]\n",
    "print(\"Rad patients for which I have labels:\",len(rad_clinical))\n",
    "rad_clinical[\"Tumor Grade\"].value_counts()"
   ]
  },
  {
   "cell_type": "code",
   "execution_count": 4,
   "id": "b9ee98d8",
   "metadata": {},
   "outputs": [
    {
     "name": "stdout",
     "output_type": "stream",
     "text": [
      "Histo patients for which I have labels: 513\n"
     ]
    },
    {
     "data": {
      "text/plain": [
       "Tumor Grade\n",
       "'--    513\n",
       "Name: count, dtype: int64"
      ]
     },
     "execution_count": 4,
     "metadata": {},
     "output_type": "execute_result"
    }
   ],
   "source": [
    "histo_clinical = clinical[clinical[\"Case Submitter ID\"].isin(histo[\"Case Submitter ID\"].values)]\n",
    "print(\"Histo patients for which I have labels:\",len(histo_clinical))\n",
    "histo_clinical[\"Tumor Grade\"].value_counts()"
   ]
  },
  {
   "cell_type": "code",
   "execution_count": 5,
   "id": "9d67a964",
   "metadata": {},
   "outputs": [
    {
     "name": "stdout",
     "output_type": "stream",
     "text": [
      "Patients for which I have labels and at the same time histo and rad: 31\n"
     ]
    },
    {
     "data": {
      "text/plain": [
       "Tumor Grade\n",
       "'--    31\n",
       "Name: count, dtype: int64"
      ]
     },
     "execution_count": 5,
     "metadata": {},
     "output_type": "execute_result"
    }
   ],
   "source": [
    "both_clinical = clinical[clinical[\"Case Submitter ID\"].isin(set(histo[\"Case Submitter ID\"].values) & set(mri[\"Case Submitter ID\"].values))]\n",
    "print(\"Patients for which I have labels and at the same time histo and rad:\",len(both_clinical))\n",
    "both_clinical[\"Tumor Grade\"].value_counts()"
   ]
  },
  {
   "cell_type": "code",
   "execution_count": null,
   "id": "a66dcee1",
   "metadata": {},
   "outputs": [],
   "source": []
  }
 ],
 "metadata": {
  "kernelspec": {
   "display_name": "research_biocv_proj",
   "language": "python",
   "name": "python3"
  },
  "language_info": {
   "codemirror_mode": {
    "name": "ipython",
    "version": 3
   },
   "file_extension": ".py",
   "mimetype": "text/x-python",
   "name": "python",
   "nbconvert_exporter": "python",
   "pygments_lexer": "ipython3",
   "version": "3.9.20"
  }
 },
 "nbformat": 4,
 "nbformat_minor": 5
}
