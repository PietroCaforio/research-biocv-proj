{
 "cells": [
  {
   "cell_type": "code",
   "execution_count": 14,
   "id": "c9e1cf3a",
   "metadata": {},
   "outputs": [],
   "source": [
    "import pandas as pd\n",
    "\n",
    "qa_results = pd.read_csv(\"./qa-results.csv\")\n",
    "\n",
    "\n",
    "segmentations_df = qa_results[[\"PatientID\",\"SeriesInstanceUID\",\"AISegmentation\"]].rename(columns={\"SeriesInstanceUID\":\"ReferencedSeriesInstanceUID\",\"AISegmentation\":\"SeriesInstanceUID\"}) # Must have PatientID, AnnotationType (Segmentation),ReferencedSeriesInstanceUID\n",
    "segmentations_df[\"AnnotationType\"]= \"Segmentation\"\n",
    "segmentations_df.to_csv(\"segmentations.csv\",index=False)\n",
    "segmentations_metadata = qa_results[[\"PatientID\", \"AISegmentation\"]].rename(columns={\"AISegmentation\":\"SeriesInstanceUID\"})\n",
    "segmentations_metadata[\"File Location\"] = segmentations_metadata[\"SeriesInstanceUID\"]\n",
    "segmentations_metadata.to_csv(\"metadata.csv\",index=False)\n",
    "# Must have PatientID, SeriesInstanceUID (that must match with segmentations df) ( I could set the AISegmentation field), FileLocation (which is basically AISegmentation)"
   ]
  }
 ],
 "metadata": {
  "kernelspec": {
   "display_name": "research_biocv_proj",
   "language": "python",
   "name": "python3"
  },
  "language_info": {
   "codemirror_mode": {
    "name": "ipython",
    "version": 3
   },
   "file_extension": ".py",
   "mimetype": "text/x-python",
   "name": "python",
   "nbconvert_exporter": "python",
   "pygments_lexer": "ipython3",
   "version": "3.9.20"
  }
 },
 "nbformat": 4,
 "nbformat_minor": 5
}
