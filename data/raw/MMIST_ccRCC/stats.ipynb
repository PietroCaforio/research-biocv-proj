{
 "cells": [
  {
   "cell_type": "code",
   "execution_count": 1,
   "id": "afa202dc",
   "metadata": {},
   "outputs": [],
   "source": [
    "import pandas as pd\n",
    "def process_clinical(clinical):\n",
    "    clinical = clinical[[\"Case Submitter ID\", \"Days to Death\", \"Days to Last Follow Up\", \"Vital Status\", \"Tumor Grade\"]]\n",
    "    clinical[\"Days to Last Follow Up\"] = clinical[\"Days to Last Follow Up\"].replace([' ', \"'--\"], pd.NA) \n",
    "    clinical[\"Days to Death\"] = clinical[\"Days to Death\"].replace([' ', \"'--\"], pd.NA)\n",
    "    clinical[\"Days to Death\"] = clinical[\"Days to Death\"].fillna(clinical[\"Days to Last Follow Up\"])\n",
    "    clinical = clinical.dropna()\n",
    "    clinical = clinical.drop_duplicates([\"Case Submitter ID\"])\n",
    "    return clinical"
   ]
  },
  {
   "cell_type": "code",
   "execution_count": 2,
   "id": "4e07e143",
   "metadata": {},
   "outputs": [
    {
     "name": "stderr",
     "output_type": "stream",
     "text": [
      "/tmp/ipykernel_1660448/1508998767.py:4: SettingWithCopyWarning: \n",
      "A value is trying to be set on a copy of a slice from a DataFrame.\n",
      "Try using .loc[row_indexer,col_indexer] = value instead\n",
      "\n",
      "See the caveats in the documentation: https://pandas.pydata.org/pandas-docs/stable/user_guide/indexing.html#returning-a-view-versus-a-copy\n",
      "  clinical[\"Days to Last Follow Up\"] = clinical[\"Days to Last Follow Up\"].replace([' ', \"'--\"], pd.NA)\n",
      "/tmp/ipykernel_1660448/1508998767.py:5: SettingWithCopyWarning: \n",
      "A value is trying to be set on a copy of a slice from a DataFrame.\n",
      "Try using .loc[row_indexer,col_indexer] = value instead\n",
      "\n",
      "See the caveats in the documentation: https://pandas.pydata.org/pandas-docs/stable/user_guide/indexing.html#returning-a-view-versus-a-copy\n",
      "  clinical[\"Days to Death\"] = clinical[\"Days to Death\"].replace([' ', \"'--\"], pd.NA)\n",
      "/tmp/ipykernel_1660448/1508998767.py:6: SettingWithCopyWarning: \n",
      "A value is trying to be set on a copy of a slice from a DataFrame.\n",
      "Try using .loc[row_indexer,col_indexer] = value instead\n",
      "\n",
      "See the caveats in the documentation: https://pandas.pydata.org/pandas-docs/stable/user_guide/indexing.html#returning-a-view-versus-a-copy\n",
      "  clinical[\"Days to Death\"] = clinical[\"Days to Death\"].fillna(clinical[\"Days to Last Follow Up\"])\n",
      "/tmp/ipykernel_1660448/1508998767.py:4: SettingWithCopyWarning: \n",
      "A value is trying to be set on a copy of a slice from a DataFrame.\n",
      "Try using .loc[row_indexer,col_indexer] = value instead\n",
      "\n",
      "See the caveats in the documentation: https://pandas.pydata.org/pandas-docs/stable/user_guide/indexing.html#returning-a-view-versus-a-copy\n",
      "  clinical[\"Days to Last Follow Up\"] = clinical[\"Days to Last Follow Up\"].replace([' ', \"'--\"], pd.NA)\n",
      "/tmp/ipykernel_1660448/1508998767.py:5: SettingWithCopyWarning: \n",
      "A value is trying to be set on a copy of a slice from a DataFrame.\n",
      "Try using .loc[row_indexer,col_indexer] = value instead\n",
      "\n",
      "See the caveats in the documentation: https://pandas.pydata.org/pandas-docs/stable/user_guide/indexing.html#returning-a-view-versus-a-copy\n",
      "  clinical[\"Days to Death\"] = clinical[\"Days to Death\"].replace([' ', \"'--\"], pd.NA)\n",
      "/tmp/ipykernel_1660448/1508998767.py:6: SettingWithCopyWarning: \n",
      "A value is trying to be set on a copy of a slice from a DataFrame.\n",
      "Try using .loc[row_indexer,col_indexer] = value instead\n",
      "\n",
      "See the caveats in the documentation: https://pandas.pydata.org/pandas-docs/stable/user_guide/indexing.html#returning-a-view-versus-a-copy\n",
      "  clinical[\"Days to Death\"] = clinical[\"Days to Death\"].fillna(clinical[\"Days to Last Follow Up\"])\n",
      "/tmp/ipykernel_1660448/1508998767.py:4: SettingWithCopyWarning: \n",
      "A value is trying to be set on a copy of a slice from a DataFrame.\n",
      "Try using .loc[row_indexer,col_indexer] = value instead\n",
      "\n",
      "See the caveats in the documentation: https://pandas.pydata.org/pandas-docs/stable/user_guide/indexing.html#returning-a-view-versus-a-copy\n",
      "  clinical[\"Days to Last Follow Up\"] = clinical[\"Days to Last Follow Up\"].replace([' ', \"'--\"], pd.NA)\n",
      "/tmp/ipykernel_1660448/1508998767.py:5: SettingWithCopyWarning: \n",
      "A value is trying to be set on a copy of a slice from a DataFrame.\n",
      "Try using .loc[row_indexer,col_indexer] = value instead\n",
      "\n",
      "See the caveats in the documentation: https://pandas.pydata.org/pandas-docs/stable/user_guide/indexing.html#returning-a-view-versus-a-copy\n",
      "  clinical[\"Days to Death\"] = clinical[\"Days to Death\"].replace([' ', \"'--\"], pd.NA)\n",
      "/tmp/ipykernel_1660448/1508998767.py:6: SettingWithCopyWarning: \n",
      "A value is trying to be set on a copy of a slice from a DataFrame.\n",
      "Try using .loc[row_indexer,col_indexer] = value instead\n",
      "\n",
      "See the caveats in the documentation: https://pandas.pydata.org/pandas-docs/stable/user_guide/indexing.html#returning-a-view-versus-a-copy\n",
      "  clinical[\"Days to Death\"] = clinical[\"Days to Death\"].fillna(clinical[\"Days to Last Follow Up\"])\n"
     ]
    }
   ],
   "source": [
    "\n",
    "\n",
    "ct_df = pd.read_csv(\"./ct.csv\").rename(columns={\"case_id\":\"Case Submitter ID\"})\n",
    "ct_patients = set(ct_df[\"Case Submitter ID\"].values) \n",
    "histo_df = pd.read_csv(\"histo_patients.csv\").rename(columns={\"case_id\":\"Case Submitter ID\"})\n",
    "histo_patients = set(histo_df[\"Case Submitter ID\"].values)\n",
    "clinical_cptac_df1 = pd.read_csv(\"clinical_cptac1.tsv\", sep=\"\\t\").rename(columns={\"cases.submitter_id\":\"Case Submitter ID\",\"demographic.days_to_death\":\"Days to Death\",\"diagnoses.days_to_last_follow_up\":\"Days to Last Follow Up\",\"demographic.vital_status\":\"Vital Status\", \"diagnoses.tumor_grade\":\"Tumor Grade\" })\n",
    "clinical_cptac_df1 = process_clinical(clinical_cptac_df1)\n",
    "clinical_cptac_df2 = pd.read_csv(\"clinical_cptac2.csv\")\n",
    "clinical_cptac_df2 = process_clinical(clinical_cptac_df2)\n",
    "clinical_tcga_df = pd.read_csv(\"clinical_tcga.tsv\", sep=\"\\t\").rename(columns={\"cases.submitter_id\":\"Case Submitter ID\",\"demographic.days_to_death\":\"Days to Death\",\"diagnoses.days_to_last_follow_up\":\"Days to Last Follow Up\",\"demographic.vital_status\":\"Vital Status\", \"diagnoses.tumor_grade\":\"Tumor Grade\" })\n",
    "clinical_tcga_df = process_clinical(clinical_tcga_df)\n",
    "\n",
    "clinical = pd.concat([clinical_cptac_df1,clinical_cptac_df2,clinical_tcga_df])\n",
    "clinical_patients = set(clinical[\"Case Submitter ID\"].values)"
   ]
  },
  {
   "cell_type": "code",
   "execution_count": 3,
   "id": "b43d11bd",
   "metadata": {},
   "outputs": [
    {
     "name": "stdout",
     "output_type": "stream",
     "text": [
      "Patients for which I have labels, rad and histo at the same time: 239\n"
     ]
    }
   ],
   "source": [
    "print(\"Patients for which I have labels, rad and histo at the same time:\", len(clinical_patients & ct_patients & histo_patients))"
   ]
  },
  {
   "cell_type": "code",
   "execution_count": 4,
   "id": "f1dd26bf",
   "metadata": {},
   "outputs": [
    {
     "name": "stdout",
     "output_type": "stream",
     "text": [
      "Patients for which I have labels and rad: 239\n"
     ]
    }
   ],
   "source": [
    "print(\"Patients for which I have labels and rad:\",len(ct_patients & clinical_patients))"
   ]
  },
  {
   "cell_type": "code",
   "execution_count": 5,
   "id": "4838017d",
   "metadata": {},
   "outputs": [
    {
     "name": "stdout",
     "output_type": "stream",
     "text": [
      "Patients for which I have labels and histo: 601\n"
     ]
    }
   ],
   "source": [
    "print(\"Patients for which I have labels and histo:\",len(histo_patients & clinical_patients))"
   ]
  },
  {
   "cell_type": "code",
   "execution_count": 6,
   "id": "49e5b844",
   "metadata": {},
   "outputs": [],
   "source": [
    "cptac_seg_df = pd.read_csv(\"cptac_segmentations.csv\",sep=\";\").rename(columns={\"Patient ID\": \"Case Submitter ID\"})\n",
    "cptac_seg_patients = set(cptac_seg_df[\"Case Submitter ID\"])\n",
    "\n",
    "tcga_seg_df = pd.read_csv(\"tcga_segmentations.csv\").rename(columns={\"PatientID\": \"Case Submitter ID\"})\n",
    "tcga_seg_patients = set(tcga_seg_df[\"Case Submitter ID\"])\n"
   ]
  },
  {
   "cell_type": "code",
   "execution_count": 7,
   "id": "6eaf4321",
   "metadata": {},
   "outputs": [
    {
     "name": "stdout",
     "output_type": "stream",
     "text": [
      "67\n",
      "TCGA-BP-5186,\n",
      "TCGA-CJ-4886,\n",
      "TCGA-CJ-4641,\n",
      "TCGA-CJ-4889,\n",
      "TCGA-CJ-6030,\n",
      "TCGA-CJ-4905,\n",
      "TCGA-CJ-4637,\n",
      "TCGA-CJ-5679,\n",
      "TCGA-CJ-4920,\n",
      "TCGA-BP-5200,\n",
      "TCGA-CJ-4635,\n",
      "TCGA-CJ-4897,\n",
      "TCGA-CJ-4923,\n",
      "TCGA-CJ-4916,\n",
      "TCGA-CJ-5675,\n",
      "TCGA-CJ-5671,\n",
      "TCGA-CJ-4903,\n",
      "TCGA-DV-5576,\n",
      "TCGA-CJ-4894,\n",
      "TCGA-CJ-6028,\n",
      "TCGA-BP-4994,\n",
      "TCGA-B0-4845,\n",
      "TCGA-BP-4964,\n",
      "TCGA-CJ-4642,\n",
      "TCGA-CJ-4908,\n",
      "TCGA-B0-5706,\n",
      "TCGA-DV-5575,\n",
      "TCGA-CJ-4884,\n",
      "TCGA-CJ-4892,\n",
      "TCGA-CJ-6033,\n",
      "TCGA-DV-5567,\n",
      "TCGA-CJ-4912,\n",
      "TCGA-CJ-4904,\n",
      "TCGA-BP-4347,\n",
      "TCGA-CJ-5680,\n",
      "TCGA-BP-4982,\n",
      "TCGA-DV-A4W0,\n",
      "TCGA-DV-5566,\n",
      "TCGA-BP-5183,\n",
      "TCGA-B0-4713,\n",
      "TCGA-CJ-4871,\n",
      "TCGA-CJ-4899,\n",
      "TCGA-CJ-5677,\n",
      "TCGA-CJ-4893,\n",
      "TCGA-CJ-4885,\n",
      "TCGA-CJ-4895,\n",
      "TCGA-CJ-6027,\n",
      "TCGA-CJ-4902,\n",
      "TCGA-CJ-4891,\n",
      "TCGA-CJ-5686,\n",
      "TCGA-CJ-4907,\n",
      "TCGA-BP-4975,\n",
      "TCGA-BP-4349,\n",
      "TCGA-CJ-4901,\n",
      "TCGA-BP-5199,\n",
      "TCGA-CJ-5678,\n",
      "TCGA-CJ-5672,\n",
      "TCGA-CJ-4887,\n",
      "TCGA-CJ-4918,\n",
      "TCGA-CJ-5683,\n",
      "TCGA-CJ-4870,\n",
      "TCGA-CJ-4873,\n",
      "TCGA-CJ-4876,\n",
      "TCGA-CJ-4900,\n",
      "TCGA-BP-4988,\n",
      "TCGA-BP-4971,\n",
      "TCGA-CJ-5681\n"
     ]
    }
   ],
   "source": [
    "full_patients = clinical_patients & ct_patients & histo_patients & (cptac_seg_patients.union(tcga_seg_patients))\n",
    "tcga_histo_patients_to_download = [p for p in full_patients if p.startswith(\"TCGA\")]\n",
    "print(len(tcga_histo_patients_to_download))\n",
    "print(\",\\n\".join(tcga_histo_patients_to_download))"
   ]
  },
  {
   "cell_type": "code",
   "execution_count": null,
   "id": "942df847",
   "metadata": {},
   "outputs": [
    {
     "name": "stdout",
     "output_type": "stream",
     "text": [
      "877\n"
     ]
    }
   ],
   "source": [
    "manifest = pd.read_csv(\"./WSI/histo_manifest.tsv\",sep=\"\\t\")\n",
    "import re\n",
    "pattern = r'\\b(?:' + '|'.join(map(re.escape, tcga_histo_patients_to_download)) + r')\\b'\n",
    "manifest_new = manifest[manifest[\"filename\"].str.contains(pattern, case=False, na=False)]\n",
    "manifest_new = manifest_new[manifest_new[\"filename\"].str.endswith(\".svs\")]\n",
    "manifest_new.to_csv(\"./WSI/histo_manifest_filtered.txt\",sep=\"\\t\",index=False)\n",
    "#print(len(manifest[manifest[\"filename\"].str.contains(pattern, case=False, na=False)]))"
   ]
  },
  {
   "cell_type": "code",
   "execution_count": null,
   "id": "3d8ac1ec",
   "metadata": {},
   "outputs": [
    {
     "name": "stdout",
     "output_type": "stream",
     "text": [
      "Patients for which I have labels, rad, histo and segmentations at the same time: 118\n",
      "51\n",
      "C3N-02332,\n",
      "C3N-01524,\n",
      "C3L-01464,\n",
      "C3N-01806,\n",
      "C3L-02202,\n",
      "C3N-01902,\n",
      "C3L-00766,\n",
      "C3N-00310,\n",
      "C3N-01905,\n",
      "C3N-01361,\n",
      "C3N-01654,\n",
      "C3L-01462,\n",
      "C3L-01459,\n",
      "C3N-00246,\n",
      "C3N-00494,\n",
      "C3N-02723,\n",
      "C3L-00799,\n",
      "C3L-00817,\n",
      "C3N-00305,\n",
      "C3N-00437,\n",
      "C3N-02015,\n",
      "C3N-00435,\n",
      "C3N-00953,\n",
      "C3N-00733,\n",
      "C3N-00312,\n",
      "C3N-00832,\n",
      "C3L-01034,\n",
      "C3L-01958,\n",
      "C3N-00313,\n",
      "C3N-02265,\n",
      "C3N-01178,\n",
      "C3N-01828,\n",
      "C3L-00792,\n",
      "C3N-01646,\n",
      "C3N-02263,\n",
      "C3N-01648,\n",
      "C3L-00610,\n",
      "C3N-00492,\n",
      "C3N-03018,\n",
      "C3N-01536,\n",
      "C3L-00815,\n",
      "C3N-03019,\n",
      "C3L-01465,\n",
      "C3L-01352,\n",
      "C3L-01976,\n",
      "C3N-00491,\n",
      "C3N-00380,\n",
      "C3L-00812,\n",
      "C3N-01651,\n",
      "C3N-00194,\n",
      "C3L-02841\n"
     ]
    }
   ],
   "source": [
    "print(\"Patients for which I have labels, rad, histo and segmentations at the same time:\", len(clinical_patients & ct_patients & histo_patients & (cptac_seg_patients.union(tcga_seg_patients))))\n",
    "\n",
    "cptac_histo_patients_to_download = [p for p in full_patients if not p.startswith(\"TCGA\")]\n",
    "print(len(cptac_histo_patients_to_download))\n",
    "print(\",\\n\".join(cptac_histo_patients_to_download))"
   ]
  },
  {
   "cell_type": "code",
   "execution_count": 8,
   "id": "7df53d33",
   "metadata": {},
   "outputs": [
    {
     "name": "stdout",
     "output_type": "stream",
     "text": [
      "Patients for which I have labels, rad and segmentations at the same time: 118\n"
     ]
    }
   ],
   "source": [
    "print(\"Patients for which I have labels, rad and segmentations at the same time:\", len(clinical_patients & ct_patients & (cptac_seg_patients.union(tcga_seg_patients))))"
   ]
  },
  {
   "cell_type": "code",
   "execution_count": null,
   "id": "88461787",
   "metadata": {},
   "outputs": [],
   "source": []
  }
 ],
 "metadata": {
  "kernelspec": {
   "display_name": "research_biocv_proj",
   "language": "python",
   "name": "python3"
  },
  "language_info": {
   "codemirror_mode": {
    "name": "ipython",
    "version": 3
   },
   "file_extension": ".py",
   "mimetype": "text/x-python",
   "name": "python",
   "nbconvert_exporter": "python",
   "pygments_lexer": "ipython3",
   "version": "3.9.20"
  }
 },
 "nbformat": 4,
 "nbformat_minor": 5
}
